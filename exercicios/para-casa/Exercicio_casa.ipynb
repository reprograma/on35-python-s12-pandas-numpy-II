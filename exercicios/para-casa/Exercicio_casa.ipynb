{
 "cells": [
  {
   "cell_type": "markdown",
   "metadata": {},
   "source": [
    "# Exercícios Casa "
   ]
  },
  {
   "cell_type": "code",
   "execution_count": 63,
   "metadata": {},
   "outputs": [
    {
     "name": "stdout",
     "output_type": "stream",
     "text": [
      "Requirement already satisfied: pandas in c:\\users\\jenif\\appdata\\local\\programs\\python\\python312\\lib\\site-packages (2.2.2)\n",
      "Requirement already satisfied: numpy>=1.26.0 in c:\\users\\jenif\\appdata\\local\\programs\\python\\python312\\lib\\site-packages (from pandas) (2.0.1)\n",
      "Requirement already satisfied: python-dateutil>=2.8.2 in c:\\users\\jenif\\appdata\\roaming\\python\\python312\\site-packages (from pandas) (2.9.0.post0)\n",
      "Requirement already satisfied: pytz>=2020.1 in c:\\users\\jenif\\appdata\\local\\programs\\python\\python312\\lib\\site-packages (from pandas) (2024.1)\n",
      "Requirement already satisfied: tzdata>=2022.7 in c:\\users\\jenif\\appdata\\local\\programs\\python\\python312\\lib\\site-packages (from pandas) (2024.1)\n",
      "Requirement already satisfied: six>=1.5 in c:\\users\\jenif\\appdata\\roaming\\python\\python312\\site-packages (from python-dateutil>=2.8.2->pandas) (1.16.0)\n"
     ]
    },
    {
     "name": "stderr",
     "output_type": "stream",
     "text": [
      "\n",
      "[notice] A new release of pip is available: 24.0 -> 24.2\n",
      "[notice] To update, run: python.exe -m pip install --upgrade pip\n"
     ]
    },
    {
     "name": "stdout",
     "output_type": "stream",
     "text": [
      "Requirement already satisfied: numpy in c:\\users\\jenif\\appdata\\local\\programs\\python\\python312\\lib\\site-packages (2.0.1)\n"
     ]
    },
    {
     "name": "stderr",
     "output_type": "stream",
     "text": [
      "\n",
      "[notice] A new release of pip is available: 24.0 -> 24.2\n",
      "[notice] To update, run: python.exe -m pip install --upgrade pip\n"
     ]
    },
    {
     "name": "stdout",
     "output_type": "stream",
     "text": [
      "Requirement already satisfied: matplotlib in c:\\users\\jenif\\appdata\\local\\programs\\python\\python312\\lib\\site-packages (3.9.1.post1)\n",
      "Requirement already satisfied: contourpy>=1.0.1 in c:\\users\\jenif\\appdata\\local\\programs\\python\\python312\\lib\\site-packages (from matplotlib) (1.2.1)\n",
      "Requirement already satisfied: cycler>=0.10 in c:\\users\\jenif\\appdata\\local\\programs\\python\\python312\\lib\\site-packages (from matplotlib) (0.12.1)\n",
      "Requirement already satisfied: fonttools>=4.22.0 in c:\\users\\jenif\\appdata\\local\\programs\\python\\python312\\lib\\site-packages (from matplotlib) (4.53.1)\n",
      "Requirement already satisfied: kiwisolver>=1.3.1 in c:\\users\\jenif\\appdata\\local\\programs\\python\\python312\\lib\\site-packages (from matplotlib) (1.4.5)\n",
      "Requirement already satisfied: numpy>=1.23 in c:\\users\\jenif\\appdata\\local\\programs\\python\\python312\\lib\\site-packages (from matplotlib) (2.0.1)\n",
      "Requirement already satisfied: packaging>=20.0 in c:\\users\\jenif\\appdata\\roaming\\python\\python312\\site-packages (from matplotlib) (24.1)\n",
      "Requirement already satisfied: pillow>=8 in c:\\users\\jenif\\appdata\\local\\programs\\python\\python312\\lib\\site-packages (from matplotlib) (10.4.0)\n",
      "Requirement already satisfied: pyparsing>=2.3.1 in c:\\users\\jenif\\appdata\\local\\programs\\python\\python312\\lib\\site-packages (from matplotlib) (3.1.2)\n",
      "Requirement already satisfied: python-dateutil>=2.7 in c:\\users\\jenif\\appdata\\roaming\\python\\python312\\site-packages (from matplotlib) (2.9.0.post0)\n",
      "Requirement already satisfied: six>=1.5 in c:\\users\\jenif\\appdata\\roaming\\python\\python312\\site-packages (from python-dateutil>=2.7->matplotlib) (1.16.0)\n"
     ]
    },
    {
     "name": "stderr",
     "output_type": "stream",
     "text": [
      "\n",
      "[notice] A new release of pip is available: 24.0 -> 24.2\n",
      "[notice] To update, run: python.exe -m pip install --upgrade pip\n"
     ]
    }
   ],
   "source": [
    "!pip install pandas\n",
    "!pip install numpy\n",
    "!pip install matplotlib"
   ]
  },
  {
   "cell_type": "code",
   "execution_count": 64,
   "metadata": {},
   "outputs": [],
   "source": [
    "import pandas as pd\n",
    "import numpy as np"
   ]
  },
  {
   "cell_type": "code",
   "execution_count": 65,
   "metadata": {},
   "outputs": [],
   "source": [
    "np.random.seed(42)"
   ]
  },
  {
   "cell_type": "code",
   "execution_count": 66,
   "metadata": {},
   "outputs": [],
   "source": [
    "categorias = ['Eletrônicos', 'Roupas', 'Alimentos', 'Livros', 'Brinquedos']\n",
    "datas = pd.date_range(start='2023-01-01', end='2023-12-31', freq='D')\n",
    "num_registros = len(datas)"
   ]
  },
  {
   "cell_type": "code",
   "execution_count": 67,
   "metadata": {},
   "outputs": [],
   "source": [
    "data = {\n",
    "       'Data': np.random.choice(datas, num_registros),\n",
    "       'Categoria': np.random.choice(categorias, num_registros),\n",
    "       'Quantidade_Vendida': np.random.randint(1, 100, num_registros),\n",
    "       'Preco_Unitario': np.round(np.random.uniform(10, 500, num_registros), 2)\n",
    "   }\n",
    "df = pd.DataFrame(data)\n",
    "df['Valor_Total'] = df['Quantidade_Vendida'] * df['Preco_Unitario']"
   ]
  },
  {
   "cell_type": "code",
   "execution_count": 68,
   "metadata": {},
   "outputs": [],
   "source": [
    "df.to_csv('dados_vendas.csv', index=False)"
   ]
  },
  {
   "cell_type": "code",
   "execution_count": 69,
   "metadata": {},
   "outputs": [
    {
     "name": "stdout",
     "output_type": "stream",
     "text": [
      "          Data   Categoria  Quantidade_Vendida  Preco_Unitario  Valor_Total\n",
      "0   2023-04-13      Roupas                  74           60.43      4471.82\n",
      "1   2023-12-15   Alimentos                  83          272.88     22649.04\n",
      "2   2023-09-28      Roupas                  17          195.62      3325.54\n",
      "3   2023-04-17      Roupas                  85          233.93     19884.05\n",
      "4   2023-03-13      Roupas                  78          305.94     23863.32\n",
      "..         ...         ...                 ...             ...          ...\n",
      "360 2023-10-07  Brinquedos                  66           12.49       824.34\n",
      "361 2023-04-24  Brinquedos                  10          350.90      3509.00\n",
      "362 2023-10-15  Brinquedos                   5           33.90       169.50\n",
      "363 2023-12-08  Brinquedos                  74          270.98     20052.52\n",
      "364 2023-05-31      Roupas                  97          481.44     46699.68\n",
      "\n",
      "[365 rows x 5 columns]\n"
     ]
    }
   ],
   "source": [
    "print(df)"
   ]
  },
  {
   "cell_type": "code",
   "execution_count": 70,
   "metadata": {},
   "outputs": [
    {
     "data": {
      "text/html": [
       "<div>\n",
       "<style scoped>\n",
       "    .dataframe tbody tr th:only-of-type {\n",
       "        vertical-align: middle;\n",
       "    }\n",
       "\n",
       "    .dataframe tbody tr th {\n",
       "        vertical-align: top;\n",
       "    }\n",
       "\n",
       "    .dataframe thead th {\n",
       "        text-align: right;\n",
       "    }\n",
       "</style>\n",
       "<table border=\"1\" class=\"dataframe\">\n",
       "  <thead>\n",
       "    <tr style=\"text-align: right;\">\n",
       "      <th></th>\n",
       "      <th>Data</th>\n",
       "      <th>Categoria</th>\n",
       "      <th>Quantidade_Vendida</th>\n",
       "      <th>Preco_Unitario</th>\n",
       "      <th>Valor_Total</th>\n",
       "    </tr>\n",
       "  </thead>\n",
       "  <tbody>\n",
       "    <tr>\n",
       "      <th>0</th>\n",
       "      <td>2023-04-13</td>\n",
       "      <td>Roupas</td>\n",
       "      <td>74</td>\n",
       "      <td>60.43</td>\n",
       "      <td>4471.82</td>\n",
       "    </tr>\n",
       "    <tr>\n",
       "      <th>1</th>\n",
       "      <td>2023-12-15</td>\n",
       "      <td>Alimentos</td>\n",
       "      <td>83</td>\n",
       "      <td>272.88</td>\n",
       "      <td>22649.04</td>\n",
       "    </tr>\n",
       "    <tr>\n",
       "      <th>2</th>\n",
       "      <td>2023-09-28</td>\n",
       "      <td>Roupas</td>\n",
       "      <td>17</td>\n",
       "      <td>195.62</td>\n",
       "      <td>3325.54</td>\n",
       "    </tr>\n",
       "    <tr>\n",
       "      <th>3</th>\n",
       "      <td>2023-04-17</td>\n",
       "      <td>Roupas</td>\n",
       "      <td>85</td>\n",
       "      <td>233.93</td>\n",
       "      <td>19884.05</td>\n",
       "    </tr>\n",
       "    <tr>\n",
       "      <th>4</th>\n",
       "      <td>2023-03-13</td>\n",
       "      <td>Roupas</td>\n",
       "      <td>78</td>\n",
       "      <td>305.94</td>\n",
       "      <td>23863.32</td>\n",
       "    </tr>\n",
       "  </tbody>\n",
       "</table>\n",
       "</div>"
      ],
      "text/plain": [
       "        Data  Categoria  Quantidade_Vendida  Preco_Unitario  Valor_Total\n",
       "0 2023-04-13     Roupas                  74           60.43      4471.82\n",
       "1 2023-12-15  Alimentos                  83          272.88     22649.04\n",
       "2 2023-09-28     Roupas                  17          195.62      3325.54\n",
       "3 2023-04-17     Roupas                  85          233.93     19884.05\n",
       "4 2023-03-13     Roupas                  78          305.94     23863.32"
      ]
     },
     "execution_count": 70,
     "metadata": {},
     "output_type": "execute_result"
    }
   ],
   "source": [
    "df.head()"
   ]
  },
  {
   "cell_type": "code",
   "execution_count": 71,
   "metadata": {},
   "outputs": [
    {
     "data": {
      "text/plain": [
       "<bound method DataFrame.info of           Data   Categoria  Quantidade_Vendida  Preco_Unitario  Valor_Total\n",
       "0   2023-04-13      Roupas                  74           60.43      4471.82\n",
       "1   2023-12-15   Alimentos                  83          272.88     22649.04\n",
       "2   2023-09-28      Roupas                  17          195.62      3325.54\n",
       "3   2023-04-17      Roupas                  85          233.93     19884.05\n",
       "4   2023-03-13      Roupas                  78          305.94     23863.32\n",
       "..         ...         ...                 ...             ...          ...\n",
       "360 2023-10-07  Brinquedos                  66           12.49       824.34\n",
       "361 2023-04-24  Brinquedos                  10          350.90      3509.00\n",
       "362 2023-10-15  Brinquedos                   5           33.90       169.50\n",
       "363 2023-12-08  Brinquedos                  74          270.98     20052.52\n",
       "364 2023-05-31      Roupas                  97          481.44     46699.68\n",
       "\n",
       "[365 rows x 5 columns]>"
      ]
     },
     "execution_count": 71,
     "metadata": {},
     "output_type": "execute_result"
    }
   ],
   "source": [
    "df.info"
   ]
  },
  {
   "cell_type": "code",
   "execution_count": 72,
   "metadata": {},
   "outputs": [
    {
     "data": {
      "text/plain": [
       "(365, 5)"
      ]
     },
     "execution_count": 72,
     "metadata": {},
     "output_type": "execute_result"
    }
   ],
   "source": [
    "df.shape"
   ]
  },
  {
   "cell_type": "code",
   "execution_count": 73,
   "metadata": {},
   "outputs": [
    {
     "data": {
      "text/plain": [
       "Data                  datetime64[ns]\n",
       "Categoria                     object\n",
       "Quantidade_Vendida             int32\n",
       "Preco_Unitario               float64\n",
       "Valor_Total                  float64\n",
       "dtype: object"
      ]
     },
     "execution_count": 73,
     "metadata": {},
     "output_type": "execute_result"
    }
   ],
   "source": [
    "df.dtypes"
   ]
  },
  {
   "cell_type": "code",
   "execution_count": 74,
   "metadata": {},
   "outputs": [
    {
     "data": {
      "text/html": [
       "<div>\n",
       "<style scoped>\n",
       "    .dataframe tbody tr th:only-of-type {\n",
       "        vertical-align: middle;\n",
       "    }\n",
       "\n",
       "    .dataframe tbody tr th {\n",
       "        vertical-align: top;\n",
       "    }\n",
       "\n",
       "    .dataframe thead th {\n",
       "        text-align: right;\n",
       "    }\n",
       "</style>\n",
       "<table border=\"1\" class=\"dataframe\">\n",
       "  <thead>\n",
       "    <tr style=\"text-align: right;\">\n",
       "      <th></th>\n",
       "      <th>Data</th>\n",
       "      <th>Categoria</th>\n",
       "      <th>Quantidade_Vendida</th>\n",
       "      <th>Preco_Unitario</th>\n",
       "      <th>Valor_Total</th>\n",
       "    </tr>\n",
       "  </thead>\n",
       "  <tbody>\n",
       "    <tr>\n",
       "      <th>0</th>\n",
       "      <td>2023-04-13</td>\n",
       "      <td>Roupas</td>\n",
       "      <td>74</td>\n",
       "      <td>60.43</td>\n",
       "      <td>4471.82</td>\n",
       "    </tr>\n",
       "    <tr>\n",
       "      <th>1</th>\n",
       "      <td>2023-12-15</td>\n",
       "      <td>Alimentos</td>\n",
       "      <td>83</td>\n",
       "      <td>272.88</td>\n",
       "      <td>22649.04</td>\n",
       "    </tr>\n",
       "    <tr>\n",
       "      <th>2</th>\n",
       "      <td>2023-09-28</td>\n",
       "      <td>Roupas</td>\n",
       "      <td>17</td>\n",
       "      <td>195.62</td>\n",
       "      <td>3325.54</td>\n",
       "    </tr>\n",
       "    <tr>\n",
       "      <th>3</th>\n",
       "      <td>2023-04-17</td>\n",
       "      <td>Roupas</td>\n",
       "      <td>85</td>\n",
       "      <td>233.93</td>\n",
       "      <td>19884.05</td>\n",
       "    </tr>\n",
       "    <tr>\n",
       "      <th>4</th>\n",
       "      <td>2023-03-13</td>\n",
       "      <td>Roupas</td>\n",
       "      <td>78</td>\n",
       "      <td>305.94</td>\n",
       "      <td>23863.32</td>\n",
       "    </tr>\n",
       "  </tbody>\n",
       "</table>\n",
       "</div>"
      ],
      "text/plain": [
       "        Data  Categoria  Quantidade_Vendida  Preco_Unitario  Valor_Total\n",
       "0 2023-04-13     Roupas                  74           60.43      4471.82\n",
       "1 2023-12-15  Alimentos                  83          272.88     22649.04\n",
       "2 2023-09-28     Roupas                  17          195.62      3325.54\n",
       "3 2023-04-17     Roupas                  85          233.93     19884.05\n",
       "4 2023-03-13     Roupas                  78          305.94     23863.32"
      ]
     },
     "execution_count": 74,
     "metadata": {},
     "output_type": "execute_result"
    }
   ],
   "source": [
    "df.head(5)"
   ]
  },
  {
   "cell_type": "code",
   "execution_count": null,
   "metadata": {},
   "outputs": [],
   "source": []
  },
  {
   "cell_type": "code",
   "execution_count": 75,
   "metadata": {},
   "outputs": [
    {
     "name": "stdout",
     "output_type": "stream",
     "text": [
      "          Data    Categoria  Quantidade_Vendida  Preco_Unitario  Valor_Total\n",
      "5   2023-07-08  Eletrônicos                  73          256.12     18696.76\n",
      "6   2023-01-21  Eletrônicos                   1          274.53       274.53\n",
      "7   2023-04-13  Eletrônicos                  51          248.32     12664.32\n",
      "14  2023-06-01  Eletrônicos                  34          303.52     10319.68\n",
      "18  2023-09-15  Eletrônicos                  39          121.40      4734.60\n",
      "..         ...          ...                 ...             ...          ...\n",
      "347 2023-09-10  Eletrônicos                  33          431.46     14238.18\n",
      "349 2023-09-13  Eletrônicos                  27          201.67      5445.09\n",
      "351 2023-05-08  Eletrônicos                  29          243.57      7063.53\n",
      "353 2023-10-08  Eletrônicos                  57          427.57     24371.49\n",
      "356 2023-02-27  Eletrônicos                  55          466.48     25656.40\n",
      "\n",
      "[73 rows x 5 columns]\n"
     ]
    }
   ],
   "source": [
    "eletronicos = df[df['Categoria'] == 'Eletrônicos']\n",
    "print(eletronicos)"
   ]
  },
  {
   "cell_type": "code",
   "execution_count": 79,
   "metadata": {},
   "outputs": [
    {
     "data": {
      "text/plain": [
       "np.float64(13102.970520547946)"
      ]
     },
     "execution_count": 79,
     "metadata": {},
     "output_type": "execute_result"
    }
   ],
   "source": [
    "media_valor = df['Valor_Total']\n",
    "media_valor.mean()"
   ]
  },
  {
   "cell_type": "code",
   "execution_count": 80,
   "metadata": {},
   "outputs": [
    {
     "name": "stdout",
     "output_type": "stream",
     "text": [
      "          Data   Categoria  Quantidade_Vendida  Preco_Unitario  Valor_Total\n",
      "0   2023-04-13      Roupas                  74           60.43      4471.82\n",
      "1   2023-12-15   Alimentos                  83          272.88     22649.04\n",
      "2   2023-09-28      Roupas                  17          195.62      3325.54\n",
      "3   2023-04-17      Roupas                  85          233.93     19884.05\n",
      "4   2023-03-13      Roupas                  78          305.94     23863.32\n",
      "..         ...         ...                 ...             ...          ...\n",
      "358 2023-12-26  Brinquedos                  68          147.88     10055.84\n",
      "359 2023-06-23   Alimentos                  86          133.80     11506.80\n",
      "361 2023-04-24  Brinquedos                  10          350.90      3509.00\n",
      "363 2023-12-08  Brinquedos                  74          270.98     20052.52\n",
      "364 2023-05-31      Roupas                  97          481.44     46699.68\n",
      "\n",
      "[330 rows x 5 columns]\n"
     ]
    }
   ],
   "source": [
    "vendas_acima_1000 = df[df['Valor_Total'] > 1000]\n",
    "print(vendas_acima_1000)"
   ]
  },
  {
   "cell_type": "code",
   "execution_count": 81,
   "metadata": {},
   "outputs": [
    {
     "data": {
      "text/html": [
       "<div>\n",
       "<style scoped>\n",
       "    .dataframe tbody tr th:only-of-type {\n",
       "        vertical-align: middle;\n",
       "    }\n",
       "\n",
       "    .dataframe tbody tr th {\n",
       "        vertical-align: top;\n",
       "    }\n",
       "\n",
       "    .dataframe thead th {\n",
       "        text-align: right;\n",
       "    }\n",
       "</style>\n",
       "<table border=\"1\" class=\"dataframe\">\n",
       "  <thead>\n",
       "    <tr style=\"text-align: right;\">\n",
       "      <th></th>\n",
       "      <th>Data</th>\n",
       "      <th>Categoria</th>\n",
       "      <th>Quantidade_Vendida</th>\n",
       "      <th>Preco_Unitario</th>\n",
       "      <th>Valor_Total</th>\n",
       "    </tr>\n",
       "  </thead>\n",
       "  <tbody>\n",
       "    <tr>\n",
       "      <th>0</th>\n",
       "      <td>2023-04-13</td>\n",
       "      <td>Roupas</td>\n",
       "      <td>74</td>\n",
       "      <td>60.43</td>\n",
       "      <td>4471.82</td>\n",
       "    </tr>\n",
       "    <tr>\n",
       "      <th>1</th>\n",
       "      <td>2023-12-15</td>\n",
       "      <td>Alimentos</td>\n",
       "      <td>83</td>\n",
       "      <td>272.88</td>\n",
       "      <td>22649.04</td>\n",
       "    </tr>\n",
       "    <tr>\n",
       "      <th>2</th>\n",
       "      <td>2023-09-28</td>\n",
       "      <td>Roupas</td>\n",
       "      <td>17</td>\n",
       "      <td>195.62</td>\n",
       "      <td>3325.54</td>\n",
       "    </tr>\n",
       "    <tr>\n",
       "      <th>3</th>\n",
       "      <td>2023-04-17</td>\n",
       "      <td>Roupas</td>\n",
       "      <td>85</td>\n",
       "      <td>233.93</td>\n",
       "      <td>19884.05</td>\n",
       "    </tr>\n",
       "    <tr>\n",
       "      <th>4</th>\n",
       "      <td>2023-03-13</td>\n",
       "      <td>Roupas</td>\n",
       "      <td>78</td>\n",
       "      <td>305.94</td>\n",
       "      <td>23863.32</td>\n",
       "    </tr>\n",
       "    <tr>\n",
       "      <th>5</th>\n",
       "      <td>2023-07-08</td>\n",
       "      <td>Eletrônicos</td>\n",
       "      <td>73</td>\n",
       "      <td>256.12</td>\n",
       "      <td>18696.76</td>\n",
       "    </tr>\n",
       "    <tr>\n",
       "      <th>6</th>\n",
       "      <td>2023-01-21</td>\n",
       "      <td>Eletrônicos</td>\n",
       "      <td>1</td>\n",
       "      <td>274.53</td>\n",
       "      <td>274.53</td>\n",
       "    </tr>\n",
       "    <tr>\n",
       "      <th>7</th>\n",
       "      <td>2023-04-13</td>\n",
       "      <td>Eletrônicos</td>\n",
       "      <td>51</td>\n",
       "      <td>248.32</td>\n",
       "      <td>12664.32</td>\n",
       "    </tr>\n",
       "    <tr>\n",
       "      <th>8</th>\n",
       "      <td>2023-05-02</td>\n",
       "      <td>Alimentos</td>\n",
       "      <td>45</td>\n",
       "      <td>210.39</td>\n",
       "      <td>9467.55</td>\n",
       "    </tr>\n",
       "    <tr>\n",
       "      <th>9</th>\n",
       "      <td>2023-08-03</td>\n",
       "      <td>Brinquedos</td>\n",
       "      <td>77</td>\n",
       "      <td>388.22</td>\n",
       "      <td>29892.94</td>\n",
       "    </tr>\n",
       "    <tr>\n",
       "      <th>10</th>\n",
       "      <td>2023-11-27</td>\n",
       "      <td>Roupas</td>\n",
       "      <td>4</td>\n",
       "      <td>15.98</td>\n",
       "      <td>63.92</td>\n",
       "    </tr>\n",
       "    <tr>\n",
       "      <th>11</th>\n",
       "      <td>2023-03-29</td>\n",
       "      <td>Roupas</td>\n",
       "      <td>62</td>\n",
       "      <td>303.24</td>\n",
       "      <td>18800.88</td>\n",
       "    </tr>\n",
       "    <tr>\n",
       "      <th>12</th>\n",
       "      <td>2023-04-10</td>\n",
       "      <td>Alimentos</td>\n",
       "      <td>65</td>\n",
       "      <td>287.10</td>\n",
       "      <td>18661.50</td>\n",
       "    </tr>\n",
       "    <tr>\n",
       "      <th>13</th>\n",
       "      <td>2023-12-26</td>\n",
       "      <td>Roupas</td>\n",
       "      <td>32</td>\n",
       "      <td>360.93</td>\n",
       "      <td>11549.76</td>\n",
       "    </tr>\n",
       "    <tr>\n",
       "      <th>14</th>\n",
       "      <td>2023-06-01</td>\n",
       "      <td>Eletrônicos</td>\n",
       "      <td>34</td>\n",
       "      <td>303.52</td>\n",
       "      <td>10319.68</td>\n",
       "    </tr>\n",
       "    <tr>\n",
       "      <th>15</th>\n",
       "      <td>2023-05-11</td>\n",
       "      <td>Brinquedos</td>\n",
       "      <td>92</td>\n",
       "      <td>415.13</td>\n",
       "      <td>38191.96</td>\n",
       "    </tr>\n",
       "    <tr>\n",
       "      <th>16</th>\n",
       "      <td>2023-05-30</td>\n",
       "      <td>Livros</td>\n",
       "      <td>95</td>\n",
       "      <td>479.95</td>\n",
       "      <td>45595.25</td>\n",
       "    </tr>\n",
       "    <tr>\n",
       "      <th>17</th>\n",
       "      <td>2023-11-05</td>\n",
       "      <td>Roupas</td>\n",
       "      <td>72</td>\n",
       "      <td>177.84</td>\n",
       "      <td>12804.48</td>\n",
       "    </tr>\n",
       "    <tr>\n",
       "      <th>18</th>\n",
       "      <td>2023-09-15</td>\n",
       "      <td>Eletrônicos</td>\n",
       "      <td>39</td>\n",
       "      <td>121.40</td>\n",
       "      <td>4734.60</td>\n",
       "    </tr>\n",
       "    <tr>\n",
       "      <th>19</th>\n",
       "      <td>2023-12-10</td>\n",
       "      <td>Livros</td>\n",
       "      <td>26</td>\n",
       "      <td>217.56</td>\n",
       "      <td>5656.56</td>\n",
       "    </tr>\n",
       "  </tbody>\n",
       "</table>\n",
       "</div>"
      ],
      "text/plain": [
       "         Data    Categoria  Quantidade_Vendida  Preco_Unitario  Valor_Total\n",
       "0  2023-04-13       Roupas                  74           60.43      4471.82\n",
       "1  2023-12-15    Alimentos                  83          272.88     22649.04\n",
       "2  2023-09-28       Roupas                  17          195.62      3325.54\n",
       "3  2023-04-17       Roupas                  85          233.93     19884.05\n",
       "4  2023-03-13       Roupas                  78          305.94     23863.32\n",
       "5  2023-07-08  Eletrônicos                  73          256.12     18696.76\n",
       "6  2023-01-21  Eletrônicos                   1          274.53       274.53\n",
       "7  2023-04-13  Eletrônicos                  51          248.32     12664.32\n",
       "8  2023-05-02    Alimentos                  45          210.39      9467.55\n",
       "9  2023-08-03   Brinquedos                  77          388.22     29892.94\n",
       "10 2023-11-27       Roupas                   4           15.98        63.92\n",
       "11 2023-03-29       Roupas                  62          303.24     18800.88\n",
       "12 2023-04-10    Alimentos                  65          287.10     18661.50\n",
       "13 2023-12-26       Roupas                  32          360.93     11549.76\n",
       "14 2023-06-01  Eletrônicos                  34          303.52     10319.68\n",
       "15 2023-05-11   Brinquedos                  92          415.13     38191.96\n",
       "16 2023-05-30       Livros                  95          479.95     45595.25\n",
       "17 2023-11-05       Roupas                  72          177.84     12804.48\n",
       "18 2023-09-15  Eletrônicos                  39          121.40      4734.60\n",
       "19 2023-12-10       Livros                  26          217.56      5656.56"
      ]
     },
     "execution_count": 81,
     "metadata": {},
     "output_type": "execute_result"
    }
   ],
   "source": [
    "df.head(20)"
   ]
  },
  {
   "cell_type": "code",
   "execution_count": 84,
   "metadata": {},
   "outputs": [
    {
     "data": {
      "text/plain": [
       "(365, 5)"
      ]
     },
     "execution_count": 84,
     "metadata": {},
     "output_type": "execute_result"
    }
   ],
   "source": [
    "df.shape"
   ]
  },
  {
   "cell_type": "code",
   "execution_count": 85,
   "metadata": {},
   "outputs": [
    {
     "name": "stdout",
     "output_type": "stream",
     "text": [
      "     Categoria  Valor_Total\n",
      "0    Alimentos    742457.74\n",
      "1   Brinquedos   1187964.04\n",
      "2  Eletrônicos    897261.71\n",
      "3       Livros    963685.46\n",
      "4       Roupas    991215.29\n"
     ]
    }
   ],
   "source": [
    "total_por_categoria = df.groupby('Categoria')['Valor_Total'].sum().reset_index()\n",
    "print(total_por_categoria)"
   ]
  },
  {
   "cell_type": "code",
   "execution_count": 86,
   "metadata": {},
   "outputs": [
    {
     "name": "stdout",
     "output_type": "stream",
     "text": [
      "     Categoria  Quantidade_Vendida\n",
      "0    Alimentos           55.618182\n",
      "1   Brinquedos           47.247191\n",
      "2  Eletrônicos           46.780822\n",
      "3       Livros           50.917808\n",
      "4       Roupas           47.200000\n"
     ]
    }
   ],
   "source": [
    "media_quantidade_categoria = df.groupby('Categoria')['Quantidade_Vendida'].mean().reset_index()\n",
    "print(media_quantidade_categoria)"
   ]
  },
  {
   "cell_type": "code",
   "execution_count": 91,
   "metadata": {},
   "outputs": [
    {
     "ename": "NameError",
     "evalue": "name 'plt' is not defined",
     "output_type": "error",
     "traceback": [
      "\u001b[1;31m---------------------------------------------------------------------------\u001b[0m",
      "\u001b[1;31mNameError\u001b[0m                                 Traceback (most recent call last)",
      "Cell \u001b[1;32mIn[91], line 1\u001b[0m\n\u001b[1;32m----> 1\u001b[0m \u001b[43mplt\u001b[49m\u001b[38;5;241m.\u001b[39mfigure(figsize\u001b[38;5;241m=\u001b[39m(\u001b[38;5;241m10\u001b[39m, \u001b[38;5;241m6\u001b[39m))\n\u001b[0;32m      2\u001b[0m plt\u001b[38;5;241m.\u001b[39mbar(total_por_categoria[\u001b[38;5;124m'\u001b[39m\u001b[38;5;124mCategoria\u001b[39m\u001b[38;5;124m'\u001b[39m], total_por_categoria[\u001b[38;5;124m'\u001b[39m\u001b[38;5;124mValor_Total\u001b[39m\u001b[38;5;124m'\u001b[39m], color\u001b[38;5;241m=\u001b[39m\u001b[38;5;124m'\u001b[39m\u001b[38;5;124mskyblue\u001b[39m\u001b[38;5;124m'\u001b[39m)\n\u001b[0;32m      3\u001b[0m plt\u001b[38;5;241m.\u001b[39mxlabel(\u001b[38;5;124m'\u001b[39m\u001b[38;5;124mCategoria\u001b[39m\u001b[38;5;124m'\u001b[39m)\n",
      "\u001b[1;31mNameError\u001b[0m: name 'plt' is not defined"
     ]
    }
   ],
   "source": [
    "plt.figure(figsize=(10, 6))\n",
    "plt.bar(total_por_categoria['Categoria'], total_por_categoria['Valor_Total'], color='skyblue')\n",
    "plt.xlabel('Categoria')\n",
    "plt.ylabel('Valor Total de Vendas (R$)')\n",
    "plt.title('Total de Vendas por Categoria')\n",
    "plt.show()"
   ]
  }
 ],
 "metadata": {
  "kernelspec": {
   "display_name": "Python 3",
   "language": "python",
   "name": "python3"
  },
  "language_info": {
   "codemirror_mode": {
    "name": "ipython",
    "version": 3
   },
   "file_extension": ".py",
   "mimetype": "text/x-python",
   "name": "python",
   "nbconvert_exporter": "python",
   "pygments_lexer": "ipython3",
   "version": "3.12.3"
  }
 },
 "nbformat": 4,
 "nbformat_minor": 2
}
