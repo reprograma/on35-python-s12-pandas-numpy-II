{
  "nbformat": 4,
  "nbformat_minor": 0,
  "metadata": {
    "colab": {
      "provenance": [],
      "collapsed_sections": [
        "uxO_3dCD2Nb1",
        "AnlU-49l2fdQ",
        "FTQdCD5I3mP-",
        "LJ_Y59rF6MeR"
      ]
    },
    "kernelspec": {
      "name": "python3",
      "display_name": "Python 3"
    },
    "language_info": {
      "name": "python"
    }
  },
  "cells": [
    {
      "cell_type": "code",
      "source": [],
      "metadata": {
        "id": "aJbyXE1ywyPd"
      },
      "execution_count": null,
      "outputs": []
    },
    {
      "cell_type": "markdown",
      "source": [
        "### **Parte 1: Geração de Dados Fictícios**"
      ],
      "metadata": {
        "id": "uxO_3dCD2Nb1"
      }
    },
    {
      "cell_type": "code",
      "source": [
        "#Geração de Dados Fictícios:**\n",
        "\n",
        "#Use o script abaixo para gerar um conjunto de dados falso que simula informações de vendas de produtos em uma loja:\n",
        "\n",
        "import pandas as pd\n",
        "import numpy as np\n",
        "import matplotlib.pyplot as plt\n",
        "\n",
        "   # Configurando a seed para reprodutibilidade\n",
        "np.random.seed(42)\n",
        "\n",
        "   # Gerando dados falsos\n",
        "categorias = ['Eletrônicos', 'Roupas', 'Alimentos', 'Livros', 'Brinquedos']\n",
        "datas = pd.date_range(start='2023-01-01', end='2023-12-31', freq='D')\n",
        "num_registros = len(datas)\n",
        "\n",
        "   # Criando DataFrame\n",
        "data = {\n",
        "   'Data': np.random.choice(datas, num_registros),\n",
        "   'Categoria': np.random.choice(categorias, num_registros),\n",
        "   'Quantidade_Vendida': np.random.randint(1, 100, num_registros),\n",
        "   'Preco_Unitario': np.round(np.random.uniform(10, 500, num_registros), 2)\n",
        "}\n",
        "df = pd.DataFrame(data)\n",
        "df['Valor_Total'] = df['Quantidade_Vendida'] * df['Preco_Unitario']\n",
        "\n",
        "   # Salvando o DataFrame em um arquivo CSV\n",
        "df.to_csv('dados_vendas.csv', index=False)\n",
        "\n",
        "print(\"Conjunto de dados gerado e salvo como 'dados_vendas.csv'.\")"
      ],
      "metadata": {
        "colab": {
          "base_uri": "https://localhost:8080/"
        },
        "id": "VCgbTQGAw5cN",
        "outputId": "0dff86aa-16db-4a30-e23d-4c8e54826a45"
      },
      "execution_count": null,
      "outputs": [
        {
          "output_type": "stream",
          "name": "stdout",
          "text": [
            "Conjunto de dados gerado e salvo como 'dados_vendas.csv'.\n"
          ]
        }
      ]
    },
    {
      "cell_type": "markdown",
      "source": [
        "### Anotações da etapa:\n",
        "Começamos com a importação das bibliotecas pandas e numpy para fazer os códigos e marplotilip para fazer os gráficos.\n",
        "\n",
        "\n",
        "Depois disso, foi criado os dados falsos e incluidos eles dentro de um dataframe - DF. Se os dados já existisse, poderia conectar com o drive e puxar - *estou usando o Colab, por isso considerei isso.*\n",
        "\n",
        "\n"
      ],
      "metadata": {
        "id": "PM56rBPt_u9_"
      }
    },
    {
      "cell_type": "markdown",
      "source": [
        "### **Parte 2: Consulta e Filtragem de Dados**\n"
      ],
      "metadata": {
        "id": "AnlU-49l2fdQ"
      }
    },
    {
      "cell_type": "markdown",
      "source": [
        "**Carregar os dados: neste parte vc deve caregar o csv gerado para podemos continuar**\n"
      ],
      "metadata": {
        "id": "ZTz5atIz2kMF"
      }
    },
    {
      "cell_type": "code",
      "source": [
        "df = pd.read_csv(\"dados_vendas.csv\")\n",
        "df.head()"
      ],
      "metadata": {
        "colab": {
          "base_uri": "https://localhost:8080/",
          "height": 206
        },
        "id": "9gfbgDVWxX7N",
        "outputId": "32d87b27-7235-4b2d-8a00-a8854646aba5"
      },
      "execution_count": null,
      "outputs": [
        {
          "output_type": "execute_result",
          "data": {
            "text/plain": [
              "         Data  Categoria  Quantidade_Vendida  Preco_Unitario  Valor_Total\n",
              "0  2023-04-13     Roupas                  74           60.43      4471.82\n",
              "1  2023-12-15  Alimentos                  83          272.88     22649.04\n",
              "2  2023-09-28     Roupas                  17          195.62      3325.54\n",
              "3  2023-04-17     Roupas                  85          233.93     19884.05\n",
              "4  2023-03-13     Roupas                  78          305.94     23863.32"
            ],
            "text/html": [
              "\n",
              "  <div id=\"df-a2cd8326-b362-4979-b72d-70e19c601436\" class=\"colab-df-container\">\n",
              "    <div>\n",
              "<style scoped>\n",
              "    .dataframe tbody tr th:only-of-type {\n",
              "        vertical-align: middle;\n",
              "    }\n",
              "\n",
              "    .dataframe tbody tr th {\n",
              "        vertical-align: top;\n",
              "    }\n",
              "\n",
              "    .dataframe thead th {\n",
              "        text-align: right;\n",
              "    }\n",
              "</style>\n",
              "<table border=\"1\" class=\"dataframe\">\n",
              "  <thead>\n",
              "    <tr style=\"text-align: right;\">\n",
              "      <th></th>\n",
              "      <th>Data</th>\n",
              "      <th>Categoria</th>\n",
              "      <th>Quantidade_Vendida</th>\n",
              "      <th>Preco_Unitario</th>\n",
              "      <th>Valor_Total</th>\n",
              "    </tr>\n",
              "  </thead>\n",
              "  <tbody>\n",
              "    <tr>\n",
              "      <th>0</th>\n",
              "      <td>2023-04-13</td>\n",
              "      <td>Roupas</td>\n",
              "      <td>74</td>\n",
              "      <td>60.43</td>\n",
              "      <td>4471.82</td>\n",
              "    </tr>\n",
              "    <tr>\n",
              "      <th>1</th>\n",
              "      <td>2023-12-15</td>\n",
              "      <td>Alimentos</td>\n",
              "      <td>83</td>\n",
              "      <td>272.88</td>\n",
              "      <td>22649.04</td>\n",
              "    </tr>\n",
              "    <tr>\n",
              "      <th>2</th>\n",
              "      <td>2023-09-28</td>\n",
              "      <td>Roupas</td>\n",
              "      <td>17</td>\n",
              "      <td>195.62</td>\n",
              "      <td>3325.54</td>\n",
              "    </tr>\n",
              "    <tr>\n",
              "      <th>3</th>\n",
              "      <td>2023-04-17</td>\n",
              "      <td>Roupas</td>\n",
              "      <td>85</td>\n",
              "      <td>233.93</td>\n",
              "      <td>19884.05</td>\n",
              "    </tr>\n",
              "    <tr>\n",
              "      <th>4</th>\n",
              "      <td>2023-03-13</td>\n",
              "      <td>Roupas</td>\n",
              "      <td>78</td>\n",
              "      <td>305.94</td>\n",
              "      <td>23863.32</td>\n",
              "    </tr>\n",
              "  </tbody>\n",
              "</table>\n",
              "</div>\n",
              "    <div class=\"colab-df-buttons\">\n",
              "\n",
              "  <div class=\"colab-df-container\">\n",
              "    <button class=\"colab-df-convert\" onclick=\"convertToInteractive('df-a2cd8326-b362-4979-b72d-70e19c601436')\"\n",
              "            title=\"Convert this dataframe to an interactive table.\"\n",
              "            style=\"display:none;\">\n",
              "\n",
              "  <svg xmlns=\"http://www.w3.org/2000/svg\" height=\"24px\" viewBox=\"0 -960 960 960\">\n",
              "    <path d=\"M120-120v-720h720v720H120Zm60-500h600v-160H180v160Zm220 220h160v-160H400v160Zm0 220h160v-160H400v160ZM180-400h160v-160H180v160Zm440 0h160v-160H620v160ZM180-180h160v-160H180v160Zm440 0h160v-160H620v160Z\"/>\n",
              "  </svg>\n",
              "    </button>\n",
              "\n",
              "  <style>\n",
              "    .colab-df-container {\n",
              "      display:flex;\n",
              "      gap: 12px;\n",
              "    }\n",
              "\n",
              "    .colab-df-convert {\n",
              "      background-color: #E8F0FE;\n",
              "      border: none;\n",
              "      border-radius: 50%;\n",
              "      cursor: pointer;\n",
              "      display: none;\n",
              "      fill: #1967D2;\n",
              "      height: 32px;\n",
              "      padding: 0 0 0 0;\n",
              "      width: 32px;\n",
              "    }\n",
              "\n",
              "    .colab-df-convert:hover {\n",
              "      background-color: #E2EBFA;\n",
              "      box-shadow: 0px 1px 2px rgba(60, 64, 67, 0.3), 0px 1px 3px 1px rgba(60, 64, 67, 0.15);\n",
              "      fill: #174EA6;\n",
              "    }\n",
              "\n",
              "    .colab-df-buttons div {\n",
              "      margin-bottom: 4px;\n",
              "    }\n",
              "\n",
              "    [theme=dark] .colab-df-convert {\n",
              "      background-color: #3B4455;\n",
              "      fill: #D2E3FC;\n",
              "    }\n",
              "\n",
              "    [theme=dark] .colab-df-convert:hover {\n",
              "      background-color: #434B5C;\n",
              "      box-shadow: 0px 1px 3px 1px rgba(0, 0, 0, 0.15);\n",
              "      filter: drop-shadow(0px 1px 2px rgba(0, 0, 0, 0.3));\n",
              "      fill: #FFFFFF;\n",
              "    }\n",
              "  </style>\n",
              "\n",
              "    <script>\n",
              "      const buttonEl =\n",
              "        document.querySelector('#df-a2cd8326-b362-4979-b72d-70e19c601436 button.colab-df-convert');\n",
              "      buttonEl.style.display =\n",
              "        google.colab.kernel.accessAllowed ? 'block' : 'none';\n",
              "\n",
              "      async function convertToInteractive(key) {\n",
              "        const element = document.querySelector('#df-a2cd8326-b362-4979-b72d-70e19c601436');\n",
              "        const dataTable =\n",
              "          await google.colab.kernel.invokeFunction('convertToInteractive',\n",
              "                                                    [key], {});\n",
              "        if (!dataTable) return;\n",
              "\n",
              "        const docLinkHtml = 'Like what you see? Visit the ' +\n",
              "          '<a target=\"_blank\" href=https://colab.research.google.com/notebooks/data_table.ipynb>data table notebook</a>'\n",
              "          + ' to learn more about interactive tables.';\n",
              "        element.innerHTML = '';\n",
              "        dataTable['output_type'] = 'display_data';\n",
              "        await google.colab.output.renderOutput(dataTable, element);\n",
              "        const docLink = document.createElement('div');\n",
              "        docLink.innerHTML = docLinkHtml;\n",
              "        element.appendChild(docLink);\n",
              "      }\n",
              "    </script>\n",
              "  </div>\n",
              "\n",
              "\n",
              "<div id=\"df-4ec8e5aa-cde9-41da-8708-892099313972\">\n",
              "  <button class=\"colab-df-quickchart\" onclick=\"quickchart('df-4ec8e5aa-cde9-41da-8708-892099313972')\"\n",
              "            title=\"Suggest charts\"\n",
              "            style=\"display:none;\">\n",
              "\n",
              "<svg xmlns=\"http://www.w3.org/2000/svg\" height=\"24px\"viewBox=\"0 0 24 24\"\n",
              "     width=\"24px\">\n",
              "    <g>\n",
              "        <path d=\"M19 3H5c-1.1 0-2 .9-2 2v14c0 1.1.9 2 2 2h14c1.1 0 2-.9 2-2V5c0-1.1-.9-2-2-2zM9 17H7v-7h2v7zm4 0h-2V7h2v10zm4 0h-2v-4h2v4z\"/>\n",
              "    </g>\n",
              "</svg>\n",
              "  </button>\n",
              "\n",
              "<style>\n",
              "  .colab-df-quickchart {\n",
              "      --bg-color: #E8F0FE;\n",
              "      --fill-color: #1967D2;\n",
              "      --hover-bg-color: #E2EBFA;\n",
              "      --hover-fill-color: #174EA6;\n",
              "      --disabled-fill-color: #AAA;\n",
              "      --disabled-bg-color: #DDD;\n",
              "  }\n",
              "\n",
              "  [theme=dark] .colab-df-quickchart {\n",
              "      --bg-color: #3B4455;\n",
              "      --fill-color: #D2E3FC;\n",
              "      --hover-bg-color: #434B5C;\n",
              "      --hover-fill-color: #FFFFFF;\n",
              "      --disabled-bg-color: #3B4455;\n",
              "      --disabled-fill-color: #666;\n",
              "  }\n",
              "\n",
              "  .colab-df-quickchart {\n",
              "    background-color: var(--bg-color);\n",
              "    border: none;\n",
              "    border-radius: 50%;\n",
              "    cursor: pointer;\n",
              "    display: none;\n",
              "    fill: var(--fill-color);\n",
              "    height: 32px;\n",
              "    padding: 0;\n",
              "    width: 32px;\n",
              "  }\n",
              "\n",
              "  .colab-df-quickchart:hover {\n",
              "    background-color: var(--hover-bg-color);\n",
              "    box-shadow: 0 1px 2px rgba(60, 64, 67, 0.3), 0 1px 3px 1px rgba(60, 64, 67, 0.15);\n",
              "    fill: var(--button-hover-fill-color);\n",
              "  }\n",
              "\n",
              "  .colab-df-quickchart-complete:disabled,\n",
              "  .colab-df-quickchart-complete:disabled:hover {\n",
              "    background-color: var(--disabled-bg-color);\n",
              "    fill: var(--disabled-fill-color);\n",
              "    box-shadow: none;\n",
              "  }\n",
              "\n",
              "  .colab-df-spinner {\n",
              "    border: 2px solid var(--fill-color);\n",
              "    border-color: transparent;\n",
              "    border-bottom-color: var(--fill-color);\n",
              "    animation:\n",
              "      spin 1s steps(1) infinite;\n",
              "  }\n",
              "\n",
              "  @keyframes spin {\n",
              "    0% {\n",
              "      border-color: transparent;\n",
              "      border-bottom-color: var(--fill-color);\n",
              "      border-left-color: var(--fill-color);\n",
              "    }\n",
              "    20% {\n",
              "      border-color: transparent;\n",
              "      border-left-color: var(--fill-color);\n",
              "      border-top-color: var(--fill-color);\n",
              "    }\n",
              "    30% {\n",
              "      border-color: transparent;\n",
              "      border-left-color: var(--fill-color);\n",
              "      border-top-color: var(--fill-color);\n",
              "      border-right-color: var(--fill-color);\n",
              "    }\n",
              "    40% {\n",
              "      border-color: transparent;\n",
              "      border-right-color: var(--fill-color);\n",
              "      border-top-color: var(--fill-color);\n",
              "    }\n",
              "    60% {\n",
              "      border-color: transparent;\n",
              "      border-right-color: var(--fill-color);\n",
              "    }\n",
              "    80% {\n",
              "      border-color: transparent;\n",
              "      border-right-color: var(--fill-color);\n",
              "      border-bottom-color: var(--fill-color);\n",
              "    }\n",
              "    90% {\n",
              "      border-color: transparent;\n",
              "      border-bottom-color: var(--fill-color);\n",
              "    }\n",
              "  }\n",
              "</style>\n",
              "\n",
              "  <script>\n",
              "    async function quickchart(key) {\n",
              "      const quickchartButtonEl =\n",
              "        document.querySelector('#' + key + ' button');\n",
              "      quickchartButtonEl.disabled = true;  // To prevent multiple clicks.\n",
              "      quickchartButtonEl.classList.add('colab-df-spinner');\n",
              "      try {\n",
              "        const charts = await google.colab.kernel.invokeFunction(\n",
              "            'suggestCharts', [key], {});\n",
              "      } catch (error) {\n",
              "        console.error('Error during call to suggestCharts:', error);\n",
              "      }\n",
              "      quickchartButtonEl.classList.remove('colab-df-spinner');\n",
              "      quickchartButtonEl.classList.add('colab-df-quickchart-complete');\n",
              "    }\n",
              "    (() => {\n",
              "      let quickchartButtonEl =\n",
              "        document.querySelector('#df-4ec8e5aa-cde9-41da-8708-892099313972 button');\n",
              "      quickchartButtonEl.style.display =\n",
              "        google.colab.kernel.accessAllowed ? 'block' : 'none';\n",
              "    })();\n",
              "  </script>\n",
              "</div>\n",
              "\n",
              "    </div>\n",
              "  </div>\n"
            ],
            "application/vnd.google.colaboratory.intrinsic+json": {
              "type": "dataframe",
              "variable_name": "df",
              "summary": "{\n  \"name\": \"df\",\n  \"rows\": 365,\n  \"fields\": [\n    {\n      \"column\": \"Data\",\n      \"properties\": {\n        \"dtype\": \"object\",\n        \"num_unique_values\": 217,\n        \"samples\": [\n          \"2023-06-30\",\n          \"2023-04-24\",\n          \"2023-08-13\"\n        ],\n        \"semantic_type\": \"\",\n        \"description\": \"\"\n      }\n    },\n    {\n      \"column\": \"Categoria\",\n      \"properties\": {\n        \"dtype\": \"category\",\n        \"num_unique_values\": 5,\n        \"samples\": [\n          \"Alimentos\",\n          \"Livros\",\n          \"Eletr\\u00f4nicos\"\n        ],\n        \"semantic_type\": \"\",\n        \"description\": \"\"\n      }\n    },\n    {\n      \"column\": \"Quantidade_Vendida\",\n      \"properties\": {\n        \"dtype\": \"number\",\n        \"std\": 29,\n        \"min\": 1,\n        \"max\": 99,\n        \"num_unique_values\": 97,\n        \"samples\": [\n          19,\n          52,\n          11\n        ],\n        \"semantic_type\": \"\",\n        \"description\": \"\"\n      }\n    },\n    {\n      \"column\": \"Preco_Unitario\",\n      \"properties\": {\n        \"dtype\": \"number\",\n        \"std\": 140.544313886131,\n        \"min\": 10.12,\n        \"max\": 499.68,\n        \"num_unique_values\": 364,\n        \"samples\": [\n          387.78,\n          387.91,\n          415.13\n        ],\n        \"semantic_type\": \"\",\n        \"description\": \"\"\n      }\n    },\n    {\n      \"column\": \"Valor_Total\",\n      \"properties\": {\n        \"dtype\": \"number\",\n        \"std\": 11374.75726385857,\n        \"min\": 31.64,\n        \"max\": 46699.68,\n        \"num_unique_values\": 365,\n        \"samples\": [\n          12796.74,\n          8921.93,\n          38191.96\n        ],\n        \"semantic_type\": \"\",\n        \"description\": \"\"\n      }\n    }\n  ]\n}"
            }
          },
          "metadata": {},
          "execution_count": 5
        }
      ]
    },
    {
      "cell_type": "markdown",
      "source": [
        "**Pergunta 1: Quantas linhas e colunas existem no DataFrame carregado? Use a função `shape` para descobrir**\n"
      ],
      "metadata": {
        "id": "SWXDmUsu2s3t"
      }
    },
    {
      "cell_type": "code",
      "source": [
        "df.shape"
      ],
      "metadata": {
        "colab": {
          "base_uri": "https://localhost:8080/"
        },
        "id": "RpCqBFbbyEwN",
        "outputId": "640c6f29-9942-4b8c-81dc-0c8803ccf123"
      },
      "execution_count": null,
      "outputs": [
        {
          "output_type": "execute_result",
          "data": {
            "text/plain": [
              "(365, 5)"
            ]
          },
          "metadata": {},
          "execution_count": 7
        }
      ]
    },
    {
      "cell_type": "markdown",
      "source": [
        "**Pergunta 2: Quais são os tipos de dados (dtypes) das colunas? Use a função `dtypes` para listar os tipos**"
      ],
      "metadata": {
        "id": "iFMIeFhR215t"
      }
    },
    {
      "cell_type": "code",
      "source": [
        "df.dtypes"
      ],
      "metadata": {
        "colab": {
          "base_uri": "https://localhost:8080/",
          "height": 241
        },
        "id": "C1FI10bryUkm",
        "outputId": "4b099d0c-6e49-4975-bb1b-f50408b0d29b"
      },
      "execution_count": null,
      "outputs": [
        {
          "output_type": "execute_result",
          "data": {
            "text/plain": [
              "Data                   object\n",
              "Categoria              object\n",
              "Quantidade_Vendida      int64\n",
              "Preco_Unitario        float64\n",
              "Valor_Total           float64\n",
              "dtype: object"
            ],
            "text/html": [
              "<div>\n",
              "<style scoped>\n",
              "    .dataframe tbody tr th:only-of-type {\n",
              "        vertical-align: middle;\n",
              "    }\n",
              "\n",
              "    .dataframe tbody tr th {\n",
              "        vertical-align: top;\n",
              "    }\n",
              "\n",
              "    .dataframe thead th {\n",
              "        text-align: right;\n",
              "    }\n",
              "</style>\n",
              "<table border=\"1\" class=\"dataframe\">\n",
              "  <thead>\n",
              "    <tr style=\"text-align: right;\">\n",
              "      <th></th>\n",
              "      <th>0</th>\n",
              "    </tr>\n",
              "  </thead>\n",
              "  <tbody>\n",
              "    <tr>\n",
              "      <th>Data</th>\n",
              "      <td>object</td>\n",
              "    </tr>\n",
              "    <tr>\n",
              "      <th>Categoria</th>\n",
              "      <td>object</td>\n",
              "    </tr>\n",
              "    <tr>\n",
              "      <th>Quantidade_Vendida</th>\n",
              "      <td>int64</td>\n",
              "    </tr>\n",
              "    <tr>\n",
              "      <th>Preco_Unitario</th>\n",
              "      <td>float64</td>\n",
              "    </tr>\n",
              "    <tr>\n",
              "      <th>Valor_Total</th>\n",
              "      <td>float64</td>\n",
              "    </tr>\n",
              "  </tbody>\n",
              "</table>\n",
              "</div><br><label><b>dtype:</b> object</label>"
            ]
          },
          "metadata": {},
          "execution_count": 11
        }
      ]
    },
    {
      "cell_type": "markdown",
      "source": [
        "**Exibir as primeiras 5 linhas do DataFrame**"
      ],
      "metadata": {
        "id": "2a4iKiaB2-Yt"
      }
    },
    {
      "cell_type": "code",
      "source": [
        "df.head(5)"
      ],
      "metadata": {
        "colab": {
          "base_uri": "https://localhost:8080/",
          "height": 206
        },
        "id": "cjnrePCpydt9",
        "outputId": "d79be8f0-a52d-4c16-b3df-9cd482ec74e1"
      },
      "execution_count": null,
      "outputs": [
        {
          "output_type": "execute_result",
          "data": {
            "text/plain": [
              "         Data  Categoria  Quantidade_Vendida  Preco_Unitario  Valor_Total\n",
              "0  2023-04-13     Roupas                  74           60.43      4471.82\n",
              "1  2023-12-15  Alimentos                  83          272.88     22649.04\n",
              "2  2023-09-28     Roupas                  17          195.62      3325.54\n",
              "3  2023-04-17     Roupas                  85          233.93     19884.05\n",
              "4  2023-03-13     Roupas                  78          305.94     23863.32"
            ],
            "text/html": [
              "\n",
              "  <div id=\"df-d4af0192-4a64-4cd8-82ee-b951c48b2d17\" class=\"colab-df-container\">\n",
              "    <div>\n",
              "<style scoped>\n",
              "    .dataframe tbody tr th:only-of-type {\n",
              "        vertical-align: middle;\n",
              "    }\n",
              "\n",
              "    .dataframe tbody tr th {\n",
              "        vertical-align: top;\n",
              "    }\n",
              "\n",
              "    .dataframe thead th {\n",
              "        text-align: right;\n",
              "    }\n",
              "</style>\n",
              "<table border=\"1\" class=\"dataframe\">\n",
              "  <thead>\n",
              "    <tr style=\"text-align: right;\">\n",
              "      <th></th>\n",
              "      <th>Data</th>\n",
              "      <th>Categoria</th>\n",
              "      <th>Quantidade_Vendida</th>\n",
              "      <th>Preco_Unitario</th>\n",
              "      <th>Valor_Total</th>\n",
              "    </tr>\n",
              "  </thead>\n",
              "  <tbody>\n",
              "    <tr>\n",
              "      <th>0</th>\n",
              "      <td>2023-04-13</td>\n",
              "      <td>Roupas</td>\n",
              "      <td>74</td>\n",
              "      <td>60.43</td>\n",
              "      <td>4471.82</td>\n",
              "    </tr>\n",
              "    <tr>\n",
              "      <th>1</th>\n",
              "      <td>2023-12-15</td>\n",
              "      <td>Alimentos</td>\n",
              "      <td>83</td>\n",
              "      <td>272.88</td>\n",
              "      <td>22649.04</td>\n",
              "    </tr>\n",
              "    <tr>\n",
              "      <th>2</th>\n",
              "      <td>2023-09-28</td>\n",
              "      <td>Roupas</td>\n",
              "      <td>17</td>\n",
              "      <td>195.62</td>\n",
              "      <td>3325.54</td>\n",
              "    </tr>\n",
              "    <tr>\n",
              "      <th>3</th>\n",
              "      <td>2023-04-17</td>\n",
              "      <td>Roupas</td>\n",
              "      <td>85</td>\n",
              "      <td>233.93</td>\n",
              "      <td>19884.05</td>\n",
              "    </tr>\n",
              "    <tr>\n",
              "      <th>4</th>\n",
              "      <td>2023-03-13</td>\n",
              "      <td>Roupas</td>\n",
              "      <td>78</td>\n",
              "      <td>305.94</td>\n",
              "      <td>23863.32</td>\n",
              "    </tr>\n",
              "  </tbody>\n",
              "</table>\n",
              "</div>\n",
              "    <div class=\"colab-df-buttons\">\n",
              "\n",
              "  <div class=\"colab-df-container\">\n",
              "    <button class=\"colab-df-convert\" onclick=\"convertToInteractive('df-d4af0192-4a64-4cd8-82ee-b951c48b2d17')\"\n",
              "            title=\"Convert this dataframe to an interactive table.\"\n",
              "            style=\"display:none;\">\n",
              "\n",
              "  <svg xmlns=\"http://www.w3.org/2000/svg\" height=\"24px\" viewBox=\"0 -960 960 960\">\n",
              "    <path d=\"M120-120v-720h720v720H120Zm60-500h600v-160H180v160Zm220 220h160v-160H400v160Zm0 220h160v-160H400v160ZM180-400h160v-160H180v160Zm440 0h160v-160H620v160ZM180-180h160v-160H180v160Zm440 0h160v-160H620v160Z\"/>\n",
              "  </svg>\n",
              "    </button>\n",
              "\n",
              "  <style>\n",
              "    .colab-df-container {\n",
              "      display:flex;\n",
              "      gap: 12px;\n",
              "    }\n",
              "\n",
              "    .colab-df-convert {\n",
              "      background-color: #E8F0FE;\n",
              "      border: none;\n",
              "      border-radius: 50%;\n",
              "      cursor: pointer;\n",
              "      display: none;\n",
              "      fill: #1967D2;\n",
              "      height: 32px;\n",
              "      padding: 0 0 0 0;\n",
              "      width: 32px;\n",
              "    }\n",
              "\n",
              "    .colab-df-convert:hover {\n",
              "      background-color: #E2EBFA;\n",
              "      box-shadow: 0px 1px 2px rgba(60, 64, 67, 0.3), 0px 1px 3px 1px rgba(60, 64, 67, 0.15);\n",
              "      fill: #174EA6;\n",
              "    }\n",
              "\n",
              "    .colab-df-buttons div {\n",
              "      margin-bottom: 4px;\n",
              "    }\n",
              "\n",
              "    [theme=dark] .colab-df-convert {\n",
              "      background-color: #3B4455;\n",
              "      fill: #D2E3FC;\n",
              "    }\n",
              "\n",
              "    [theme=dark] .colab-df-convert:hover {\n",
              "      background-color: #434B5C;\n",
              "      box-shadow: 0px 1px 3px 1px rgba(0, 0, 0, 0.15);\n",
              "      filter: drop-shadow(0px 1px 2px rgba(0, 0, 0, 0.3));\n",
              "      fill: #FFFFFF;\n",
              "    }\n",
              "  </style>\n",
              "\n",
              "    <script>\n",
              "      const buttonEl =\n",
              "        document.querySelector('#df-d4af0192-4a64-4cd8-82ee-b951c48b2d17 button.colab-df-convert');\n",
              "      buttonEl.style.display =\n",
              "        google.colab.kernel.accessAllowed ? 'block' : 'none';\n",
              "\n",
              "      async function convertToInteractive(key) {\n",
              "        const element = document.querySelector('#df-d4af0192-4a64-4cd8-82ee-b951c48b2d17');\n",
              "        const dataTable =\n",
              "          await google.colab.kernel.invokeFunction('convertToInteractive',\n",
              "                                                    [key], {});\n",
              "        if (!dataTable) return;\n",
              "\n",
              "        const docLinkHtml = 'Like what you see? Visit the ' +\n",
              "          '<a target=\"_blank\" href=https://colab.research.google.com/notebooks/data_table.ipynb>data table notebook</a>'\n",
              "          + ' to learn more about interactive tables.';\n",
              "        element.innerHTML = '';\n",
              "        dataTable['output_type'] = 'display_data';\n",
              "        await google.colab.output.renderOutput(dataTable, element);\n",
              "        const docLink = document.createElement('div');\n",
              "        docLink.innerHTML = docLinkHtml;\n",
              "        element.appendChild(docLink);\n",
              "      }\n",
              "    </script>\n",
              "  </div>\n",
              "\n",
              "\n",
              "<div id=\"df-2e33e145-0a49-4d9a-8655-1450421b743b\">\n",
              "  <button class=\"colab-df-quickchart\" onclick=\"quickchart('df-2e33e145-0a49-4d9a-8655-1450421b743b')\"\n",
              "            title=\"Suggest charts\"\n",
              "            style=\"display:none;\">\n",
              "\n",
              "<svg xmlns=\"http://www.w3.org/2000/svg\" height=\"24px\"viewBox=\"0 0 24 24\"\n",
              "     width=\"24px\">\n",
              "    <g>\n",
              "        <path d=\"M19 3H5c-1.1 0-2 .9-2 2v14c0 1.1.9 2 2 2h14c1.1 0 2-.9 2-2V5c0-1.1-.9-2-2-2zM9 17H7v-7h2v7zm4 0h-2V7h2v10zm4 0h-2v-4h2v4z\"/>\n",
              "    </g>\n",
              "</svg>\n",
              "  </button>\n",
              "\n",
              "<style>\n",
              "  .colab-df-quickchart {\n",
              "      --bg-color: #E8F0FE;\n",
              "      --fill-color: #1967D2;\n",
              "      --hover-bg-color: #E2EBFA;\n",
              "      --hover-fill-color: #174EA6;\n",
              "      --disabled-fill-color: #AAA;\n",
              "      --disabled-bg-color: #DDD;\n",
              "  }\n",
              "\n",
              "  [theme=dark] .colab-df-quickchart {\n",
              "      --bg-color: #3B4455;\n",
              "      --fill-color: #D2E3FC;\n",
              "      --hover-bg-color: #434B5C;\n",
              "      --hover-fill-color: #FFFFFF;\n",
              "      --disabled-bg-color: #3B4455;\n",
              "      --disabled-fill-color: #666;\n",
              "  }\n",
              "\n",
              "  .colab-df-quickchart {\n",
              "    background-color: var(--bg-color);\n",
              "    border: none;\n",
              "    border-radius: 50%;\n",
              "    cursor: pointer;\n",
              "    display: none;\n",
              "    fill: var(--fill-color);\n",
              "    height: 32px;\n",
              "    padding: 0;\n",
              "    width: 32px;\n",
              "  }\n",
              "\n",
              "  .colab-df-quickchart:hover {\n",
              "    background-color: var(--hover-bg-color);\n",
              "    box-shadow: 0 1px 2px rgba(60, 64, 67, 0.3), 0 1px 3px 1px rgba(60, 64, 67, 0.15);\n",
              "    fill: var(--button-hover-fill-color);\n",
              "  }\n",
              "\n",
              "  .colab-df-quickchart-complete:disabled,\n",
              "  .colab-df-quickchart-complete:disabled:hover {\n",
              "    background-color: var(--disabled-bg-color);\n",
              "    fill: var(--disabled-fill-color);\n",
              "    box-shadow: none;\n",
              "  }\n",
              "\n",
              "  .colab-df-spinner {\n",
              "    border: 2px solid var(--fill-color);\n",
              "    border-color: transparent;\n",
              "    border-bottom-color: var(--fill-color);\n",
              "    animation:\n",
              "      spin 1s steps(1) infinite;\n",
              "  }\n",
              "\n",
              "  @keyframes spin {\n",
              "    0% {\n",
              "      border-color: transparent;\n",
              "      border-bottom-color: var(--fill-color);\n",
              "      border-left-color: var(--fill-color);\n",
              "    }\n",
              "    20% {\n",
              "      border-color: transparent;\n",
              "      border-left-color: var(--fill-color);\n",
              "      border-top-color: var(--fill-color);\n",
              "    }\n",
              "    30% {\n",
              "      border-color: transparent;\n",
              "      border-left-color: var(--fill-color);\n",
              "      border-top-color: var(--fill-color);\n",
              "      border-right-color: var(--fill-color);\n",
              "    }\n",
              "    40% {\n",
              "      border-color: transparent;\n",
              "      border-right-color: var(--fill-color);\n",
              "      border-top-color: var(--fill-color);\n",
              "    }\n",
              "    60% {\n",
              "      border-color: transparent;\n",
              "      border-right-color: var(--fill-color);\n",
              "    }\n",
              "    80% {\n",
              "      border-color: transparent;\n",
              "      border-right-color: var(--fill-color);\n",
              "      border-bottom-color: var(--fill-color);\n",
              "    }\n",
              "    90% {\n",
              "      border-color: transparent;\n",
              "      border-bottom-color: var(--fill-color);\n",
              "    }\n",
              "  }\n",
              "</style>\n",
              "\n",
              "  <script>\n",
              "    async function quickchart(key) {\n",
              "      const quickchartButtonEl =\n",
              "        document.querySelector('#' + key + ' button');\n",
              "      quickchartButtonEl.disabled = true;  // To prevent multiple clicks.\n",
              "      quickchartButtonEl.classList.add('colab-df-spinner');\n",
              "      try {\n",
              "        const charts = await google.colab.kernel.invokeFunction(\n",
              "            'suggestCharts', [key], {});\n",
              "      } catch (error) {\n",
              "        console.error('Error during call to suggestCharts:', error);\n",
              "      }\n",
              "      quickchartButtonEl.classList.remove('colab-df-spinner');\n",
              "      quickchartButtonEl.classList.add('colab-df-quickchart-complete');\n",
              "    }\n",
              "    (() => {\n",
              "      let quickchartButtonEl =\n",
              "        document.querySelector('#df-2e33e145-0a49-4d9a-8655-1450421b743b button');\n",
              "      quickchartButtonEl.style.display =\n",
              "        google.colab.kernel.accessAllowed ? 'block' : 'none';\n",
              "    })();\n",
              "  </script>\n",
              "</div>\n",
              "\n",
              "    </div>\n",
              "  </div>\n"
            ],
            "application/vnd.google.colaboratory.intrinsic+json": {
              "type": "dataframe",
              "variable_name": "df",
              "summary": "{\n  \"name\": \"df\",\n  \"rows\": 365,\n  \"fields\": [\n    {\n      \"column\": \"Data\",\n      \"properties\": {\n        \"dtype\": \"object\",\n        \"num_unique_values\": 217,\n        \"samples\": [\n          \"2023-06-30\",\n          \"2023-04-24\",\n          \"2023-08-13\"\n        ],\n        \"semantic_type\": \"\",\n        \"description\": \"\"\n      }\n    },\n    {\n      \"column\": \"Categoria\",\n      \"properties\": {\n        \"dtype\": \"category\",\n        \"num_unique_values\": 5,\n        \"samples\": [\n          \"Alimentos\",\n          \"Livros\",\n          \"Eletr\\u00f4nicos\"\n        ],\n        \"semantic_type\": \"\",\n        \"description\": \"\"\n      }\n    },\n    {\n      \"column\": \"Quantidade_Vendida\",\n      \"properties\": {\n        \"dtype\": \"number\",\n        \"std\": 29,\n        \"min\": 1,\n        \"max\": 99,\n        \"num_unique_values\": 97,\n        \"samples\": [\n          19,\n          52,\n          11\n        ],\n        \"semantic_type\": \"\",\n        \"description\": \"\"\n      }\n    },\n    {\n      \"column\": \"Preco_Unitario\",\n      \"properties\": {\n        \"dtype\": \"number\",\n        \"std\": 140.544313886131,\n        \"min\": 10.12,\n        \"max\": 499.68,\n        \"num_unique_values\": 364,\n        \"samples\": [\n          387.78,\n          387.91,\n          415.13\n        ],\n        \"semantic_type\": \"\",\n        \"description\": \"\"\n      }\n    },\n    {\n      \"column\": \"Valor_Total\",\n      \"properties\": {\n        \"dtype\": \"number\",\n        \"std\": 11374.75726385857,\n        \"min\": 31.64,\n        \"max\": 46699.68,\n        \"num_unique_values\": 365,\n        \"samples\": [\n          12796.74,\n          8921.93,\n          38191.96\n        ],\n        \"semantic_type\": \"\",\n        \"description\": \"\"\n      }\n    }\n  ]\n}"
            }
          },
          "metadata": {},
          "execution_count": 13
        }
      ]
    },
    {
      "cell_type": "markdown",
      "source": [
        "**Pergunta 3: Quantas categorias únicas de produtos estão presentes no DataFrame? Utilize a função `unique` na coluna 'Categoria' para responder.**"
      ],
      "metadata": {
        "id": "uMxXvMb53Dbm"
      }
    },
    {
      "cell_type": "code",
      "source": [
        "df['Categoria'].unique()"
      ],
      "metadata": {
        "colab": {
          "base_uri": "https://localhost:8080/"
        },
        "id": "xKGSPHoFyo1k",
        "outputId": "73764dce-38c1-4b0a-ccf5-935a733d3c50"
      },
      "execution_count": null,
      "outputs": [
        {
          "output_type": "execute_result",
          "data": {
            "text/plain": [
              "array(['Roupas', 'Alimentos', 'Eletrônicos', 'Brinquedos', 'Livros'],\n",
              "      dtype=object)"
            ]
          },
          "metadata": {},
          "execution_count": 15
        }
      ]
    },
    {
      "cell_type": "markdown",
      "source": [
        "**Filtrar os dados para mostrar apenas as vendas da categoria 'Eletrônicos'**"
      ],
      "metadata": {
        "id": "pLo3HQq43Jv9"
      }
    },
    {
      "cell_type": "code",
      "source": [
        "#    ```python\n",
        "#    eletronicos = df[df['Categoria'] == 'Eletrônicos']\n",
        "#    print(eletronicos)\n",
        "\n",
        "eletronicos = df[df['Categoria'] == 'Eletrônicos']\n",
        "print(eletronicos)"
      ],
      "metadata": {
        "colab": {
          "base_uri": "https://localhost:8080/"
        },
        "id": "0Hgq5XUKzJGt",
        "outputId": "02b0b0b9-29e5-4c20-d259-b956a8e04e16"
      },
      "execution_count": null,
      "outputs": [
        {
          "output_type": "stream",
          "name": "stdout",
          "text": [
            "           Data    Categoria  Quantidade_Vendida  Preco_Unitario  Valor_Total\n",
            "5    2023-07-08  Eletrônicos                  73          256.12     18696.76\n",
            "6    2023-01-21  Eletrônicos                   1          274.53       274.53\n",
            "7    2023-04-13  Eletrônicos                  51          248.32     12664.32\n",
            "14   2023-06-01  Eletrônicos                  34          303.52     10319.68\n",
            "18   2023-09-15  Eletrônicos                  39          121.40      4734.60\n",
            "..          ...          ...                 ...             ...          ...\n",
            "347  2023-09-10  Eletrônicos                  33          431.46     14238.18\n",
            "349  2023-09-13  Eletrônicos                  27          201.67      5445.09\n",
            "351  2023-05-08  Eletrônicos                  29          243.57      7063.53\n",
            "353  2023-10-08  Eletrônicos                  57          427.57     24371.49\n",
            "356  2023-02-27  Eletrônicos                  55          466.48     25656.40\n",
            "\n",
            "[73 rows x 5 columns]\n"
          ]
        }
      ]
    },
    {
      "cell_type": "markdown",
      "source": [
        "**Pergunta 4: Qual é a média do valor total das vendas na categoria 'Eletrônicos'?**"
      ],
      "metadata": {
        "id": "BbvHTjRy3OLF"
      }
    },
    {
      "cell_type": "code",
      "source": [
        "#    - Utilize a média na coluna 'Valor_Total' do DataFrame filtrado.\n",
        "\n",
        "media_eletronicos = eletronicos['Valor_Total'].mean()\n",
        "print(media_eletronicos)"
      ],
      "metadata": {
        "colab": {
          "base_uri": "https://localhost:8080/"
        },
        "id": "I3czwttGzfHd",
        "outputId": "3c32d2dc-b7ea-4533-9eda-3e86da1e6b7d"
      },
      "execution_count": null,
      "outputs": [
        {
          "output_type": "stream",
          "name": "stdout",
          "text": [
            "12291.256301369864\n"
          ]
        }
      ]
    },
    {
      "cell_type": "markdown",
      "source": [
        "**Filtrar as vendas acima de R$ 1000**"
      ],
      "metadata": {
        "id": "q5KF8EST3Tkc"
      }
    },
    {
      "cell_type": "code",
      "source": [
        "vendas_acima_1000 = df[df['Valor_Total'] > 1000]\n",
        "print(vendas_acima_1000)\n",
        "\n"
      ],
      "metadata": {
        "colab": {
          "base_uri": "https://localhost:8080/"
        },
        "id": "SkC1BCQz1Ife",
        "outputId": "5cc20d20-7404-4719-a2a1-f1b2c0aeb1a7"
      },
      "execution_count": null,
      "outputs": [
        {
          "output_type": "stream",
          "name": "stdout",
          "text": [
            "           Data   Categoria  Quantidade_Vendida  Preco_Unitario  Valor_Total\n",
            "0    2023-04-13      Roupas                  74           60.43      4471.82\n",
            "1    2023-12-15   Alimentos                  83          272.88     22649.04\n",
            "2    2023-09-28      Roupas                  17          195.62      3325.54\n",
            "3    2023-04-17      Roupas                  85          233.93     19884.05\n",
            "4    2023-03-13      Roupas                  78          305.94     23863.32\n",
            "..          ...         ...                 ...             ...          ...\n",
            "358  2023-12-26  Brinquedos                  68          147.88     10055.84\n",
            "359  2023-06-23   Alimentos                  86          133.80     11506.80\n",
            "361  2023-04-24  Brinquedos                  10          350.90      3509.00\n",
            "363  2023-12-08  Brinquedos                  74          270.98     20052.52\n",
            "364  2023-05-31      Roupas                  97          481.44     46699.68\n",
            "\n",
            "[330 rows x 5 columns]\n"
          ]
        }
      ]
    },
    {
      "cell_type": "markdown",
      "source": [
        "**Pergunta 5: Quantas vendas acima de R$ 1000 ocorreram? Utilize a função `len` ou `shape` para descobrir a quantidade de registros.**"
      ],
      "metadata": {
        "id": "bDvLO1fb3Xg8"
      }
    },
    {
      "cell_type": "code",
      "source": [
        "quantidade_acima_1000 = len(vendas_acima_1000)\n",
        "print(quantidade_acima_1000)"
      ],
      "metadata": {
        "colab": {
          "base_uri": "https://localhost:8080/"
        },
        "id": "zctieX3M1PvF",
        "outputId": "2d806885-6ee5-44bb-9dee-8e65aa5b29cb"
      },
      "execution_count": null,
      "outputs": [
        {
          "output_type": "stream",
          "name": "stdout",
          "text": [
            "330\n"
          ]
        }
      ]
    },
    {
      "cell_type": "markdown",
      "source": [
        "### Anotações da etapa:\n",
        "Começamos lendo o arquivo e pra testar se estava tudo certo usei o head, se a gente colocar entre os parenteses do head algum numero, ele vai puxar o numero de linhas que vai aparecer.\n",
        "\n",
        "Com o dtypes, é possível verificar qual o tipo de dado que consta, isso é importante pra saber se vai ser possível fazer os calculos também.\n",
        "\n",
        "Com o unique e selecionando uma coluna, foi possível verificar as opções que constavam nela dentro do arquivo.\n",
        "\n",
        "Depois disso, foi criado uma variavel com um código que puxa apenas a categoria eletronicos de dentro da planilha.\n",
        "\n",
        "Com essa informação, foi possível obter uma média das vendas da categoria eletronicos.\n",
        "\n",
        "Criamos também uma variavel pra puxar apenas os as vendas com valor total acima de 1000 e com essa informação foi possível saber quantas vendas existem com valor acima de 1000."
      ],
      "metadata": {
        "id": "ksZoV06oAkCG"
      }
    },
    {
      "cell_type": "markdown",
      "source": [
        "### **Parte 3: Agrupamento e Agregação**\n",
        "\n"
      ],
      "metadata": {
        "id": "FTQdCD5I3mP-"
      }
    },
    {
      "cell_type": "markdown",
      "source": [
        "**Agrupar os dados por categoria e calcular o total de vendas por categoria:**\n",
        "  "
      ],
      "metadata": {
        "id": "edGQJpL53qV2"
      }
    },
    {
      "cell_type": "code",
      "source": [
        "total_por_categoria = df.groupby('Categoria')['Valor_Total'].sum().reset_index()\n",
        "print(total_por_categoria)\n"
      ],
      "metadata": {
        "colab": {
          "base_uri": "https://localhost:8080/"
        },
        "id": "Fj6Df4Q533AG",
        "outputId": "a939df60-9578-4325-95fe-78b666b12b02"
      },
      "execution_count": null,
      "outputs": [
        {
          "output_type": "stream",
          "name": "stdout",
          "text": [
            "     Categoria  Valor_Total\n",
            "0    Alimentos    742457.74\n",
            "1   Brinquedos   1187964.04\n",
            "2  Eletrônicos    897261.71\n",
            "3       Livros    963685.46\n",
            "4       Roupas    991215.29\n"
          ]
        }
      ]
    },
    {
      "cell_type": "markdown",
      "source": [
        "**Qual categoria teve o maior valor total de vendas?**"
      ],
      "metadata": {
        "id": "Ql5o1Ufw4Rx4"
      }
    },
    {
      "cell_type": "code",
      "source": [
        "categoria_max_vendas = total_por_categoria.loc[total_por_categoria['Valor_Total'].idxmax(), 'Categoria']\n",
        "print(f\"A categoria com o maior valor total de vendas é: {categoria_max_vendas}\")"
      ],
      "metadata": {
        "colab": {
          "base_uri": "https://localhost:8080/"
        },
        "id": "yIuR-STo4T3e",
        "outputId": "8f314d41-a69b-403a-efda-c37dfcfd8812"
      },
      "execution_count": null,
      "outputs": [
        {
          "output_type": "stream",
          "name": "stdout",
          "text": [
            "A categoria com o maior valor total de vendas é: Brinquedos\n"
          ]
        }
      ]
    },
    {
      "cell_type": "markdown",
      "source": [
        "**Calcular a quantidade média vendida por categoria:**\n"
      ],
      "metadata": {
        "id": "8CZbDok-5GhF"
      }
    },
    {
      "cell_type": "code",
      "source": [
        "media_quantidade_categoria = df.groupby('Categoria')['Quantidade_Vendida'].mean().reset_index()\n",
        "print(media_quantidade_categoria)"
      ],
      "metadata": {
        "colab": {
          "base_uri": "https://localhost:8080/"
        },
        "id": "Edc7zfbm5IqF",
        "outputId": "41037c7e-ca00-4cdb-a728-9786403d8ef5"
      },
      "execution_count": null,
      "outputs": [
        {
          "output_type": "stream",
          "name": "stdout",
          "text": [
            "     Categoria  Quantidade_Vendida\n",
            "0    Alimentos           55.618182\n",
            "1   Brinquedos           47.247191\n",
            "2  Eletrônicos           46.780822\n",
            "3       Livros           50.917808\n",
            "4       Roupas           47.200000\n"
          ]
        }
      ]
    },
    {
      "cell_type": "markdown",
      "source": [
        "**Pergunta 7: Qual categoria teve a maior quantidade média vendida?**"
      ],
      "metadata": {
        "id": "TafLAMQK5Smt"
      }
    },
    {
      "cell_type": "code",
      "source": [
        "categoria_mean_vendida = media_quantidade_categoria.loc[media_quantidade_categoria['Quantidade_Vendida'].idxmax(), 'Categoria']\n",
        "print(f\"A categoria com maior quantidade vendida é: {categoria_mean_vendida}\")"
      ],
      "metadata": {
        "colab": {
          "base_uri": "https://localhost:8080/"
        },
        "id": "X-tUbsLU5TH8",
        "outputId": "5560aa38-3707-42c9-ca33-a0d4e617739e"
      },
      "execution_count": null,
      "outputs": [
        {
          "output_type": "stream",
          "name": "stdout",
          "text": [
            "A categoria com maior quantidade vendida é: Alimentos\n"
          ]
        }
      ]
    },
    {
      "cell_type": "markdown",
      "source": [
        "### Anotações da etapa:\n",
        "Aqui já começamos agrupando algumas informações para visualizar e gerar o total de vendas por categoria e isso foi um passo pra conseguir fazer a média por categoria e encontrar a maior meédia.\n",
        "O mesmo para Quantidade Vendida.\n",
        "\n",
        "O uso do .loc foi para ele fazer a seleção da categoria que foi filtrada.\n",
        "\n",
        "\n",
        "\n"
      ],
      "metadata": {
        "id": "QwGfER91B35m"
      }
    },
    {
      "cell_type": "markdown",
      "source": [
        "### **Parte 4: Visualização de Dados**\n"
      ],
      "metadata": {
        "id": "LJ_Y59rF6MeR"
      }
    },
    {
      "cell_type": "markdown",
      "source": [
        "**Criar um gráfico de barras mostrando o total de vendas por categoria:**\n"
      ],
      "metadata": {
        "id": "cjop4b_F7cPv"
      }
    },
    {
      "cell_type": "code",
      "source": [
        "plt.figure(figsize=(10, 6))\n",
        "plt.bar(total_por_categoria['Categoria'], total_por_categoria['Valor_Total'], color='pink')\n",
        "plt.xlabel('Categoria')\n",
        "plt.ylabel('Valor Total de Vendas (R$)')\n",
        "plt.title('Total de Vendas por Categoria')\n",
        "plt.show()"
      ],
      "metadata": {
        "colab": {
          "base_uri": "https://localhost:8080/",
          "height": 564
        },
        "id": "l02OjKXD7eve",
        "outputId": "4a90d35a-8b2f-454d-d7a8-05cbb14cecfd"
      },
      "execution_count": null,
      "outputs": [
        {
          "output_type": "display_data",
          "data": {
            "text/plain": [
              "<Figure size 1000x600 with 1 Axes>"
            ],
            "image/png": "[encoded data removed]"
          },
          "metadata": {}
        }
      ]
    },
    {
      "cell_type": "markdown",
      "source": [
        "**Pergunta 8: Com base no gráfico, qual categoria visualmente se destaca em termos de vendas totais?**\n",
        "\n",
        "\n",
        "> Resposta: Observando o gráfico, a categoria que se destaca é de Brinquedos, onde demonstra que obteve o maior faturamento em vendas por categoria. Na sequencia, identificamos roupas, livros, eletrônicos e por fim, alimentos.\n",
        "\n"
      ],
      "metadata": {
        "id": "Art8ICni7ssu"
      }
    },
    {
      "cell_type": "markdown",
      "source": [
        "**Criar um gráfico de linha mostrando a variação diária das vendas de 'Eletrônicos'**"
      ],
      "metadata": {
        "id": "f9wtBdkJ8aDu"
      }
    },
    {
      "cell_type": "code",
      "source": [
        "vendas_diarias = eletronicos.groupby('Data')['Valor_Total'].sum().reset_index()\n",
        "\n",
        "plt.figure(figsize=(25, 6))\n",
        "plt.plot(vendas_diarias['Data'], vendas_diarias['Valor_Total'], color='purple')\n",
        "plt.xlabel('Data')\n",
        "plt.ylabel('Valor Total de Vendas (R$)')\n",
        "plt.title('Variação Diária das Vendas de Eletrônicos')\n",
        "plt.xticks(rotation=45)\n",
        "plt.show()"
      ],
      "metadata": {
        "colab": {
          "base_uri": "https://localhost:8080/",
          "height": 548
        },
        "id": "QI5eXmxl8bhO",
        "outputId": "007c11e2-e582-493b-8c02-b1f5ecdafe46"
      },
      "execution_count": null,
      "outputs": [
        {
          "output_type": "display_data",
          "data": {
            "text/plain": [
              "<Figure size 2500x600 with 1 Axes>"
            ],
            "image/png": "[encoded data removed]"
          },
          "metadata": {}
        }
      ]
    },
    {
      "cell_type": "markdown",
      "source": [
        "**Pergunta 9: Existe algum padrão ou tendência observável nas vendas diárias de eletrônicos?**\n",
        "\n",
        "\n",
        "\n",
        "> A grande maioria das vendas mais altas acontecem no inicio do mês, entre os dias 05 - 10 de cada mês. A empresa teve uma queda nas vendas considerando o gráfico de janeiro até dezembro.\n",
        "\n"
      ],
      "metadata": {
        "id": "DF3lanWK8xBf"
      }
    }
  ]
}