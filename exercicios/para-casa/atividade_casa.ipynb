{
 "cells": [
  {
   "cell_type": "code",
   "execution_count": 2,
   "metadata": {},
   "outputs": [],
   "source": [
    "import pandas as pd\n",
    "import numpy as np\n",
    "import matplotlib.pyplot as plt"
   ]
  },
  {
   "cell_type": "markdown",
   "metadata": {},
   "source": [
    "## Consulta e Filtragem de Dados ##\n",
    "\n",
    "**Carregar os dados**"
   ]
  },
  {
   "cell_type": "code",
   "execution_count": 3,
   "metadata": {},
   "outputs": [
    {
     "data": {
      "text/html": [
       "<div>\n",
       "<style scoped>\n",
       "    .dataframe tbody tr th:only-of-type {\n",
       "        vertical-align: middle;\n",
       "    }\n",
       "\n",
       "    .dataframe tbody tr th {\n",
       "        vertical-align: top;\n",
       "    }\n",
       "\n",
       "    .dataframe thead th {\n",
       "        text-align: right;\n",
       "    }\n",
       "</style>\n",
       "<table border=\"1\" class=\"dataframe\">\n",
       "  <thead>\n",
       "    <tr style=\"text-align: right;\">\n",
       "      <th></th>\n",
       "      <th>Data</th>\n",
       "      <th>Categoria</th>\n",
       "      <th>Quantidade_Vendida</th>\n",
       "      <th>Preco_Unitario</th>\n",
       "      <th>Valor_Total</th>\n",
       "    </tr>\n",
       "  </thead>\n",
       "  <tbody>\n",
       "    <tr>\n",
       "      <th>0</th>\n",
       "      <td>2023-04-13</td>\n",
       "      <td>Roupas</td>\n",
       "      <td>74</td>\n",
       "      <td>60.43</td>\n",
       "      <td>4471.82</td>\n",
       "    </tr>\n",
       "    <tr>\n",
       "      <th>1</th>\n",
       "      <td>2023-12-15</td>\n",
       "      <td>Alimentos</td>\n",
       "      <td>83</td>\n",
       "      <td>272.88</td>\n",
       "      <td>22649.04</td>\n",
       "    </tr>\n",
       "    <tr>\n",
       "      <th>2</th>\n",
       "      <td>2023-09-28</td>\n",
       "      <td>Roupas</td>\n",
       "      <td>17</td>\n",
       "      <td>195.62</td>\n",
       "      <td>3325.54</td>\n",
       "    </tr>\n",
       "    <tr>\n",
       "      <th>3</th>\n",
       "      <td>2023-04-17</td>\n",
       "      <td>Roupas</td>\n",
       "      <td>85</td>\n",
       "      <td>233.93</td>\n",
       "      <td>19884.05</td>\n",
       "    </tr>\n",
       "    <tr>\n",
       "      <th>4</th>\n",
       "      <td>2023-03-13</td>\n",
       "      <td>Roupas</td>\n",
       "      <td>78</td>\n",
       "      <td>305.94</td>\n",
       "      <td>23863.32</td>\n",
       "    </tr>\n",
       "  </tbody>\n",
       "</table>\n",
       "</div>"
      ],
      "text/plain": [
       "         Data  Categoria  Quantidade_Vendida  Preco_Unitario  Valor_Total\n",
       "0  2023-04-13     Roupas                  74           60.43      4471.82\n",
       "1  2023-12-15  Alimentos                  83          272.88     22649.04\n",
       "2  2023-09-28     Roupas                  17          195.62      3325.54\n",
       "3  2023-04-17     Roupas                  85          233.93     19884.05\n",
       "4  2023-03-13     Roupas                  78          305.94     23863.32"
      ]
     },
     "execution_count": 3,
     "metadata": {},
     "output_type": "execute_result"
    }
   ],
   "source": [
    "df = pd.read_csv(\"dados_vendas.csv\")\n",
    "df.head()"
   ]
  },
  {
   "cell_type": "markdown",
   "metadata": {},
   "source": [
    "**Pergunta 1: Quantas linhas e colunas existem no DataFrame carregado?**\n",
    "\n",
    "O DataFrame df possui 365 linhas e 5 colunas."
   ]
  },
  {
   "cell_type": "code",
   "execution_count": 4,
   "metadata": {},
   "outputs": [
    {
     "data": {
      "text/plain": [
       "(365, 5)"
      ]
     },
     "execution_count": 4,
     "metadata": {},
     "output_type": "execute_result"
    }
   ],
   "source": [
    "df.shape"
   ]
  },
  {
   "cell_type": "markdown",
   "metadata": {},
   "source": [
    "**Pergunta 2: Quais são os tipos de dados (dtypes) das colunas?**\n",
    "\n",
    "O tipo de dados das colunas Data e Categoria é *object*.\n",
    "\n",
    "O tipo da coluna Quantidade_Vendida é *int* (integer).\n",
    "\n",
    "O tipo das colunas Preco_Unitario e Valor_Total é *float*. "
   ]
  },
  {
   "cell_type": "code",
   "execution_count": 5,
   "metadata": {},
   "outputs": [
    {
     "data": {
      "text/plain": [
       "Data                   object\n",
       "Categoria              object\n",
       "Quantidade_Vendida      int64\n",
       "Preco_Unitario        float64\n",
       "Valor_Total           float64\n",
       "dtype: object"
      ]
     },
     "execution_count": 5,
     "metadata": {},
     "output_type": "execute_result"
    }
   ],
   "source": [
    "df.dtypes"
   ]
  },
  {
   "cell_type": "markdown",
   "metadata": {},
   "source": [
    "**Exibir as primeiras 5 linhas do DataFrame:**"
   ]
  },
  {
   "cell_type": "code",
   "execution_count": 6,
   "metadata": {},
   "outputs": [
    {
     "data": {
      "text/html": [
       "<div>\n",
       "<style scoped>\n",
       "    .dataframe tbody tr th:only-of-type {\n",
       "        vertical-align: middle;\n",
       "    }\n",
       "\n",
       "    .dataframe tbody tr th {\n",
       "        vertical-align: top;\n",
       "    }\n",
       "\n",
       "    .dataframe thead th {\n",
       "        text-align: right;\n",
       "    }\n",
       "</style>\n",
       "<table border=\"1\" class=\"dataframe\">\n",
       "  <thead>\n",
       "    <tr style=\"text-align: right;\">\n",
       "      <th></th>\n",
       "      <th>Data</th>\n",
       "      <th>Categoria</th>\n",
       "      <th>Quantidade_Vendida</th>\n",
       "      <th>Preco_Unitario</th>\n",
       "      <th>Valor_Total</th>\n",
       "    </tr>\n",
       "  </thead>\n",
       "  <tbody>\n",
       "    <tr>\n",
       "      <th>0</th>\n",
       "      <td>2023-04-13</td>\n",
       "      <td>Roupas</td>\n",
       "      <td>74</td>\n",
       "      <td>60.43</td>\n",
       "      <td>4471.82</td>\n",
       "    </tr>\n",
       "    <tr>\n",
       "      <th>1</th>\n",
       "      <td>2023-12-15</td>\n",
       "      <td>Alimentos</td>\n",
       "      <td>83</td>\n",
       "      <td>272.88</td>\n",
       "      <td>22649.04</td>\n",
       "    </tr>\n",
       "    <tr>\n",
       "      <th>2</th>\n",
       "      <td>2023-09-28</td>\n",
       "      <td>Roupas</td>\n",
       "      <td>17</td>\n",
       "      <td>195.62</td>\n",
       "      <td>3325.54</td>\n",
       "    </tr>\n",
       "    <tr>\n",
       "      <th>3</th>\n",
       "      <td>2023-04-17</td>\n",
       "      <td>Roupas</td>\n",
       "      <td>85</td>\n",
       "      <td>233.93</td>\n",
       "      <td>19884.05</td>\n",
       "    </tr>\n",
       "    <tr>\n",
       "      <th>4</th>\n",
       "      <td>2023-03-13</td>\n",
       "      <td>Roupas</td>\n",
       "      <td>78</td>\n",
       "      <td>305.94</td>\n",
       "      <td>23863.32</td>\n",
       "    </tr>\n",
       "  </tbody>\n",
       "</table>\n",
       "</div>"
      ],
      "text/plain": [
       "         Data  Categoria  Quantidade_Vendida  Preco_Unitario  Valor_Total\n",
       "0  2023-04-13     Roupas                  74           60.43      4471.82\n",
       "1  2023-12-15  Alimentos                  83          272.88     22649.04\n",
       "2  2023-09-28     Roupas                  17          195.62      3325.54\n",
       "3  2023-04-17     Roupas                  85          233.93     19884.05\n",
       "4  2023-03-13     Roupas                  78          305.94     23863.32"
      ]
     },
     "execution_count": 6,
     "metadata": {},
     "output_type": "execute_result"
    }
   ],
   "source": [
    "df.head()"
   ]
  },
  {
   "cell_type": "markdown",
   "metadata": {},
   "source": [
    "**Pergunta 3: Quantas categorias únicas de produtos estão presentes no DataFrame?**\n",
    "\n",
    "Há 5 categorias únicas de produtos no DataFrame."
   ]
  },
  {
   "cell_type": "code",
   "execution_count": 7,
   "metadata": {},
   "outputs": [
    {
     "data": {
      "text/plain": [
       "5"
      ]
     },
     "execution_count": 7,
     "metadata": {},
     "output_type": "execute_result"
    }
   ],
   "source": [
    "categorias_unicas = len(df['Categoria'].unique())\n",
    "categorias_unicas"
   ]
  },
  {
   "cell_type": "markdown",
   "metadata": {},
   "source": [
    "**Filtrar os dados para mostrar apenas as vendas da categoria 'Eletrônicos':**"
   ]
  },
  {
   "cell_type": "code",
   "execution_count": 8,
   "metadata": {},
   "outputs": [
    {
     "data": {
      "text/html": [
       "<div>\n",
       "<style scoped>\n",
       "    .dataframe tbody tr th:only-of-type {\n",
       "        vertical-align: middle;\n",
       "    }\n",
       "\n",
       "    .dataframe tbody tr th {\n",
       "        vertical-align: top;\n",
       "    }\n",
       "\n",
       "    .dataframe thead th {\n",
       "        text-align: right;\n",
       "    }\n",
       "</style>\n",
       "<table border=\"1\" class=\"dataframe\">\n",
       "  <thead>\n",
       "    <tr style=\"text-align: right;\">\n",
       "      <th></th>\n",
       "      <th>Data</th>\n",
       "      <th>Categoria</th>\n",
       "      <th>Quantidade_Vendida</th>\n",
       "      <th>Preco_Unitario</th>\n",
       "      <th>Valor_Total</th>\n",
       "    </tr>\n",
       "  </thead>\n",
       "  <tbody>\n",
       "    <tr>\n",
       "      <th>5</th>\n",
       "      <td>2023-07-08</td>\n",
       "      <td>Eletrônicos</td>\n",
       "      <td>73</td>\n",
       "      <td>256.12</td>\n",
       "      <td>18696.76</td>\n",
       "    </tr>\n",
       "    <tr>\n",
       "      <th>6</th>\n",
       "      <td>2023-01-21</td>\n",
       "      <td>Eletrônicos</td>\n",
       "      <td>1</td>\n",
       "      <td>274.53</td>\n",
       "      <td>274.53</td>\n",
       "    </tr>\n",
       "    <tr>\n",
       "      <th>7</th>\n",
       "      <td>2023-04-13</td>\n",
       "      <td>Eletrônicos</td>\n",
       "      <td>51</td>\n",
       "      <td>248.32</td>\n",
       "      <td>12664.32</td>\n",
       "    </tr>\n",
       "    <tr>\n",
       "      <th>14</th>\n",
       "      <td>2023-06-01</td>\n",
       "      <td>Eletrônicos</td>\n",
       "      <td>34</td>\n",
       "      <td>303.52</td>\n",
       "      <td>10319.68</td>\n",
       "    </tr>\n",
       "    <tr>\n",
       "      <th>18</th>\n",
       "      <td>2023-09-15</td>\n",
       "      <td>Eletrônicos</td>\n",
       "      <td>39</td>\n",
       "      <td>121.40</td>\n",
       "      <td>4734.60</td>\n",
       "    </tr>\n",
       "  </tbody>\n",
       "</table>\n",
       "</div>"
      ],
      "text/plain": [
       "          Data    Categoria  Quantidade_Vendida  Preco_Unitario  Valor_Total\n",
       "5   2023-07-08  Eletrônicos                  73          256.12     18696.76\n",
       "6   2023-01-21  Eletrônicos                   1          274.53       274.53\n",
       "7   2023-04-13  Eletrônicos                  51          248.32     12664.32\n",
       "14  2023-06-01  Eletrônicos                  34          303.52     10319.68\n",
       "18  2023-09-15  Eletrônicos                  39          121.40      4734.60"
      ]
     },
     "execution_count": 8,
     "metadata": {},
     "output_type": "execute_result"
    }
   ],
   "source": [
    "eletronicos = df[df['Categoria'] == 'Eletrônicos']\n",
    "eletronicos.head()"
   ]
  },
  {
   "cell_type": "markdown",
   "metadata": {},
   "source": [
    "**Pergunta 4: Qual é a média do valor total das vendas na categoria 'Eletrônicos'?**\n",
    "\n",
    "A média do valor total das vendas desta categoria é 12.291,26"
   ]
  },
  {
   "cell_type": "code",
   "execution_count": 9,
   "metadata": {},
   "outputs": [
    {
     "data": {
      "text/plain": [
       "np.float64(12291.26)"
      ]
     },
     "execution_count": 9,
     "metadata": {},
     "output_type": "execute_result"
    }
   ],
   "source": [
    "round(eletronicos['Valor_Total'].mean(), 2)"
   ]
  },
  {
   "cell_type": "markdown",
   "metadata": {},
   "source": [
    "**Filtrar as vendas acima de R$ 1000:**"
   ]
  },
  {
   "cell_type": "code",
   "execution_count": 10,
   "metadata": {},
   "outputs": [
    {
     "data": {
      "text/html": [
       "<div>\n",
       "<style scoped>\n",
       "    .dataframe tbody tr th:only-of-type {\n",
       "        vertical-align: middle;\n",
       "    }\n",
       "\n",
       "    .dataframe tbody tr th {\n",
       "        vertical-align: top;\n",
       "    }\n",
       "\n",
       "    .dataframe thead th {\n",
       "        text-align: right;\n",
       "    }\n",
       "</style>\n",
       "<table border=\"1\" class=\"dataframe\">\n",
       "  <thead>\n",
       "    <tr style=\"text-align: right;\">\n",
       "      <th></th>\n",
       "      <th>Data</th>\n",
       "      <th>Categoria</th>\n",
       "      <th>Quantidade_Vendida</th>\n",
       "      <th>Preco_Unitario</th>\n",
       "      <th>Valor_Total</th>\n",
       "    </tr>\n",
       "  </thead>\n",
       "  <tbody>\n",
       "    <tr>\n",
       "      <th>0</th>\n",
       "      <td>2023-04-13</td>\n",
       "      <td>Roupas</td>\n",
       "      <td>74</td>\n",
       "      <td>60.43</td>\n",
       "      <td>4471.82</td>\n",
       "    </tr>\n",
       "    <tr>\n",
       "      <th>1</th>\n",
       "      <td>2023-12-15</td>\n",
       "      <td>Alimentos</td>\n",
       "      <td>83</td>\n",
       "      <td>272.88</td>\n",
       "      <td>22649.04</td>\n",
       "    </tr>\n",
       "    <tr>\n",
       "      <th>2</th>\n",
       "      <td>2023-09-28</td>\n",
       "      <td>Roupas</td>\n",
       "      <td>17</td>\n",
       "      <td>195.62</td>\n",
       "      <td>3325.54</td>\n",
       "    </tr>\n",
       "    <tr>\n",
       "      <th>3</th>\n",
       "      <td>2023-04-17</td>\n",
       "      <td>Roupas</td>\n",
       "      <td>85</td>\n",
       "      <td>233.93</td>\n",
       "      <td>19884.05</td>\n",
       "    </tr>\n",
       "    <tr>\n",
       "      <th>4</th>\n",
       "      <td>2023-03-13</td>\n",
       "      <td>Roupas</td>\n",
       "      <td>78</td>\n",
       "      <td>305.94</td>\n",
       "      <td>23863.32</td>\n",
       "    </tr>\n",
       "  </tbody>\n",
       "</table>\n",
       "</div>"
      ],
      "text/plain": [
       "         Data  Categoria  Quantidade_Vendida  Preco_Unitario  Valor_Total\n",
       "0  2023-04-13     Roupas                  74           60.43      4471.82\n",
       "1  2023-12-15  Alimentos                  83          272.88     22649.04\n",
       "2  2023-09-28     Roupas                  17          195.62      3325.54\n",
       "3  2023-04-17     Roupas                  85          233.93     19884.05\n",
       "4  2023-03-13     Roupas                  78          305.94     23863.32"
      ]
     },
     "execution_count": 10,
     "metadata": {},
     "output_type": "execute_result"
    }
   ],
   "source": [
    "vendas_acima_1000 = df[df['Valor_Total'] > 1000]\n",
    "vendas_acima_1000.head()"
   ]
  },
  {
   "cell_type": "markdown",
   "metadata": {},
   "source": [
    "**Pergunta 5: Quantas vendas acima de R$ 1000 ocorreram?**\n",
    "\n",
    "Ocorreram 330 vendas acima de R$ 1000"
   ]
  },
  {
   "cell_type": "code",
   "execution_count": 11,
   "metadata": {},
   "outputs": [
    {
     "data": {
      "text/plain": [
       "(330, 5)"
      ]
     },
     "execution_count": 11,
     "metadata": {},
     "output_type": "execute_result"
    }
   ],
   "source": [
    "vendas_acima_1000.shape"
   ]
  },
  {
   "cell_type": "markdown",
   "metadata": {},
   "source": [
    "## Agrupamento e Agregação ##\n",
    "\n",
    "**Agrupar os dados por categoria e calcular o total de vendas por categoria:**"
   ]
  },
  {
   "cell_type": "code",
   "execution_count": 12,
   "metadata": {},
   "outputs": [
    {
     "data": {
      "text/html": [
       "<div>\n",
       "<style scoped>\n",
       "    .dataframe tbody tr th:only-of-type {\n",
       "        vertical-align: middle;\n",
       "    }\n",
       "\n",
       "    .dataframe tbody tr th {\n",
       "        vertical-align: top;\n",
       "    }\n",
       "\n",
       "    .dataframe thead th {\n",
       "        text-align: right;\n",
       "    }\n",
       "</style>\n",
       "<table border=\"1\" class=\"dataframe\">\n",
       "  <thead>\n",
       "    <tr style=\"text-align: right;\">\n",
       "      <th></th>\n",
       "      <th>Categoria</th>\n",
       "      <th>Valor_Total</th>\n",
       "    </tr>\n",
       "  </thead>\n",
       "  <tbody>\n",
       "    <tr>\n",
       "      <th>0</th>\n",
       "      <td>Alimentos</td>\n",
       "      <td>742457.74</td>\n",
       "    </tr>\n",
       "    <tr>\n",
       "      <th>1</th>\n",
       "      <td>Brinquedos</td>\n",
       "      <td>1187964.04</td>\n",
       "    </tr>\n",
       "    <tr>\n",
       "      <th>2</th>\n",
       "      <td>Eletrônicos</td>\n",
       "      <td>897261.71</td>\n",
       "    </tr>\n",
       "    <tr>\n",
       "      <th>3</th>\n",
       "      <td>Livros</td>\n",
       "      <td>963685.46</td>\n",
       "    </tr>\n",
       "    <tr>\n",
       "      <th>4</th>\n",
       "      <td>Roupas</td>\n",
       "      <td>991215.29</td>\n",
       "    </tr>\n",
       "  </tbody>\n",
       "</table>\n",
       "</div>"
      ],
      "text/plain": [
       "     Categoria  Valor_Total\n",
       "0    Alimentos    742457.74\n",
       "1   Brinquedos   1187964.04\n",
       "2  Eletrônicos    897261.71\n",
       "3       Livros    963685.46\n",
       "4       Roupas    991215.29"
      ]
     },
     "execution_count": 12,
     "metadata": {},
     "output_type": "execute_result"
    }
   ],
   "source": [
    "total_por_categoria = df.groupby('Categoria')['Valor_Total'].sum().reset_index()\n",
    "total_por_categoria"
   ]
  },
  {
   "cell_type": "markdown",
   "metadata": {},
   "source": [
    "**Pergunta 6: Qual categoria teve o maior valor total de vendas?**\n",
    "\n",
    "A categoria Brinquedos"
   ]
  },
  {
   "cell_type": "markdown",
   "metadata": {},
   "source": [
    "**Calcular a quantidade média vendida por categoria:**"
   ]
  },
  {
   "cell_type": "code",
   "execution_count": 13,
   "metadata": {},
   "outputs": [
    {
     "data": {
      "text/html": [
       "<div>\n",
       "<style scoped>\n",
       "    .dataframe tbody tr th:only-of-type {\n",
       "        vertical-align: middle;\n",
       "    }\n",
       "\n",
       "    .dataframe tbody tr th {\n",
       "        vertical-align: top;\n",
       "    }\n",
       "\n",
       "    .dataframe thead th {\n",
       "        text-align: right;\n",
       "    }\n",
       "</style>\n",
       "<table border=\"1\" class=\"dataframe\">\n",
       "  <thead>\n",
       "    <tr style=\"text-align: right;\">\n",
       "      <th></th>\n",
       "      <th>Categoria</th>\n",
       "      <th>Quantidade_Vendida</th>\n",
       "    </tr>\n",
       "  </thead>\n",
       "  <tbody>\n",
       "    <tr>\n",
       "      <th>0</th>\n",
       "      <td>Alimentos</td>\n",
       "      <td>55.618182</td>\n",
       "    </tr>\n",
       "    <tr>\n",
       "      <th>1</th>\n",
       "      <td>Brinquedos</td>\n",
       "      <td>47.247191</td>\n",
       "    </tr>\n",
       "    <tr>\n",
       "      <th>2</th>\n",
       "      <td>Eletrônicos</td>\n",
       "      <td>46.780822</td>\n",
       "    </tr>\n",
       "    <tr>\n",
       "      <th>3</th>\n",
       "      <td>Livros</td>\n",
       "      <td>50.917808</td>\n",
       "    </tr>\n",
       "    <tr>\n",
       "      <th>4</th>\n",
       "      <td>Roupas</td>\n",
       "      <td>47.200000</td>\n",
       "    </tr>\n",
       "  </tbody>\n",
       "</table>\n",
       "</div>"
      ],
      "text/plain": [
       "     Categoria  Quantidade_Vendida\n",
       "0    Alimentos           55.618182\n",
       "1   Brinquedos           47.247191\n",
       "2  Eletrônicos           46.780822\n",
       "3       Livros           50.917808\n",
       "4       Roupas           47.200000"
      ]
     },
     "execution_count": 13,
     "metadata": {},
     "output_type": "execute_result"
    }
   ],
   "source": [
    "media_quantidade_categoria = df.groupby('Categoria')['Quantidade_Vendida'].mean().reset_index()\n",
    "media_quantidade_categoria"
   ]
  },
  {
   "cell_type": "markdown",
   "metadata": {},
   "source": [
    "**Pergunta 7: Qual categoria teve a maior quantidade média vendida?**\n",
    "\n",
    "A categoria Alimentos"
   ]
  },
  {
   "cell_type": "markdown",
   "metadata": {},
   "source": [
    "## Visualização de Dados ##\n",
    "\n",
    "**Criar um gráfico de barras mostrando o total de vendas por categoria:**"
   ]
  },
  {
   "cell_type": "code",
   "execution_count": 14,
   "metadata": {},
   "outputs": [
    {
     "data": {
      "image/png": "[encoded data removed]",
      "text/plain": [
       "<Figure size 1000x600 with 1 Axes>"
      ]
     },
     "metadata": {},
     "output_type": "display_data"
    }
   ],
   "source": [
    "plt.figure(figsize=(10, 6))\n",
    "plt.bar(total_por_categoria['Categoria'], total_por_categoria['Valor_Total'], color='purple')\n",
    "plt.xlabel('Categoria')\n",
    "plt.ylabel('Valor Total de Vendas (R$)')\n",
    "plt.title('Total de Vendas por Categoria')\n",
    "plt.show()"
   ]
  },
  {
   "cell_type": "markdown",
   "metadata": {},
   "source": [
    "**Pergunta 8: Com base no gráfico, qual categoria visualmente se destaca em termos de vendas totais?**\n",
    "\n",
    "A categoria Brinquedos foi a que mais vendeu."
   ]
  },
  {
   "cell_type": "markdown",
   "metadata": {},
   "source": [
    "**Criar um gráfico de linha mostrando a variação diária das vendas de 'Eletrônicos':**"
   ]
  },
  {
   "cell_type": "code",
   "execution_count": 18,
   "metadata": {},
   "outputs": [
    {
     "data": {
      "image/png": "[encoded data removed]",
      "text/plain": [
       "<Figure size 1000x600 with 1 Axes>"
      ]
     },
     "metadata": {},
     "output_type": "display_data"
    }
   ],
   "source": [
    "df['Data'] = pd.to_datetime(df['Data'])\n",
    "\n",
    "vendas_diarias = eletronicos.groupby('Data')['Valor_Total'].sum().reset_index()\n",
    "\n",
    "plt.figure(figsize=(10, 6))\n",
    "plt.plot(vendas_diarias['Data'], vendas_diarias['Valor_Total'], color='purple')\n",
    "plt.xlabel('Data')\n",
    "plt.ylabel('Valor Total de Vendas (R$)')\n",
    "plt.title('Variação Diária das Vendas de Eletrônicos')\n",
    "plt.xticks(rotation=45)\n",
    "plt.show()"
   ]
  },
  {
   "cell_type": "markdown",
   "metadata": {},
   "source": [
    "**Pergunta 9: Existe algum padrão ou tendência observável nas vendas diárias de eletrônicos?**\n",
    "\n",
    "O que conseguimos observar a partir do gráfico é que há grande variação nas vendas diárias, tendo dias com alto volume de vendas seguidos de quedas substanciais e, isto ocorre ao longo de todo o período analisado. Podemos concluir, portanto, que não há um padrão ou tendência observável a partir destes dados."
   ]
  }
 ],
 "metadata": {
  "kernelspec": {
   "display_name": "Python 3",
   "language": "python",
   "name": "python3"
  },
  "language_info": {
   "codemirror_mode": {
    "name": "ipython",
    "version": 3
   },
   "file_extension": ".py",
   "mimetype": "text/x-python",
   "name": "python",
   "nbconvert_exporter": "python",
   "pygments_lexer": "ipython3",
   "version": "3.12.3"
  }
 },
 "nbformat": 4,
 "nbformat_minor": 2
}
