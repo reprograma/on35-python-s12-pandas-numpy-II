{
 "cells": [
  {
   "cell_type": "code",
   "execution_count": 1,
   "metadata": {},
   "outputs": [],
   "source": [
    "import pandas as pd\n",
    "import numpy as np\n",
    "import matplotlib.pyplot as plt"
   ]
  },
  {
   "cell_type": "code",
   "execution_count": 2,
   "metadata": {},
   "outputs": [],
   "source": [
    "# Gerando dados falsos\n",
    "categorias = ['Eletrônicos', 'Roupas', 'Alimentos', 'Livros', 'Brinquedos']\n",
    "datas = pd.date_range(start='2023-01-01', end='2023-12-31', freq='D')\n",
    "num_registros = len(datas)"
   ]
  },
  {
   "cell_type": "code",
   "execution_count": 3,
   "metadata": {},
   "outputs": [],
   "source": [
    "# Criando DataFrame\n",
    "data = {\n",
    "       'Data': np.random.choice(datas, num_registros),\n",
    "       'Categoria': np.random.choice(categorias, num_registros),\n",
    "       'Quantidade_Vendida': np.random.randint(1, 160, num_registros),\n",
    "       'Preco_Unitario': np.round(np.random.uniform(10, 110, num_registros), 2)\n",
    "   }\n",
    "df = pd.DataFrame(data)\n",
    "df['Valor_Total'] = df['Quantidade_Vendida'] * df['Preco_Unitario']"
   ]
  },
  {
   "cell_type": "code",
   "execution_count": 4,
   "metadata": {},
   "outputs": [
    {
     "name": "stdout",
     "output_type": "stream",
     "text": [
      "Conjunto de dados gerado e salvo como 'dados_vendas.csv'.\n"
     ]
    }
   ],
   "source": [
    "# Salvando o DataFrame em um arquivo CSV\n",
    "df.to_csv('dados_vendas.csv', index=False)\n",
    "\n",
    "print(\"Conjunto de dados gerado e salvo como 'dados_vendas.csv'.\")"
   ]
  },
  {
   "cell_type": "code",
   "execution_count": 5,
   "metadata": {},
   "outputs": [],
   "source": [
    "#Carregando dados CSV\n",
    "df = pd.read_csv('dados_vendas.csv')"
   ]
  },
  {
   "cell_type": "code",
   "execution_count": 6,
   "metadata": {},
   "outputs": [
    {
     "data": {
      "text/plain": [
       "(365, 5)"
      ]
     },
     "execution_count": 6,
     "metadata": {},
     "output_type": "execute_result"
    }
   ],
   "source": [
    "#Descobrir quantidade de linhas e colunas\n",
    "df.shape"
   ]
  },
  {
   "cell_type": "markdown",
   "metadata": {},
   "source": [
    "**Pergunta 1: Quantas linhas e colunas existem no DataFrame carregado?**\n",
    "Existem 365 linhas e 5 colunas"
   ]
  },
  {
   "cell_type": "code",
   "execution_count": 7,
   "metadata": {},
   "outputs": [
    {
     "data": {
      "text/plain": [
       "Data                   object\n",
       "Categoria              object\n",
       "Quantidade_Vendida      int64\n",
       "Preco_Unitario        float64\n",
       "Valor_Total           float64\n",
       "dtype: object"
      ]
     },
     "execution_count": 7,
     "metadata": {},
     "output_type": "execute_result"
    }
   ],
   "source": [
    "#Mostrar o tipo de dados\n",
    "df.dtypes"
   ]
  },
  {
   "cell_type": "markdown",
   "metadata": {},
   "source": [
    "**Pergunta 2: Quais são os tipos de dados (dtypes) das colunas?**\n",
    "\n",
    "Os dados das colunas são: data sendo um object, categoria sendo um object, quantidade vendida sendo int, preço unitario sendo float, valor total sendo float."
   ]
  },
  {
   "cell_type": "code",
   "execution_count": 8,
   "metadata": {},
   "outputs": [
    {
     "name": "stdout",
     "output_type": "stream",
     "text": [
      "         Data   Categoria  Quantidade_Vendida  Preco_Unitario  Valor_Total\n",
      "0  2023-10-13  Brinquedos                 153           52.87      8089.11\n",
      "1  2023-05-25  Brinquedos                  52          109.46      5691.92\n",
      "2  2023-04-24      Livros                 123           42.90      5276.70\n",
      "3  2023-06-22      Roupas                  51           32.85      1675.35\n",
      "4  2023-07-02      Livros                  54           13.11       707.94\n"
     ]
    }
   ],
   "source": [
    "# Exibe as 5 primeiras linhas\n",
    "print(df.head())"
   ]
  },
  {
   "cell_type": "code",
   "execution_count": 9,
   "metadata": {},
   "outputs": [
    {
     "name": "stdout",
     "output_type": "stream",
     "text": [
      "Estão presentes 5 categorias únicas de produto.\n"
     ]
    }
   ],
   "source": [
    "# Quantidade de categorias unicas\n",
    "categorias_unicas = df['Categoria'].unique()\n",
    "numero_categorias = len(categorias_unicas)\n",
    "print(f\"Estão presentes {numero_categorias} categorias únicas de produto.\")"
   ]
  },
  {
   "cell_type": "code",
   "execution_count": 10,
   "metadata": {},
   "outputs": [
    {
     "name": "stdout",
     "output_type": "stream",
     "text": [
      "           Data    Categoria  Quantidade_Vendida  Preco_Unitario  Valor_Total\n",
      "6    2023-07-11  Eletrônicos                  23           38.95       895.85\n",
      "9    2023-11-12  Eletrônicos                  33           33.90      1118.70\n",
      "13   2023-03-27  Eletrônicos                 146           84.14     12284.44\n",
      "23   2023-06-23  Eletrônicos                 155           34.69      5376.95\n",
      "25   2023-01-15  Eletrônicos                  85           91.94      7814.90\n",
      "..          ...          ...                 ...             ...          ...\n",
      "348  2023-11-19  Eletrônicos                  39           91.62      3573.18\n",
      "350  2023-01-18  Eletrônicos                  36           73.05      2629.80\n",
      "354  2023-02-13  Eletrônicos                 125           96.21     12026.25\n",
      "360  2023-04-02  Eletrônicos                 118           67.36      7948.48\n",
      "363  2023-08-20  Eletrônicos                 113           42.17      4765.21\n",
      "\n",
      "[70 rows x 5 columns]\n"
     ]
    }
   ],
   "source": [
    "eletronicos = df[df['Categoria'] == 'Eletrônicos']\n",
    "print(eletronicos)"
   ]
  },
  {
   "cell_type": "code",
   "execution_count": 11,
   "metadata": {},
   "outputs": [],
   "source": [
    "# Média do valor total das vendas na categoria 'Eletrônicos'?\n",
    "agrupado_media = df.groupby('Categoria')['Valor_Total'].mean()"
   ]
  },
  {
   "cell_type": "code",
   "execution_count": 12,
   "metadata": {},
   "outputs": [
    {
     "data": {
      "text/plain": [
       "Categoria\n",
       "Alimentos      4658.316061\n",
       "Brinquedos     5314.170909\n",
       "Eletrônicos    4594.863857\n",
       "Livros         4584.918571\n",
       "Roupas         4212.797541\n",
       "Name: Valor_Total, dtype: float64"
      ]
     },
     "execution_count": 12,
     "metadata": {},
     "output_type": "execute_result"
    }
   ],
   "source": [
    "agrupado_media"
   ]
  },
  {
   "cell_type": "markdown",
   "metadata": {},
   "source": [
    "**Pergunta 4: Qual é a média do valor total das vendas na categoria 'Eletrônicos'?**\n",
    "A média d valor total das vendas da categoria eletrônicos é R$ 4751.63"
   ]
  },
  {
   "cell_type": "code",
   "execution_count": 13,
   "metadata": {},
   "outputs": [
    {
     "name": "stdout",
     "output_type": "stream",
     "text": [
      "           Data    Categoria  Quantidade_Vendida  Preco_Unitario  Valor_Total\n",
      "0    2023-10-13   Brinquedos                 153           52.87      8089.11\n",
      "1    2023-05-25   Brinquedos                  52          109.46      5691.92\n",
      "2    2023-04-24       Livros                 123           42.90      5276.70\n",
      "3    2023-06-22       Roupas                  51           32.85      1675.35\n",
      "5    2023-09-15   Brinquedos                  82           78.56      6441.92\n",
      "..          ...          ...                 ...             ...          ...\n",
      "360  2023-04-02  Eletrônicos                 118           67.36      7948.48\n",
      "361  2023-01-11       Roupas                  46           50.70      2332.20\n",
      "362  2023-06-15   Brinquedos                  59           72.05      4250.95\n",
      "363  2023-08-20  Eletrônicos                 113           42.17      4765.21\n",
      "364  2023-04-24       Livros                  85           55.89      4750.65\n",
      "\n",
      "[315 rows x 5 columns]\n"
     ]
    }
   ],
   "source": [
    "# Filtrar as vendas acima de R$ 1000:\n",
    "vendas_acima_1000 = df[df['Valor_Total'] > 1000]\n",
    "print(vendas_acima_1000)"
   ]
  },
  {
   "cell_type": "code",
   "execution_count": 14,
   "metadata": {},
   "outputs": [
    {
     "name": "stdout",
     "output_type": "stream",
     "text": [
      "Estão presentes 5 categorias únicas de produto.\n"
     ]
    }
   ],
   "source": [
    "categorias_unicas = df['Categoria'].unique()\n",
    "numero_categorias = len(categorias_unicas)\n",
    "print(f\"Estão presentes {numero_categorias} categorias únicas de produto.\")"
   ]
  },
  {
   "cell_type": "code",
   "execution_count": 15,
   "metadata": {},
   "outputs": [
    {
     "name": "stdout",
     "output_type": "stream",
     "text": [
      "315\n"
     ]
    }
   ],
   "source": [
    "vendas_acima_1000 = df[df['Valor_Total'] > 1000]\n",
    "quantidade_vendas_acima_1000 = len(vendas_acima_1000)\n",
    "print(quantidade_vendas_acima_1000)"
   ]
  },
  {
   "cell_type": "markdown",
   "metadata": {},
   "source": [
    "\n",
    "**Pergunta 5: Quantas vendas acima de R$ 1000 ocorreram?**\n",
    "\n",
    "Houve 355 vendas com valor cima de R$ 1000.\n",
    "\n"
   ]
  },
  {
   "cell_type": "code",
   "execution_count": 16,
   "metadata": {},
   "outputs": [
    {
     "name": "stdout",
     "output_type": "stream",
     "text": [
      "     Categoria  Valor_Total\n",
      "0    Alimentos    307448.86\n",
      "1   Brinquedos    409191.16\n",
      "2  Eletrônicos    321640.47\n",
      "3       Livros    417227.59\n",
      "4       Roupas    256980.65\n"
     ]
    }
   ],
   "source": [
    "##**Agrupar os dados por categoria e calcular o total de vendas por categoria:##\n",
    "total_por_categoria = df.groupby('Categoria')['Valor_Total'].sum().reset_index()\n",
    "print(total_por_categoria)\n"
   ]
  },
  {
   "cell_type": "markdown",
   "metadata": {},
   "source": [
    "**Pergunta 6: Qual categoria teve o maior valor total de vendas?**\n",
    "\n",
    "A categoria que teve o maior valor de vendas foi de eletrônico\n"
   ]
  },
  {
   "cell_type": "code",
   "execution_count": 17,
   "metadata": {},
   "outputs": [
    {
     "data": {
      "image/png": "[encoded data removed]",
      "text/plain": [
       "<Figure size 1000x600 with 1 Axes>"
      ]
     },
     "metadata": {},
     "output_type": "display_data"
    }
   ],
   "source": [
    "##Criar um gráfico de barras mostrando o total de vendas por categoria:\n",
    "\n",
    "plt.figure(figsize=(10, 6))\n",
    "plt.bar(total_por_categoria['Categoria'], total_por_categoria['Valor_Total'], color='green')\n",
    "plt.xlabel('Categoria')\n",
    "plt.ylabel('Valor Total de Vendas (R$)')\n",
    "plt.title('Total de Vendas por Categoria')\n",
    "plt.show()"
   ]
  }
 ],
 "metadata": {
  "kernelspec": {
   "display_name": "Python 3",
   "language": "python",
   "name": "python3"
  },
  "language_info": {
   "codemirror_mode": {
    "name": "ipython",
    "version": 3
   },
   "file_extension": ".py",
   "mimetype": "text/x-python",
   "name": "python",
   "nbconvert_exporter": "python",
   "pygments_lexer": "ipython3",
   "version": "3.12.4"
  }
 },
 "nbformat": 4,
 "nbformat_minor": 2
}
