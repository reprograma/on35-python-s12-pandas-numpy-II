{
 "cells": [
  {
   "cell_type": "markdown",
   "metadata": {},
   "source": [
    "## Importando Bibliotecas"
   ]
  },
  {
   "cell_type": "code",
   "execution_count": 1,
   "metadata": {},
   "outputs": [],
   "source": [
    "import pandas as pd\n",
    "import numpy as np\n",
    "import matplotlib.pyplot as plt"
   ]
  },
  {
   "cell_type": "markdown",
   "metadata": {},
   "source": [
    "## Gerando Dados"
   ]
  },
  {
   "cell_type": "code",
   "execution_count": 2,
   "metadata": {},
   "outputs": [
    {
     "name": "stdout",
     "output_type": "stream",
     "text": [
      "Conjunto de dados gerado e salvo como 'dados_vendas.csv'.\n"
     ]
    }
   ],
   "source": [
    "# Configurando a seed para reprodutibilidade\n",
    "np.random.seed(42)\n",
    "\n",
    "# Gerando dados falsos\n",
    "categorias = ['Eletrônicos', 'Roupas', 'Alimentos', 'Livros', 'Brinquedos']\n",
    "datas = pd.date_range(start='2023-01-01', end='2023-12-31', freq='D')\n",
    "num_registros = len(datas)\n",
    "\n",
    "# Criando DataFrame\n",
    "data = {\n",
    "       'Data': np.random.choice(datas, num_registros),\n",
    "       'Categoria': np.random.choice(categorias, num_registros),\n",
    "       'Quantidade_Vendida': np.random.randint(1, 100, num_registros),\n",
    "       'Preco_Unitario': np.round(np.random.uniform(10, 500, num_registros), 2)\n",
    "   }\n",
    "df = pd.DataFrame(data)\n",
    "df['Valor_Total'] = df['Quantidade_Vendida'] * df['Preco_Unitario']\n",
    "\n",
    "   # Salvando o DataFrame em um arquivo CSV\n",
    "df.to_csv('dados_vendas.csv', index=False)\n",
    "\n",
    "print(\"Conjunto de dados gerado e salvo como 'dados_vendas.csv'.\")"
   ]
  },
  {
   "cell_type": "markdown",
   "metadata": {},
   "source": [
    "## Consulta e Filtragem "
   ]
  },
  {
   "cell_type": "code",
   "execution_count": 3,
   "metadata": {},
   "outputs": [],
   "source": [
    "df = pd.read_csv('dados_vendas.csv')"
   ]
  },
  {
   "cell_type": "markdown",
   "metadata": {},
   "source": [
    "##### Existem 365 linhas e cinco colunas no DF que foi carregado. "
   ]
  },
  {
   "cell_type": "code",
   "execution_count": 4,
   "metadata": {},
   "outputs": [
    {
     "data": {
      "text/plain": [
       "(365, 5)"
      ]
     },
     "execution_count": 4,
     "metadata": {},
     "output_type": "execute_result"
    }
   ],
   "source": [
    "df.shape"
   ]
  },
  {
   "cell_type": "markdown",
   "metadata": {},
   "source": [
    "##### Os dados são do tipo object, int e float."
   ]
  },
  {
   "cell_type": "code",
   "execution_count": 5,
   "metadata": {},
   "outputs": [
    {
     "data": {
      "text/plain": [
       "Data                   object\n",
       "Categoria              object\n",
       "Quantidade_Vendida      int64\n",
       "Preco_Unitario        float64\n",
       "Valor_Total           float64\n",
       "dtype: object"
      ]
     },
     "execution_count": 5,
     "metadata": {},
     "output_type": "execute_result"
    }
   ],
   "source": [
    "df.dtypes"
   ]
  },
  {
   "cell_type": "markdown",
   "metadata": {},
   "source": [
    "##### Essas são as cinco primeiras linhas do DF."
   ]
  },
  {
   "cell_type": "code",
   "execution_count": 6,
   "metadata": {},
   "outputs": [
    {
     "data": {
      "text/html": [
       "<div>\n",
       "<style scoped>\n",
       "    .dataframe tbody tr th:only-of-type {\n",
       "        vertical-align: middle;\n",
       "    }\n",
       "\n",
       "    .dataframe tbody tr th {\n",
       "        vertical-align: top;\n",
       "    }\n",
       "\n",
       "    .dataframe thead th {\n",
       "        text-align: right;\n",
       "    }\n",
       "</style>\n",
       "<table border=\"1\" class=\"dataframe\">\n",
       "  <thead>\n",
       "    <tr style=\"text-align: right;\">\n",
       "      <th></th>\n",
       "      <th>Data</th>\n",
       "      <th>Categoria</th>\n",
       "      <th>Quantidade_Vendida</th>\n",
       "      <th>Preco_Unitario</th>\n",
       "      <th>Valor_Total</th>\n",
       "    </tr>\n",
       "  </thead>\n",
       "  <tbody>\n",
       "    <tr>\n",
       "      <th>0</th>\n",
       "      <td>2023-04-13</td>\n",
       "      <td>Roupas</td>\n",
       "      <td>74</td>\n",
       "      <td>60.43</td>\n",
       "      <td>4471.82</td>\n",
       "    </tr>\n",
       "    <tr>\n",
       "      <th>1</th>\n",
       "      <td>2023-12-15</td>\n",
       "      <td>Alimentos</td>\n",
       "      <td>83</td>\n",
       "      <td>272.88</td>\n",
       "      <td>22649.04</td>\n",
       "    </tr>\n",
       "    <tr>\n",
       "      <th>2</th>\n",
       "      <td>2023-09-28</td>\n",
       "      <td>Roupas</td>\n",
       "      <td>17</td>\n",
       "      <td>195.62</td>\n",
       "      <td>3325.54</td>\n",
       "    </tr>\n",
       "    <tr>\n",
       "      <th>3</th>\n",
       "      <td>2023-04-17</td>\n",
       "      <td>Roupas</td>\n",
       "      <td>85</td>\n",
       "      <td>233.93</td>\n",
       "      <td>19884.05</td>\n",
       "    </tr>\n",
       "    <tr>\n",
       "      <th>4</th>\n",
       "      <td>2023-03-13</td>\n",
       "      <td>Roupas</td>\n",
       "      <td>78</td>\n",
       "      <td>305.94</td>\n",
       "      <td>23863.32</td>\n",
       "    </tr>\n",
       "  </tbody>\n",
       "</table>\n",
       "</div>"
      ],
      "text/plain": [
       "         Data  Categoria  Quantidade_Vendida  Preco_Unitario  Valor_Total\n",
       "0  2023-04-13     Roupas                  74           60.43      4471.82\n",
       "1  2023-12-15  Alimentos                  83          272.88     22649.04\n",
       "2  2023-09-28     Roupas                  17          195.62      3325.54\n",
       "3  2023-04-17     Roupas                  85          233.93     19884.05\n",
       "4  2023-03-13     Roupas                  78          305.94     23863.32"
      ]
     },
     "execution_count": 6,
     "metadata": {},
     "output_type": "execute_result"
    }
   ],
   "source": [
    "df.head()"
   ]
  },
  {
   "cell_type": "markdown",
   "metadata": {},
   "source": [
    "##### As categorias são: roupas, alimentos, eletrônicos, brinquedos e livros. "
   ]
  },
  {
   "cell_type": "code",
   "execution_count": 8,
   "metadata": {},
   "outputs": [
    {
     "data": {
      "text/plain": [
       "array(['Roupas', 'Alimentos', 'Eletrônicos', 'Brinquedos', 'Livros'],\n",
       "      dtype=object)"
      ]
     },
     "execution_count": 8,
     "metadata": {},
     "output_type": "execute_result"
    }
   ],
   "source": [
    "df['Categoria'].unique()"
   ]
  },
  {
   "cell_type": "markdown",
   "metadata": {},
   "source": [
    "##### Filtrar os dados para mostrar apenas as vendas da categoria 'Eletrônicos':"
   ]
  },
  {
   "cell_type": "code",
   "execution_count": 10,
   "metadata": {},
   "outputs": [
    {
     "data": {
      "text/html": [
       "<div>\n",
       "<style scoped>\n",
       "    .dataframe tbody tr th:only-of-type {\n",
       "        vertical-align: middle;\n",
       "    }\n",
       "\n",
       "    .dataframe tbody tr th {\n",
       "        vertical-align: top;\n",
       "    }\n",
       "\n",
       "    .dataframe thead th {\n",
       "        text-align: right;\n",
       "    }\n",
       "</style>\n",
       "<table border=\"1\" class=\"dataframe\">\n",
       "  <thead>\n",
       "    <tr style=\"text-align: right;\">\n",
       "      <th></th>\n",
       "      <th>Data</th>\n",
       "      <th>Categoria</th>\n",
       "      <th>Quantidade_Vendida</th>\n",
       "      <th>Preco_Unitario</th>\n",
       "      <th>Valor_Total</th>\n",
       "    </tr>\n",
       "  </thead>\n",
       "  <tbody>\n",
       "    <tr>\n",
       "      <th>5</th>\n",
       "      <td>2023-07-08</td>\n",
       "      <td>Eletrônicos</td>\n",
       "      <td>73</td>\n",
       "      <td>256.12</td>\n",
       "      <td>18696.76</td>\n",
       "    </tr>\n",
       "    <tr>\n",
       "      <th>6</th>\n",
       "      <td>2023-01-21</td>\n",
       "      <td>Eletrônicos</td>\n",
       "      <td>1</td>\n",
       "      <td>274.53</td>\n",
       "      <td>274.53</td>\n",
       "    </tr>\n",
       "    <tr>\n",
       "      <th>7</th>\n",
       "      <td>2023-04-13</td>\n",
       "      <td>Eletrônicos</td>\n",
       "      <td>51</td>\n",
       "      <td>248.32</td>\n",
       "      <td>12664.32</td>\n",
       "    </tr>\n",
       "    <tr>\n",
       "      <th>14</th>\n",
       "      <td>2023-06-01</td>\n",
       "      <td>Eletrônicos</td>\n",
       "      <td>34</td>\n",
       "      <td>303.52</td>\n",
       "      <td>10319.68</td>\n",
       "    </tr>\n",
       "    <tr>\n",
       "      <th>18</th>\n",
       "      <td>2023-09-15</td>\n",
       "      <td>Eletrônicos</td>\n",
       "      <td>39</td>\n",
       "      <td>121.40</td>\n",
       "      <td>4734.60</td>\n",
       "    </tr>\n",
       "    <tr>\n",
       "      <th>...</th>\n",
       "      <td>...</td>\n",
       "      <td>...</td>\n",
       "      <td>...</td>\n",
       "      <td>...</td>\n",
       "      <td>...</td>\n",
       "    </tr>\n",
       "    <tr>\n",
       "      <th>347</th>\n",
       "      <td>2023-09-10</td>\n",
       "      <td>Eletrônicos</td>\n",
       "      <td>33</td>\n",
       "      <td>431.46</td>\n",
       "      <td>14238.18</td>\n",
       "    </tr>\n",
       "    <tr>\n",
       "      <th>349</th>\n",
       "      <td>2023-09-13</td>\n",
       "      <td>Eletrônicos</td>\n",
       "      <td>27</td>\n",
       "      <td>201.67</td>\n",
       "      <td>5445.09</td>\n",
       "    </tr>\n",
       "    <tr>\n",
       "      <th>351</th>\n",
       "      <td>2023-05-08</td>\n",
       "      <td>Eletrônicos</td>\n",
       "      <td>29</td>\n",
       "      <td>243.57</td>\n",
       "      <td>7063.53</td>\n",
       "    </tr>\n",
       "    <tr>\n",
       "      <th>353</th>\n",
       "      <td>2023-10-08</td>\n",
       "      <td>Eletrônicos</td>\n",
       "      <td>57</td>\n",
       "      <td>427.57</td>\n",
       "      <td>24371.49</td>\n",
       "    </tr>\n",
       "    <tr>\n",
       "      <th>356</th>\n",
       "      <td>2023-02-27</td>\n",
       "      <td>Eletrônicos</td>\n",
       "      <td>55</td>\n",
       "      <td>466.48</td>\n",
       "      <td>25656.40</td>\n",
       "    </tr>\n",
       "  </tbody>\n",
       "</table>\n",
       "<p>73 rows × 5 columns</p>\n",
       "</div>"
      ],
      "text/plain": [
       "           Data    Categoria  Quantidade_Vendida  Preco_Unitario  Valor_Total\n",
       "5    2023-07-08  Eletrônicos                  73          256.12     18696.76\n",
       "6    2023-01-21  Eletrônicos                   1          274.53       274.53\n",
       "7    2023-04-13  Eletrônicos                  51          248.32     12664.32\n",
       "14   2023-06-01  Eletrônicos                  34          303.52     10319.68\n",
       "18   2023-09-15  Eletrônicos                  39          121.40      4734.60\n",
       "..          ...          ...                 ...             ...          ...\n",
       "347  2023-09-10  Eletrônicos                  33          431.46     14238.18\n",
       "349  2023-09-13  Eletrônicos                  27          201.67      5445.09\n",
       "351  2023-05-08  Eletrônicos                  29          243.57      7063.53\n",
       "353  2023-10-08  Eletrônicos                  57          427.57     24371.49\n",
       "356  2023-02-27  Eletrônicos                  55          466.48     25656.40\n",
       "\n",
       "[73 rows x 5 columns]"
      ]
     },
     "execution_count": 10,
     "metadata": {},
     "output_type": "execute_result"
    }
   ],
   "source": [
    "eletronicos = df[df['Categoria'] == 'Eletrônicos']\n",
    "eletronicos"
   ]
  },
  {
   "cell_type": "markdown",
   "metadata": {},
   "source": [
    "##### Média do valor total das vendas na categoria 'Eletrônicos':\n",
    "A média foi de 12.291,26."
   ]
  },
  {
   "cell_type": "code",
   "execution_count": 12,
   "metadata": {},
   "outputs": [
    {
     "data": {
      "text/plain": [
       "np.float64(12291.256301369864)"
      ]
     },
     "execution_count": 12,
     "metadata": {},
     "output_type": "execute_result"
    }
   ],
   "source": [
    "eletronicos['Valor_Total'].mean()"
   ]
  },
  {
   "cell_type": "markdown",
   "metadata": {},
   "source": [
    "##### Vendas acima de R$ 1000:"
   ]
  },
  {
   "cell_type": "code",
   "execution_count": 13,
   "metadata": {},
   "outputs": [
    {
     "data": {
      "text/html": [
       "<div>\n",
       "<style scoped>\n",
       "    .dataframe tbody tr th:only-of-type {\n",
       "        vertical-align: middle;\n",
       "    }\n",
       "\n",
       "    .dataframe tbody tr th {\n",
       "        vertical-align: top;\n",
       "    }\n",
       "\n",
       "    .dataframe thead th {\n",
       "        text-align: right;\n",
       "    }\n",
       "</style>\n",
       "<table border=\"1\" class=\"dataframe\">\n",
       "  <thead>\n",
       "    <tr style=\"text-align: right;\">\n",
       "      <th></th>\n",
       "      <th>Data</th>\n",
       "      <th>Categoria</th>\n",
       "      <th>Quantidade_Vendida</th>\n",
       "      <th>Preco_Unitario</th>\n",
       "      <th>Valor_Total</th>\n",
       "    </tr>\n",
       "  </thead>\n",
       "  <tbody>\n",
       "    <tr>\n",
       "      <th>0</th>\n",
       "      <td>2023-04-13</td>\n",
       "      <td>Roupas</td>\n",
       "      <td>74</td>\n",
       "      <td>60.43</td>\n",
       "      <td>4471.82</td>\n",
       "    </tr>\n",
       "    <tr>\n",
       "      <th>1</th>\n",
       "      <td>2023-12-15</td>\n",
       "      <td>Alimentos</td>\n",
       "      <td>83</td>\n",
       "      <td>272.88</td>\n",
       "      <td>22649.04</td>\n",
       "    </tr>\n",
       "    <tr>\n",
       "      <th>2</th>\n",
       "      <td>2023-09-28</td>\n",
       "      <td>Roupas</td>\n",
       "      <td>17</td>\n",
       "      <td>195.62</td>\n",
       "      <td>3325.54</td>\n",
       "    </tr>\n",
       "    <tr>\n",
       "      <th>3</th>\n",
       "      <td>2023-04-17</td>\n",
       "      <td>Roupas</td>\n",
       "      <td>85</td>\n",
       "      <td>233.93</td>\n",
       "      <td>19884.05</td>\n",
       "    </tr>\n",
       "    <tr>\n",
       "      <th>4</th>\n",
       "      <td>2023-03-13</td>\n",
       "      <td>Roupas</td>\n",
       "      <td>78</td>\n",
       "      <td>305.94</td>\n",
       "      <td>23863.32</td>\n",
       "    </tr>\n",
       "    <tr>\n",
       "      <th>...</th>\n",
       "      <td>...</td>\n",
       "      <td>...</td>\n",
       "      <td>...</td>\n",
       "      <td>...</td>\n",
       "      <td>...</td>\n",
       "    </tr>\n",
       "    <tr>\n",
       "      <th>358</th>\n",
       "      <td>2023-12-26</td>\n",
       "      <td>Brinquedos</td>\n",
       "      <td>68</td>\n",
       "      <td>147.88</td>\n",
       "      <td>10055.84</td>\n",
       "    </tr>\n",
       "    <tr>\n",
       "      <th>359</th>\n",
       "      <td>2023-06-23</td>\n",
       "      <td>Alimentos</td>\n",
       "      <td>86</td>\n",
       "      <td>133.80</td>\n",
       "      <td>11506.80</td>\n",
       "    </tr>\n",
       "    <tr>\n",
       "      <th>361</th>\n",
       "      <td>2023-04-24</td>\n",
       "      <td>Brinquedos</td>\n",
       "      <td>10</td>\n",
       "      <td>350.90</td>\n",
       "      <td>3509.00</td>\n",
       "    </tr>\n",
       "    <tr>\n",
       "      <th>363</th>\n",
       "      <td>2023-12-08</td>\n",
       "      <td>Brinquedos</td>\n",
       "      <td>74</td>\n",
       "      <td>270.98</td>\n",
       "      <td>20052.52</td>\n",
       "    </tr>\n",
       "    <tr>\n",
       "      <th>364</th>\n",
       "      <td>2023-05-31</td>\n",
       "      <td>Roupas</td>\n",
       "      <td>97</td>\n",
       "      <td>481.44</td>\n",
       "      <td>46699.68</td>\n",
       "    </tr>\n",
       "  </tbody>\n",
       "</table>\n",
       "<p>330 rows × 5 columns</p>\n",
       "</div>"
      ],
      "text/plain": [
       "           Data   Categoria  Quantidade_Vendida  Preco_Unitario  Valor_Total\n",
       "0    2023-04-13      Roupas                  74           60.43      4471.82\n",
       "1    2023-12-15   Alimentos                  83          272.88     22649.04\n",
       "2    2023-09-28      Roupas                  17          195.62      3325.54\n",
       "3    2023-04-17      Roupas                  85          233.93     19884.05\n",
       "4    2023-03-13      Roupas                  78          305.94     23863.32\n",
       "..          ...         ...                 ...             ...          ...\n",
       "358  2023-12-26  Brinquedos                  68          147.88     10055.84\n",
       "359  2023-06-23   Alimentos                  86          133.80     11506.80\n",
       "361  2023-04-24  Brinquedos                  10          350.90      3509.00\n",
       "363  2023-12-08  Brinquedos                  74          270.98     20052.52\n",
       "364  2023-05-31      Roupas                  97          481.44     46699.68\n",
       "\n",
       "[330 rows x 5 columns]"
      ]
     },
     "execution_count": 13,
     "metadata": {},
     "output_type": "execute_result"
    }
   ],
   "source": [
    "vendas_acima_1000 = df[df['Valor_Total'] > 1000]\n",
    "vendas_acima_1000"
   ]
  },
  {
   "cell_type": "markdown",
   "metadata": {},
   "source": [
    "##### Quantidade de ocorrências de vendas acima de R$ 1000:\n",
    "Existiram 330 vendas acima desse valor. "
   ]
  },
  {
   "cell_type": "code",
   "execution_count": 15,
   "metadata": {},
   "outputs": [
    {
     "data": {
      "text/plain": [
       "(330, 5)"
      ]
     },
     "execution_count": 15,
     "metadata": {},
     "output_type": "execute_result"
    }
   ],
   "source": [
    "vendas_acima_1000.shape"
   ]
  },
  {
   "cell_type": "markdown",
   "metadata": {},
   "source": [
    "## Agrupamento e Agregação"
   ]
  },
  {
   "cell_type": "markdown",
   "metadata": {},
   "source": [
    "##### Agrupar os dados por categoria e calcular o total de vendas por categoria:\n",
    "\n",
    "A categoria \"Alimentos\" teve um total de R$ 742.457,74, sendo a categoria com o menor valor total de vendas. O total da categoria \"Brinquedos\" foi de 1.187.964,04, sendo a categoria com o maior valor total de vendas. As categorias \"Eletrônicos\", \"Livros\" e \"Roupas\" faturaram 897.261,71, 963.685,46 e 991.215,29, respectivamente. "
   ]
  },
  {
   "cell_type": "code",
   "execution_count": 16,
   "metadata": {},
   "outputs": [
    {
     "data": {
      "text/html": [
       "<div>\n",
       "<style scoped>\n",
       "    .dataframe tbody tr th:only-of-type {\n",
       "        vertical-align: middle;\n",
       "    }\n",
       "\n",
       "    .dataframe tbody tr th {\n",
       "        vertical-align: top;\n",
       "    }\n",
       "\n",
       "    .dataframe thead th {\n",
       "        text-align: right;\n",
       "    }\n",
       "</style>\n",
       "<table border=\"1\" class=\"dataframe\">\n",
       "  <thead>\n",
       "    <tr style=\"text-align: right;\">\n",
       "      <th></th>\n",
       "      <th>Categoria</th>\n",
       "      <th>Valor_Total</th>\n",
       "    </tr>\n",
       "  </thead>\n",
       "  <tbody>\n",
       "    <tr>\n",
       "      <th>0</th>\n",
       "      <td>Alimentos</td>\n",
       "      <td>742457.74</td>\n",
       "    </tr>\n",
       "    <tr>\n",
       "      <th>1</th>\n",
       "      <td>Brinquedos</td>\n",
       "      <td>1187964.04</td>\n",
       "    </tr>\n",
       "    <tr>\n",
       "      <th>2</th>\n",
       "      <td>Eletrônicos</td>\n",
       "      <td>897261.71</td>\n",
       "    </tr>\n",
       "    <tr>\n",
       "      <th>3</th>\n",
       "      <td>Livros</td>\n",
       "      <td>963685.46</td>\n",
       "    </tr>\n",
       "    <tr>\n",
       "      <th>4</th>\n",
       "      <td>Roupas</td>\n",
       "      <td>991215.29</td>\n",
       "    </tr>\n",
       "  </tbody>\n",
       "</table>\n",
       "</div>"
      ],
      "text/plain": [
       "     Categoria  Valor_Total\n",
       "0    Alimentos    742457.74\n",
       "1   Brinquedos   1187964.04\n",
       "2  Eletrônicos    897261.71\n",
       "3       Livros    963685.46\n",
       "4       Roupas    991215.29"
      ]
     },
     "execution_count": 16,
     "metadata": {},
     "output_type": "execute_result"
    }
   ],
   "source": [
    "total_por_categoria = df.groupby('Categoria')['Valor_Total'].sum().reset_index()\n",
    "total_por_categoria"
   ]
  },
  {
   "cell_type": "markdown",
   "metadata": {},
   "source": [
    "##### Calcular a quantidade média vendida por categoria:\n",
    "Embora a categoria \"ALimentos\" tenha apresentado um menor valor total de vendas, ela foi a categoria com maior quantidade média vendida (55,62). "
   ]
  },
  {
   "cell_type": "code",
   "execution_count": 17,
   "metadata": {},
   "outputs": [
    {
     "data": {
      "text/html": [
       "<div>\n",
       "<style scoped>\n",
       "    .dataframe tbody tr th:only-of-type {\n",
       "        vertical-align: middle;\n",
       "    }\n",
       "\n",
       "    .dataframe tbody tr th {\n",
       "        vertical-align: top;\n",
       "    }\n",
       "\n",
       "    .dataframe thead th {\n",
       "        text-align: right;\n",
       "    }\n",
       "</style>\n",
       "<table border=\"1\" class=\"dataframe\">\n",
       "  <thead>\n",
       "    <tr style=\"text-align: right;\">\n",
       "      <th></th>\n",
       "      <th>Categoria</th>\n",
       "      <th>Quantidade_Vendida</th>\n",
       "    </tr>\n",
       "  </thead>\n",
       "  <tbody>\n",
       "    <tr>\n",
       "      <th>0</th>\n",
       "      <td>Alimentos</td>\n",
       "      <td>55.618182</td>\n",
       "    </tr>\n",
       "    <tr>\n",
       "      <th>1</th>\n",
       "      <td>Brinquedos</td>\n",
       "      <td>47.247191</td>\n",
       "    </tr>\n",
       "    <tr>\n",
       "      <th>2</th>\n",
       "      <td>Eletrônicos</td>\n",
       "      <td>46.780822</td>\n",
       "    </tr>\n",
       "    <tr>\n",
       "      <th>3</th>\n",
       "      <td>Livros</td>\n",
       "      <td>50.917808</td>\n",
       "    </tr>\n",
       "    <tr>\n",
       "      <th>4</th>\n",
       "      <td>Roupas</td>\n",
       "      <td>47.200000</td>\n",
       "    </tr>\n",
       "  </tbody>\n",
       "</table>\n",
       "</div>"
      ],
      "text/plain": [
       "     Categoria  Quantidade_Vendida\n",
       "0    Alimentos           55.618182\n",
       "1   Brinquedos           47.247191\n",
       "2  Eletrônicos           46.780822\n",
       "3       Livros           50.917808\n",
       "4       Roupas           47.200000"
      ]
     },
     "execution_count": 17,
     "metadata": {},
     "output_type": "execute_result"
    }
   ],
   "source": [
    "media_quantidade_categoria = df.groupby('Categoria')['Quantidade_Vendida'].mean().reset_index()\n",
    "media_quantidade_categoria"
   ]
  },
  {
   "cell_type": "markdown",
   "metadata": {},
   "source": [
    "## Visualização dos Dados"
   ]
  },
  {
   "cell_type": "markdown",
   "metadata": {},
   "source": [
    "##### Gráfico de barras mostrando o total de vendas por categoria:"
   ]
  },
  {
   "cell_type": "code",
   "execution_count": 19,
   "metadata": {},
   "outputs": [
    {
     "data": {
      "image/png": "[encoded data removed]",
      "text/plain": [
       "<Figure size 1000x600 with 1 Axes>"
      ]
     },
     "metadata": {},
     "output_type": "display_data"
    }
   ],
   "source": [
    "plt.figure(figsize=(10, 6))\n",
    "plt.bar(total_por_categoria['Categoria'], total_por_categoria['Valor_Total'], color='#4ba')\n",
    "plt.xlabel('Categoria')\n",
    "plt.ylabel('Valor Total de Vendas (R$)')\n",
    "plt.title('Total de Vendas por Categoria')\n",
    "plt.show()"
   ]
  },
  {
   "cell_type": "markdown",
   "metadata": {},
   "source": [
    "Confirmando o que havia sido visto anteriormente, a categoria \"Brinquedos\" é quem mais se destaca em relação ao valor total de vendas. "
   ]
  },
  {
   "cell_type": "markdown",
   "metadata": {},
   "source": [
    "##### Gráfico de linha mostrando a variação diária das vendas de 'Eletrônicos'"
   ]
  },
  {
   "cell_type": "code",
   "execution_count": 20,
   "metadata": {},
   "outputs": [
    {
     "data": {
      "image/png": "[encoded data removed]",
      "text/plain": [
       "<Figure size 1000x600 with 1 Axes>"
      ]
     },
     "metadata": {},
     "output_type": "display_data"
    }
   ],
   "source": [
    "vendas_diarias = eletronicos.groupby('Data')['Valor_Total'].sum().reset_index()\n",
    "\n",
    "plt.figure(figsize=(10, 6))\n",
    "plt.plot(vendas_diarias['Data'], vendas_diarias['Valor_Total'], color='purple')\n",
    "plt.xlabel('Data')\n",
    "plt.ylabel('Valor Total de Vendas (R$)')\n",
    "plt.title('Variação Diária das Vendas de Eletrônicos')\n",
    "plt.xticks(rotation=45)\n",
    "plt.show()"
   ]
  },
  {
   "cell_type": "markdown",
   "metadata": {},
   "source": [
    "Nota-se que há uma alta volatilidade no valor das vendas de eletrônicos ao longo do tempo."
   ]
  }
 ],
 "metadata": {
  "kernelspec": {
   "display_name": "Python 3",
   "language": "python",
   "name": "python3"
  },
  "language_info": {
   "codemirror_mode": {
    "name": "ipython",
    "version": 3
   },
   "file_extension": ".py",
   "mimetype": "text/x-python",
   "name": "python",
   "nbconvert_exporter": "python",
   "pygments_lexer": "ipython3",
   "version": "3.12.3"
  }
 },
 "nbformat": 4,
 "nbformat_minor": 2
}
