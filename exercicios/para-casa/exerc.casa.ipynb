{
 "cells": [
  {
   "cell_type": "code",
   "execution_count": 1,
   "metadata": {},
   "outputs": [
    {
     "name": "stdout",
     "output_type": "stream",
     "text": [
      "Conjunto de dados gerado e salvo como 'dados_vendas.csv'.\n"
     ]
    }
   ],
   "source": [
    "import pandas as pd\n",
    "import numpy as np\n",
    "import matplotlib.pyplot as plt\n",
    "\n",
    "# Configurando a seed para reprodutibilidade\n",
    "np.random.seed(42)\n",
    "\n",
    "# Gerando dados falsos\n",
    "categorias = ['Eletrônicos', 'Roupas', 'Alimentos', 'Livros', 'Brinquedos']\n",
    "datas = pd.date_range(start='2023-01-01', end='2023-12-31', freq='D')\n",
    "num_registros = len(datas)\n",
    "\n",
    "# Criando DataFrame\n",
    "data = {\n",
    "    'Data': np.random.choice(datas, num_registros),\n",
    "    'Categoria': np.random.choice(categorias, num_registros),\n",
    "    'Quantidade_Vendida': np.random.randint(1, 100, num_registros),\n",
    "    'Preco_Unitario': np.round(np.random.uniform(10, 500, num_registros), 2)\n",
    "}\n",
    "df = pd.DataFrame(data)\n",
    "df['Valor_Total'] = df['Quantidade_Vendida'] * df['Preco_Unitario']\n",
    "\n",
    "# Salvando o DataFrame em um arquivo CSV\n",
    "df.to_csv('dados_vendas.csv', index=False)\n",
    "\n",
    "print(\"Conjunto de dados gerado e salvo como 'dados_vendas.csv'.\")"
   ]
  },
  {
   "cell_type": "markdown",
   "metadata": {},
   "source": [
    "Consulta e Filtragem de Dados"
   ]
  },
  {
   "cell_type": "code",
   "execution_count": 3,
   "metadata": {},
   "outputs": [
    {
     "data": {
      "text/html": [
       "<div>\n",
       "<style scoped>\n",
       "    .dataframe tbody tr th:only-of-type {\n",
       "        vertical-align: middle;\n",
       "    }\n",
       "\n",
       "    .dataframe tbody tr th {\n",
       "        vertical-align: top;\n",
       "    }\n",
       "\n",
       "    .dataframe thead th {\n",
       "        text-align: right;\n",
       "    }\n",
       "</style>\n",
       "<table border=\"1\" class=\"dataframe\">\n",
       "  <thead>\n",
       "    <tr style=\"text-align: right;\">\n",
       "      <th></th>\n",
       "      <th>Data</th>\n",
       "      <th>Categoria</th>\n",
       "      <th>Quantidade_Vendida</th>\n",
       "      <th>Preco_Unitario</th>\n",
       "      <th>Valor_Total</th>\n",
       "    </tr>\n",
       "  </thead>\n",
       "  <tbody>\n",
       "    <tr>\n",
       "      <th>0</th>\n",
       "      <td>2023-04-13</td>\n",
       "      <td>Roupas</td>\n",
       "      <td>74</td>\n",
       "      <td>60.43</td>\n",
       "      <td>4471.82</td>\n",
       "    </tr>\n",
       "    <tr>\n",
       "      <th>1</th>\n",
       "      <td>2023-12-15</td>\n",
       "      <td>Alimentos</td>\n",
       "      <td>83</td>\n",
       "      <td>272.88</td>\n",
       "      <td>22649.04</td>\n",
       "    </tr>\n",
       "    <tr>\n",
       "      <th>2</th>\n",
       "      <td>2023-09-28</td>\n",
       "      <td>Roupas</td>\n",
       "      <td>17</td>\n",
       "      <td>195.62</td>\n",
       "      <td>3325.54</td>\n",
       "    </tr>\n",
       "    <tr>\n",
       "      <th>3</th>\n",
       "      <td>2023-04-17</td>\n",
       "      <td>Roupas</td>\n",
       "      <td>85</td>\n",
       "      <td>233.93</td>\n",
       "      <td>19884.05</td>\n",
       "    </tr>\n",
       "    <tr>\n",
       "      <th>4</th>\n",
       "      <td>2023-03-13</td>\n",
       "      <td>Roupas</td>\n",
       "      <td>78</td>\n",
       "      <td>305.94</td>\n",
       "      <td>23863.32</td>\n",
       "    </tr>\n",
       "    <tr>\n",
       "      <th>...</th>\n",
       "      <td>...</td>\n",
       "      <td>...</td>\n",
       "      <td>...</td>\n",
       "      <td>...</td>\n",
       "      <td>...</td>\n",
       "    </tr>\n",
       "    <tr>\n",
       "      <th>360</th>\n",
       "      <td>2023-10-07</td>\n",
       "      <td>Brinquedos</td>\n",
       "      <td>66</td>\n",
       "      <td>12.49</td>\n",
       "      <td>824.34</td>\n",
       "    </tr>\n",
       "    <tr>\n",
       "      <th>361</th>\n",
       "      <td>2023-04-24</td>\n",
       "      <td>Brinquedos</td>\n",
       "      <td>10</td>\n",
       "      <td>350.90</td>\n",
       "      <td>3509.00</td>\n",
       "    </tr>\n",
       "    <tr>\n",
       "      <th>362</th>\n",
       "      <td>2023-10-15</td>\n",
       "      <td>Brinquedos</td>\n",
       "      <td>5</td>\n",
       "      <td>33.90</td>\n",
       "      <td>169.50</td>\n",
       "    </tr>\n",
       "    <tr>\n",
       "      <th>363</th>\n",
       "      <td>2023-12-08</td>\n",
       "      <td>Brinquedos</td>\n",
       "      <td>74</td>\n",
       "      <td>270.98</td>\n",
       "      <td>20052.52</td>\n",
       "    </tr>\n",
       "    <tr>\n",
       "      <th>364</th>\n",
       "      <td>2023-05-31</td>\n",
       "      <td>Roupas</td>\n",
       "      <td>97</td>\n",
       "      <td>481.44</td>\n",
       "      <td>46699.68</td>\n",
       "    </tr>\n",
       "  </tbody>\n",
       "</table>\n",
       "<p>365 rows × 5 columns</p>\n",
       "</div>"
      ],
      "text/plain": [
       "           Data   Categoria  Quantidade_Vendida  Preco_Unitario  Valor_Total\n",
       "0    2023-04-13      Roupas                  74           60.43      4471.82\n",
       "1    2023-12-15   Alimentos                  83          272.88     22649.04\n",
       "2    2023-09-28      Roupas                  17          195.62      3325.54\n",
       "3    2023-04-17      Roupas                  85          233.93     19884.05\n",
       "4    2023-03-13      Roupas                  78          305.94     23863.32\n",
       "..          ...         ...                 ...             ...          ...\n",
       "360  2023-10-07  Brinquedos                  66           12.49       824.34\n",
       "361  2023-04-24  Brinquedos                  10          350.90      3509.00\n",
       "362  2023-10-15  Brinquedos                   5           33.90       169.50\n",
       "363  2023-12-08  Brinquedos                  74          270.98     20052.52\n",
       "364  2023-05-31      Roupas                  97          481.44     46699.68\n",
       "\n",
       "[365 rows x 5 columns]"
      ]
     },
     "execution_count": 3,
     "metadata": {},
     "output_type": "execute_result"
    }
   ],
   "source": [
    "#Carregar os dados\n",
    "pd.read_csv('dados_vendas.csv')"
   ]
  },
  {
   "cell_type": "code",
   "execution_count": 8,
   "metadata": {},
   "outputs": [
    {
     "name": "stdout",
     "output_type": "stream",
     "text": [
      "Quantidade de linhas e coluna respectivamente: (365, 5)\n"
     ]
    }
   ],
   "source": [
    "#Quantas linhas e colunas existem no DataFrame carregado?\n",
    "print(f'Quantidade de linhas e coluna respectivamente:',df.shape)"
   ]
  },
  {
   "cell_type": "code",
   "execution_count": 9,
   "metadata": {},
   "outputs": [
    {
     "data": {
      "text/plain": [
       "Data                  datetime64[ns]\n",
       "Categoria                     object\n",
       "Quantidade_Vendida             int32\n",
       "Preco_Unitario               float64\n",
       "Valor_Total                  float64\n",
       "dtype: object"
      ]
     },
     "execution_count": 9,
     "metadata": {},
     "output_type": "execute_result"
    }
   ],
   "source": [
    "#Quais são os tipos de dados (dtypes) das colunas?\n",
    "df.dtypes"
   ]
  },
  {
   "cell_type": "code",
   "execution_count": 10,
   "metadata": {},
   "outputs": [
    {
     "data": {
      "text/html": [
       "<div>\n",
       "<style scoped>\n",
       "    .dataframe tbody tr th:only-of-type {\n",
       "        vertical-align: middle;\n",
       "    }\n",
       "\n",
       "    .dataframe tbody tr th {\n",
       "        vertical-align: top;\n",
       "    }\n",
       "\n",
       "    .dataframe thead th {\n",
       "        text-align: right;\n",
       "    }\n",
       "</style>\n",
       "<table border=\"1\" class=\"dataframe\">\n",
       "  <thead>\n",
       "    <tr style=\"text-align: right;\">\n",
       "      <th></th>\n",
       "      <th>Data</th>\n",
       "      <th>Categoria</th>\n",
       "      <th>Quantidade_Vendida</th>\n",
       "      <th>Preco_Unitario</th>\n",
       "      <th>Valor_Total</th>\n",
       "    </tr>\n",
       "  </thead>\n",
       "  <tbody>\n",
       "    <tr>\n",
       "      <th>0</th>\n",
       "      <td>2023-04-13</td>\n",
       "      <td>Roupas</td>\n",
       "      <td>74</td>\n",
       "      <td>60.43</td>\n",
       "      <td>4471.82</td>\n",
       "    </tr>\n",
       "    <tr>\n",
       "      <th>1</th>\n",
       "      <td>2023-12-15</td>\n",
       "      <td>Alimentos</td>\n",
       "      <td>83</td>\n",
       "      <td>272.88</td>\n",
       "      <td>22649.04</td>\n",
       "    </tr>\n",
       "    <tr>\n",
       "      <th>2</th>\n",
       "      <td>2023-09-28</td>\n",
       "      <td>Roupas</td>\n",
       "      <td>17</td>\n",
       "      <td>195.62</td>\n",
       "      <td>3325.54</td>\n",
       "    </tr>\n",
       "    <tr>\n",
       "      <th>3</th>\n",
       "      <td>2023-04-17</td>\n",
       "      <td>Roupas</td>\n",
       "      <td>85</td>\n",
       "      <td>233.93</td>\n",
       "      <td>19884.05</td>\n",
       "    </tr>\n",
       "    <tr>\n",
       "      <th>4</th>\n",
       "      <td>2023-03-13</td>\n",
       "      <td>Roupas</td>\n",
       "      <td>78</td>\n",
       "      <td>305.94</td>\n",
       "      <td>23863.32</td>\n",
       "    </tr>\n",
       "  </tbody>\n",
       "</table>\n",
       "</div>"
      ],
      "text/plain": [
       "        Data  Categoria  Quantidade_Vendida  Preco_Unitario  Valor_Total\n",
       "0 2023-04-13     Roupas                  74           60.43      4471.82\n",
       "1 2023-12-15  Alimentos                  83          272.88     22649.04\n",
       "2 2023-09-28     Roupas                  17          195.62      3325.54\n",
       "3 2023-04-17     Roupas                  85          233.93     19884.05\n",
       "4 2023-03-13     Roupas                  78          305.94     23863.32"
      ]
     },
     "execution_count": 10,
     "metadata": {},
     "output_type": "execute_result"
    }
   ],
   "source": [
    "#Exibir as primeiras 5 linhas do DataFrame:\n",
    "df.head()"
   ]
  },
  {
   "cell_type": "code",
   "execution_count": 19,
   "metadata": {},
   "outputs": [
    {
     "data": {
      "text/plain": [
       "<bound method Series.unique of 0          Roupas\n",
       "1       Alimentos\n",
       "2          Roupas\n",
       "3          Roupas\n",
       "4          Roupas\n",
       "          ...    \n",
       "360    Brinquedos\n",
       "361    Brinquedos\n",
       "362    Brinquedos\n",
       "363    Brinquedos\n",
       "364        Roupas\n",
       "Name: Categoria, Length: 365, dtype: object>"
      ]
     },
     "execution_count": 19,
     "metadata": {},
     "output_type": "execute_result"
    }
   ],
   "source": [
    "#Quantas categorias únicas de produtos estão presentes no DataFrame?\n",
    "df['Categoria'].unique"
   ]
  },
  {
   "cell_type": "code",
   "execution_count": 31,
   "metadata": {},
   "outputs": [
    {
     "data": {
      "text/html": [
       "<div>\n",
       "<style scoped>\n",
       "    .dataframe tbody tr th:only-of-type {\n",
       "        vertical-align: middle;\n",
       "    }\n",
       "\n",
       "    .dataframe tbody tr th {\n",
       "        vertical-align: top;\n",
       "    }\n",
       "\n",
       "    .dataframe thead th {\n",
       "        text-align: right;\n",
       "    }\n",
       "</style>\n",
       "<table border=\"1\" class=\"dataframe\">\n",
       "  <thead>\n",
       "    <tr style=\"text-align: right;\">\n",
       "      <th></th>\n",
       "      <th>Data</th>\n",
       "      <th>Categoria</th>\n",
       "      <th>Quantidade_Vendida</th>\n",
       "      <th>Preco_Unitario</th>\n",
       "      <th>Valor_Total</th>\n",
       "    </tr>\n",
       "  </thead>\n",
       "  <tbody>\n",
       "    <tr>\n",
       "      <th>5</th>\n",
       "      <td>2023-07-08</td>\n",
       "      <td>Eletrônicos</td>\n",
       "      <td>73</td>\n",
       "      <td>256.12</td>\n",
       "      <td>18696.76</td>\n",
       "    </tr>\n",
       "    <tr>\n",
       "      <th>6</th>\n",
       "      <td>2023-01-21</td>\n",
       "      <td>Eletrônicos</td>\n",
       "      <td>1</td>\n",
       "      <td>274.53</td>\n",
       "      <td>274.53</td>\n",
       "    </tr>\n",
       "    <tr>\n",
       "      <th>7</th>\n",
       "      <td>2023-04-13</td>\n",
       "      <td>Eletrônicos</td>\n",
       "      <td>51</td>\n",
       "      <td>248.32</td>\n",
       "      <td>12664.32</td>\n",
       "    </tr>\n",
       "    <tr>\n",
       "      <th>14</th>\n",
       "      <td>2023-06-01</td>\n",
       "      <td>Eletrônicos</td>\n",
       "      <td>34</td>\n",
       "      <td>303.52</td>\n",
       "      <td>10319.68</td>\n",
       "    </tr>\n",
       "    <tr>\n",
       "      <th>18</th>\n",
       "      <td>2023-09-15</td>\n",
       "      <td>Eletrônicos</td>\n",
       "      <td>39</td>\n",
       "      <td>121.40</td>\n",
       "      <td>4734.60</td>\n",
       "    </tr>\n",
       "    <tr>\n",
       "      <th>...</th>\n",
       "      <td>...</td>\n",
       "      <td>...</td>\n",
       "      <td>...</td>\n",
       "      <td>...</td>\n",
       "      <td>...</td>\n",
       "    </tr>\n",
       "    <tr>\n",
       "      <th>347</th>\n",
       "      <td>2023-09-10</td>\n",
       "      <td>Eletrônicos</td>\n",
       "      <td>33</td>\n",
       "      <td>431.46</td>\n",
       "      <td>14238.18</td>\n",
       "    </tr>\n",
       "    <tr>\n",
       "      <th>349</th>\n",
       "      <td>2023-09-13</td>\n",
       "      <td>Eletrônicos</td>\n",
       "      <td>27</td>\n",
       "      <td>201.67</td>\n",
       "      <td>5445.09</td>\n",
       "    </tr>\n",
       "    <tr>\n",
       "      <th>351</th>\n",
       "      <td>2023-05-08</td>\n",
       "      <td>Eletrônicos</td>\n",
       "      <td>29</td>\n",
       "      <td>243.57</td>\n",
       "      <td>7063.53</td>\n",
       "    </tr>\n",
       "    <tr>\n",
       "      <th>353</th>\n",
       "      <td>2023-10-08</td>\n",
       "      <td>Eletrônicos</td>\n",
       "      <td>57</td>\n",
       "      <td>427.57</td>\n",
       "      <td>24371.49</td>\n",
       "    </tr>\n",
       "    <tr>\n",
       "      <th>356</th>\n",
       "      <td>2023-02-27</td>\n",
       "      <td>Eletrônicos</td>\n",
       "      <td>55</td>\n",
       "      <td>466.48</td>\n",
       "      <td>25656.40</td>\n",
       "    </tr>\n",
       "  </tbody>\n",
       "</table>\n",
       "<p>73 rows × 5 columns</p>\n",
       "</div>"
      ],
      "text/plain": [
       "          Data    Categoria  Quantidade_Vendida  Preco_Unitario  Valor_Total\n",
       "5   2023-07-08  Eletrônicos                  73          256.12     18696.76\n",
       "6   2023-01-21  Eletrônicos                   1          274.53       274.53\n",
       "7   2023-04-13  Eletrônicos                  51          248.32     12664.32\n",
       "14  2023-06-01  Eletrônicos                  34          303.52     10319.68\n",
       "18  2023-09-15  Eletrônicos                  39          121.40      4734.60\n",
       "..         ...          ...                 ...             ...          ...\n",
       "347 2023-09-10  Eletrônicos                  33          431.46     14238.18\n",
       "349 2023-09-13  Eletrônicos                  27          201.67      5445.09\n",
       "351 2023-05-08  Eletrônicos                  29          243.57      7063.53\n",
       "353 2023-10-08  Eletrônicos                  57          427.57     24371.49\n",
       "356 2023-02-27  Eletrônicos                  55          466.48     25656.40\n",
       "\n",
       "[73 rows x 5 columns]"
      ]
     },
     "execution_count": 31,
     "metadata": {},
     "output_type": "execute_result"
    }
   ],
   "source": [
    "#Filtrar os dados para mostrar apenas as vendas da categoria 'Eletrônicos':\n",
    "vendas_eletronicos=df[df['Categoria'] == 'Eletrônicos']\n",
    "vendas_eletronicos"
   ]
  },
  {
   "cell_type": "code",
   "execution_count": 49,
   "metadata": {},
   "outputs": [
    {
     "data": {
      "text/plain": [
       "np.float64(12291.256301369864)"
      ]
     },
     "execution_count": 49,
     "metadata": {},
     "output_type": "execute_result"
    }
   ],
   "source": [
    "#Qual é a média do valor total das vendas na categoria 'Eletrônicos'?\n",
    "eletronicos=df[df['Categoria'] == 'Eletrônicos']\n",
    "media_vendas = eletronicos['Valor_Total'].mean()\n",
    "media_vendas"
   ]
  },
  {
   "cell_type": "code",
   "execution_count": 53,
   "metadata": {},
   "outputs": [
    {
     "data": {
      "text/html": [
       "<div>\n",
       "<style scoped>\n",
       "    .dataframe tbody tr th:only-of-type {\n",
       "        vertical-align: middle;\n",
       "    }\n",
       "\n",
       "    .dataframe tbody tr th {\n",
       "        vertical-align: top;\n",
       "    }\n",
       "\n",
       "    .dataframe thead th {\n",
       "        text-align: right;\n",
       "    }\n",
       "</style>\n",
       "<table border=\"1\" class=\"dataframe\">\n",
       "  <thead>\n",
       "    <tr style=\"text-align: right;\">\n",
       "      <th></th>\n",
       "      <th>Data</th>\n",
       "      <th>Categoria</th>\n",
       "      <th>Quantidade_Vendida</th>\n",
       "      <th>Preco_Unitario</th>\n",
       "      <th>Valor_Total</th>\n",
       "    </tr>\n",
       "  </thead>\n",
       "  <tbody>\n",
       "    <tr>\n",
       "      <th>0</th>\n",
       "      <td>2023-04-13</td>\n",
       "      <td>Roupas</td>\n",
       "      <td>74</td>\n",
       "      <td>60.43</td>\n",
       "      <td>4471.82</td>\n",
       "    </tr>\n",
       "    <tr>\n",
       "      <th>1</th>\n",
       "      <td>2023-12-15</td>\n",
       "      <td>Alimentos</td>\n",
       "      <td>83</td>\n",
       "      <td>272.88</td>\n",
       "      <td>22649.04</td>\n",
       "    </tr>\n",
       "    <tr>\n",
       "      <th>2</th>\n",
       "      <td>2023-09-28</td>\n",
       "      <td>Roupas</td>\n",
       "      <td>17</td>\n",
       "      <td>195.62</td>\n",
       "      <td>3325.54</td>\n",
       "    </tr>\n",
       "    <tr>\n",
       "      <th>3</th>\n",
       "      <td>2023-04-17</td>\n",
       "      <td>Roupas</td>\n",
       "      <td>85</td>\n",
       "      <td>233.93</td>\n",
       "      <td>19884.05</td>\n",
       "    </tr>\n",
       "    <tr>\n",
       "      <th>4</th>\n",
       "      <td>2023-03-13</td>\n",
       "      <td>Roupas</td>\n",
       "      <td>78</td>\n",
       "      <td>305.94</td>\n",
       "      <td>23863.32</td>\n",
       "    </tr>\n",
       "    <tr>\n",
       "      <th>...</th>\n",
       "      <td>...</td>\n",
       "      <td>...</td>\n",
       "      <td>...</td>\n",
       "      <td>...</td>\n",
       "      <td>...</td>\n",
       "    </tr>\n",
       "    <tr>\n",
       "      <th>358</th>\n",
       "      <td>2023-12-26</td>\n",
       "      <td>Brinquedos</td>\n",
       "      <td>68</td>\n",
       "      <td>147.88</td>\n",
       "      <td>10055.84</td>\n",
       "    </tr>\n",
       "    <tr>\n",
       "      <th>359</th>\n",
       "      <td>2023-06-23</td>\n",
       "      <td>Alimentos</td>\n",
       "      <td>86</td>\n",
       "      <td>133.80</td>\n",
       "      <td>11506.80</td>\n",
       "    </tr>\n",
       "    <tr>\n",
       "      <th>361</th>\n",
       "      <td>2023-04-24</td>\n",
       "      <td>Brinquedos</td>\n",
       "      <td>10</td>\n",
       "      <td>350.90</td>\n",
       "      <td>3509.00</td>\n",
       "    </tr>\n",
       "    <tr>\n",
       "      <th>363</th>\n",
       "      <td>2023-12-08</td>\n",
       "      <td>Brinquedos</td>\n",
       "      <td>74</td>\n",
       "      <td>270.98</td>\n",
       "      <td>20052.52</td>\n",
       "    </tr>\n",
       "    <tr>\n",
       "      <th>364</th>\n",
       "      <td>2023-05-31</td>\n",
       "      <td>Roupas</td>\n",
       "      <td>97</td>\n",
       "      <td>481.44</td>\n",
       "      <td>46699.68</td>\n",
       "    </tr>\n",
       "  </tbody>\n",
       "</table>\n",
       "<p>330 rows × 5 columns</p>\n",
       "</div>"
      ],
      "text/plain": [
       "          Data   Categoria  Quantidade_Vendida  Preco_Unitario  Valor_Total\n",
       "0   2023-04-13      Roupas                  74           60.43      4471.82\n",
       "1   2023-12-15   Alimentos                  83          272.88     22649.04\n",
       "2   2023-09-28      Roupas                  17          195.62      3325.54\n",
       "3   2023-04-17      Roupas                  85          233.93     19884.05\n",
       "4   2023-03-13      Roupas                  78          305.94     23863.32\n",
       "..         ...         ...                 ...             ...          ...\n",
       "358 2023-12-26  Brinquedos                  68          147.88     10055.84\n",
       "359 2023-06-23   Alimentos                  86          133.80     11506.80\n",
       "361 2023-04-24  Brinquedos                  10          350.90      3509.00\n",
       "363 2023-12-08  Brinquedos                  74          270.98     20052.52\n",
       "364 2023-05-31      Roupas                  97          481.44     46699.68\n",
       "\n",
       "[330 rows x 5 columns]"
      ]
     },
     "execution_count": 53,
     "metadata": {},
     "output_type": "execute_result"
    }
   ],
   "source": [
    "#Filtrar as vendas acima de R$ 1000\n",
    "vendas_acima_1000=df[df['Valor_Total']> 1000]\n",
    "vendas_acima_1000"
   ]
  },
  {
   "cell_type": "code",
   "execution_count": 68,
   "metadata": {},
   "outputs": [
    {
     "name": "stdout",
     "output_type": "stream",
     "text": [
      "Quantidade de vendas acima de 1000: 330\n"
     ]
    }
   ],
   "source": [
    "#Quantas vendas acima de R$ 1000 ocorreram?\n",
    "acima_1000=len(vendas_acima_1000)\n",
    "print(f\"Quantidade de vendas acima de 1000:\", acima_1000)"
   ]
  },
  {
   "cell_type": "markdown",
   "metadata": {},
   "source": [
    "Agrupamento e Agregação"
   ]
  },
  {
   "cell_type": "code",
   "execution_count": 80,
   "metadata": {},
   "outputs": [
    {
     "data": {
      "text/html": [
       "<div>\n",
       "<style scoped>\n",
       "    .dataframe tbody tr th:only-of-type {\n",
       "        vertical-align: middle;\n",
       "    }\n",
       "\n",
       "    .dataframe tbody tr th {\n",
       "        vertical-align: top;\n",
       "    }\n",
       "\n",
       "    .dataframe thead th {\n",
       "        text-align: right;\n",
       "    }\n",
       "</style>\n",
       "<table border=\"1\" class=\"dataframe\">\n",
       "  <thead>\n",
       "    <tr style=\"text-align: right;\">\n",
       "      <th></th>\n",
       "      <th>Categoria</th>\n",
       "      <th>Valor_Total</th>\n",
       "    </tr>\n",
       "  </thead>\n",
       "  <tbody>\n",
       "    <tr>\n",
       "      <th>0</th>\n",
       "      <td>Alimentos</td>\n",
       "      <td>742457.74</td>\n",
       "    </tr>\n",
       "    <tr>\n",
       "      <th>1</th>\n",
       "      <td>Brinquedos</td>\n",
       "      <td>1187964.04</td>\n",
       "    </tr>\n",
       "    <tr>\n",
       "      <th>2</th>\n",
       "      <td>Eletrônicos</td>\n",
       "      <td>897261.71</td>\n",
       "    </tr>\n",
       "    <tr>\n",
       "      <th>3</th>\n",
       "      <td>Livros</td>\n",
       "      <td>963685.46</td>\n",
       "    </tr>\n",
       "    <tr>\n",
       "      <th>4</th>\n",
       "      <td>Roupas</td>\n",
       "      <td>991215.29</td>\n",
       "    </tr>\n",
       "  </tbody>\n",
       "</table>\n",
       "</div>"
      ],
      "text/plain": [
       "     Categoria  Valor_Total\n",
       "0    Alimentos    742457.74\n",
       "1   Brinquedos   1187964.04\n",
       "2  Eletrônicos    897261.71\n",
       "3       Livros    963685.46\n",
       "4       Roupas    991215.29"
      ]
     },
     "execution_count": 80,
     "metadata": {},
     "output_type": "execute_result"
    }
   ],
   "source": [
    "#Agrupar os dados por categoria e calcular o total de vendas por categoria\n",
    "#Agrupa os dados da coluna categoria, soma o valor de cada categoria pela coluna 'Valor_Total' e cria um novo índice\n",
    "total_categoria=df.groupby('Categoria')['Valor_Total'].sum().reset_index()\n",
    "total_categoria"
   ]
  },
  {
   "cell_type": "code",
   "execution_count": 101,
   "metadata": {},
   "outputs": [
    {
     "name": "stdout",
     "output_type": "stream",
     "text": [
      "A categoria mais vendida foi: Brinquedos -- Com um valor total de: 1187964.04\n"
     ]
    }
   ],
   "source": [
    "#Qual categoria teve o maior valor total de vendas?\n",
    "#Encontra o índice onde o valor é o maior baseado na coluna \"Valor_Total\", e retorna a categoria onde o índice foi o maior\n",
    "mais_vendida = total_categoria.loc[total_categoria['Valor_Total'].idxmax(), 'Categoria']\n",
    "valor_maximo = total_categoria['Valor_Total'].max()\n",
    "print(f'A categoria mais vendida foi:',mais_vendida,\"-- Com um valor total de:\",valor_maximo)\n"
   ]
  },
  {
   "cell_type": "code",
   "execution_count": 107,
   "metadata": {},
   "outputs": [
    {
     "data": {
      "text/html": [
       "<div>\n",
       "<style scoped>\n",
       "    .dataframe tbody tr th:only-of-type {\n",
       "        vertical-align: middle;\n",
       "    }\n",
       "\n",
       "    .dataframe tbody tr th {\n",
       "        vertical-align: top;\n",
       "    }\n",
       "\n",
       "    .dataframe thead th {\n",
       "        text-align: right;\n",
       "    }\n",
       "</style>\n",
       "<table border=\"1\" class=\"dataframe\">\n",
       "  <thead>\n",
       "    <tr style=\"text-align: right;\">\n",
       "      <th></th>\n",
       "      <th>Categoria</th>\n",
       "      <th>Quantidade_Vendida</th>\n",
       "    </tr>\n",
       "  </thead>\n",
       "  <tbody>\n",
       "    <tr>\n",
       "      <th>0</th>\n",
       "      <td>Alimentos</td>\n",
       "      <td>55.618182</td>\n",
       "    </tr>\n",
       "    <tr>\n",
       "      <th>1</th>\n",
       "      <td>Brinquedos</td>\n",
       "      <td>47.247191</td>\n",
       "    </tr>\n",
       "    <tr>\n",
       "      <th>2</th>\n",
       "      <td>Eletrônicos</td>\n",
       "      <td>46.780822</td>\n",
       "    </tr>\n",
       "    <tr>\n",
       "      <th>3</th>\n",
       "      <td>Livros</td>\n",
       "      <td>50.917808</td>\n",
       "    </tr>\n",
       "    <tr>\n",
       "      <th>4</th>\n",
       "      <td>Roupas</td>\n",
       "      <td>47.200000</td>\n",
       "    </tr>\n",
       "  </tbody>\n",
       "</table>\n",
       "</div>"
      ],
      "text/plain": [
       "     Categoria  Quantidade_Vendida\n",
       "0    Alimentos           55.618182\n",
       "1   Brinquedos           47.247191\n",
       "2  Eletrônicos           46.780822\n",
       "3       Livros           50.917808\n",
       "4       Roupas           47.200000"
      ]
     },
     "execution_count": 107,
     "metadata": {},
     "output_type": "execute_result"
    }
   ],
   "source": [
    "#Calcular a quantidade média vendida por categoria\n",
    "#Filtra a categoria e, calcula médida da quantidade vendida e cria um novo índice\n",
    "media_quantidade_vendida=df.groupby('Categoria')['Quantidade_Vendida'].mean().reset_index()\n",
    "media_quantidade_vendida"
   ]
  },
  {
   "cell_type": "code",
   "execution_count": 111,
   "metadata": {},
   "outputs": [
    {
     "name": "stdout",
     "output_type": "stream",
     "text": [
      "A categoria com maior quantidade vendida foi: Alimentos -- Com um total de: 55.61818181818182\n"
     ]
    }
   ],
   "source": [
    "#Qual categoria teve a maior quantidade média vendida?\n",
    "#Localiza no df media_quantidade_vendida o id com maior valor na coluna 'Quantidade_Vendida' e retorna a categoria que está na linha.\n",
    "maior_quantidade = media_quantidade_vendida.loc[media_quantidade_vendida['Quantidade_Vendida'].idxmax(), 'Categoria']\n",
    "media_maxima = media_quantidade_vendida['Quantidade_Vendida'].max()\n",
    "print(f'A categoria com maior quantidade vendida foi:',maior_quantidade,\"-- Com um total de:\",media_maxima)"
   ]
  },
  {
   "cell_type": "code",
   "execution_count": 147,
   "metadata": {},
   "outputs": [
    {
     "data": {
      "image/png": "[encoded data removed]",
      "text/plain": [
       "<Figure size 600x500 with 1 Axes>"
      ]
     },
     "metadata": {},
     "output_type": "display_data"
    }
   ],
   "source": [
    "#Criar um gráfico de barras mostrando o total de vendas por categoria\n",
    "plt.figure(figsize=(6, 5))\n",
    "plt.bar(total_categoria['Categoria'], total_categoria['Valor_Total'], color='gray')\n",
    "plt.xlabel('-------Categoria-------')\n",
    "plt.ylabel('Valor Total de Vendas (R$)')\n",
    "plt.title('Total de Vendas por Categoria')\n",
    "plt.show()"
   ]
  },
  {
   "cell_type": "markdown",
   "metadata": {},
   "source": [
    "Com base no gráfico, qual categoria visualmente se destaca em termos de vendas totais?\n",
    "\n",
    "-BRINQUEDOS"
   ]
  },
  {
   "cell_type": "code",
   "execution_count": 153,
   "metadata": {},
   "outputs": [
    {
     "data": {
      "image/png": "[encoded data removed]",
      "text/plain": [
       "<Figure size 800x500 with 1 Axes>"
      ]
     },
     "metadata": {},
     "output_type": "display_data"
    }
   ],
   "source": [
    "#Criar um gráfico de linha mostrando a variação diária das vendas de 'Eletrônicos':\n",
    "\n",
    "vendas_diarias = eletronicos.groupby('Data')['Valor_Total'].sum().reset_index()\n",
    "\n",
    "plt.figure(figsize=(8, 5))\n",
    "plt.plot(vendas_diarias['Data'], vendas_diarias['Valor_Total'], color='gray')\n",
    "plt.xlabel('Data')\n",
    "plt.ylabel('Valor Total de Vendas (R$)')\n",
    "plt.title('Variação Diária das Vendas de Eletrônicos')\n",
    "plt.xticks(rotation=45)\n",
    "plt.show()"
   ]
  },
  {
   "cell_type": "markdown",
   "metadata": {},
   "source": [
    "Existe algum padrão ou tendência observável nas vendas diárias de eletrônicos?\n",
    "\n",
    "Com base na observação de que as vendas são melhores nos primeiros 7 dias do mês e que, após esse período, há uma oscilação."
   ]
  }
 ],
 "metadata": {
  "kernelspec": {
   "display_name": "Python 3",
   "language": "python",
   "name": "python3"
  },
  "language_info": {
   "codemirror_mode": {
    "name": "ipython",
    "version": 3
   },
   "file_extension": ".py",
   "mimetype": "text/x-python",
   "name": "python",
   "nbconvert_exporter": "python",
   "pygments_lexer": "ipython3",
   "version": "3.12.3"
  }
 },
 "nbformat": 4,
 "nbformat_minor": 2
}
