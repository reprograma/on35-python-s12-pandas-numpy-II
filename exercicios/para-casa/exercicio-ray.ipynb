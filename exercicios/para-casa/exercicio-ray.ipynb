{
 "cells": [
  {
   "cell_type": "markdown",
   "metadata": {},
   "source": [
    "gerando dados fictícios"
   ]
  },
  {
   "cell_type": "code",
   "execution_count": 1,
   "metadata": {},
   "outputs": [
    {
     "name": "stdout",
     "output_type": "stream",
     "text": [
      "Conjunto de dados gerado e salvo como 'dados_vendas.csv'.\n"
     ]
    }
   ],
   "source": [
    "   import pandas as pd\n",
    "   import numpy as np\n",
    "   import matplotlib.pyplot as plt\n",
    "\n",
    "   # Configurando a seed para reprodutibilidade\n",
    "   np.random.seed(42)\n",
    "\n",
    "   # Gerando dados falsos\n",
    "   categorias = ['Eletrônicos', 'Roupas', 'Alimentos', 'Livros', 'Brinquedos']\n",
    "   datas = pd.date_range(start='2023-01-01', end='2023-12-31', freq='D')\n",
    "   num_registros = len(datas)\n",
    "\n",
    "   # Criando DataFrame\n",
    "   data = {\n",
    "       'Data': np.random.choice(datas, num_registros),\n",
    "       'Categoria': np.random.choice(categorias, num_registros),\n",
    "       'Quantidade_Vendida': np.random.randint(1, 100, num_registros),\n",
    "       'Preco_Unitario': np.round(np.random.uniform(10, 500, num_registros), 2)\n",
    "   }\n",
    "   df = pd.DataFrame(data)\n",
    "   df['Valor_Total'] = df['Quantidade_Vendida'] * df['Preco_Unitario']\n",
    "\n",
    "   # Salvando o DataFrame em um arquivo CSV\n",
    "   df.to_csv('dados_vendas.csv', index=False)\n",
    "\n",
    "   print(\"Conjunto de dados gerado e salvo como 'dados_vendas.csv'.\")"
   ]
  },
  {
   "cell_type": "code",
   "execution_count": 2,
   "metadata": {},
   "outputs": [
    {
     "name": "stdout",
     "output_type": "stream",
     "text": [
      "         Data  Categoria  Quantidade_Vendida  Preco_Unitario  Valor_Total\n",
      "0  2023-04-13     Roupas                  74           60.43      4471.82\n",
      "1  2023-12-15  Alimentos                  83          272.88     22649.04\n",
      "2  2023-09-28     Roupas                  17          195.62      3325.54\n",
      "3  2023-04-17     Roupas                  85          233.93     19884.05\n",
      "4  2023-03-13     Roupas                  78          305.94     23863.32\n"
     ]
    }
   ],
   "source": [
    "import pandas as pd\n",
    "\n",
    "dados_vendas = 'dados_vendas.csv'\n",
    "\n",
    "df = pd.read_csv(dados_vendas)\n",
    "\n",
    "print(df.head())\n"
   ]
  },
  {
   "cell_type": "code",
   "execution_count": 3,
   "metadata": {},
   "outputs": [
    {
     "data": {
      "text/plain": [
       "(365, 5)"
      ]
     },
     "execution_count": 3,
     "metadata": {},
     "output_type": "execute_result"
    }
   ],
   "source": [
    "df.shape"
   ]
  },
  {
   "cell_type": "code",
   "execution_count": 4,
   "metadata": {},
   "outputs": [
    {
     "data": {
      "text/plain": [
       "Data                   object\n",
       "Categoria              object\n",
       "Quantidade_Vendida      int64\n",
       "Preco_Unitario        float64\n",
       "Valor_Total           float64\n",
       "dtype: object"
      ]
     },
     "execution_count": 4,
     "metadata": {},
     "output_type": "execute_result"
    }
   ],
   "source": [
    "df.dtypes"
   ]
  },
  {
   "cell_type": "code",
   "execution_count": 5,
   "metadata": {},
   "outputs": [
    {
     "name": "stdout",
     "output_type": "stream",
     "text": [
      "         Data  Categoria  Quantidade_Vendida  Preco_Unitario  Valor_Total\n",
      "0  2023-04-13     Roupas                  74           60.43      4471.82\n",
      "1  2023-12-15  Alimentos                  83          272.88     22649.04\n",
      "2  2023-09-28     Roupas                  17          195.62      3325.54\n",
      "3  2023-04-17     Roupas                  85          233.93     19884.05\n",
      "4  2023-03-13     Roupas                  78          305.94     23863.32\n"
     ]
    }
   ],
   "source": [
    "print(df.head())"
   ]
  },
  {
   "cell_type": "code",
   "execution_count": 6,
   "metadata": {},
   "outputs": [
    {
     "name": "stdout",
     "output_type": "stream",
     "text": [
      "['Roupas' 'Alimentos' 'Eletrônicos' 'Brinquedos' 'Livros']\n"
     ]
    }
   ],
   "source": [
    "categorias_unicas = df['Categoria'].unique()\n",
    "\n",
    "print(categorias_unicas)"
   ]
  },
  {
   "cell_type": "code",
   "execution_count": 7,
   "metadata": {},
   "outputs": [
    {
     "name": "stdout",
     "output_type": "stream",
     "text": [
      "           Data    Categoria  Quantidade_Vendida  Preco_Unitario  Valor_Total\n",
      "5    2023-07-08  Eletrônicos                  73          256.12     18696.76\n",
      "6    2023-01-21  Eletrônicos                   1          274.53       274.53\n",
      "7    2023-04-13  Eletrônicos                  51          248.32     12664.32\n",
      "14   2023-06-01  Eletrônicos                  34          303.52     10319.68\n",
      "18   2023-09-15  Eletrônicos                  39          121.40      4734.60\n",
      "..          ...          ...                 ...             ...          ...\n",
      "347  2023-09-10  Eletrônicos                  33          431.46     14238.18\n",
      "349  2023-09-13  Eletrônicos                  27          201.67      5445.09\n",
      "351  2023-05-08  Eletrônicos                  29          243.57      7063.53\n",
      "353  2023-10-08  Eletrônicos                  57          427.57     24371.49\n",
      "356  2023-02-27  Eletrônicos                  55          466.48     25656.40\n",
      "\n",
      "[73 rows x 5 columns]\n"
     ]
    }
   ],
   "source": [
    "eletronicos = df[df['Categoria'] == 'Eletrônicos']\n",
    "print(eletronicos)"
   ]
  },
  {
   "cell_type": "code",
   "execution_count": 8,
   "metadata": {},
   "outputs": [
    {
     "name": "stdout",
     "output_type": "stream",
     "text": [
      "Média total 'Eletrônicos': 12291.26\n"
     ]
    }
   ],
   "source": [
    "media_valor_total = eletronicos['Valor_Total'].mean()\n",
    "\n",
    "print(f\"Média total 'Eletrônicos': {media_valor_total:.2f}\")"
   ]
  }
 ],
 "metadata": {
  "kernelspec": {
   "display_name": "Python 3",
   "language": "python",
   "name": "python3"
  },
  "language_info": {
   "codemirror_mode": {
    "name": "ipython",
    "version": 3
   },
   "file_extension": ".py",
   "mimetype": "text/x-python",
   "name": "python",
   "nbconvert_exporter": "python",
   "pygments_lexer": "ipython3",
   "version": "3.12.5"
  }
 },
 "nbformat": 4,
 "nbformat_minor": 2
}
