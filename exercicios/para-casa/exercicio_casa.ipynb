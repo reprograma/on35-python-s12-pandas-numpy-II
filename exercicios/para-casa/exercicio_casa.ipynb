{
 "cells": [
  {
   "cell_type": "code",
   "execution_count": 19,
   "metadata": {},
   "outputs": [],
   "source": [
    "import pandas as pd\n",
    "import numpy as np\n",
    "df = pd.read_csv(\"dados_vendas.csv\")"
   ]
  },
  {
   "cell_type": "code",
   "execution_count": 8,
   "metadata": {},
   "outputs": [
    {
     "data": {
      "text/plain": [
       "(365, 5)"
      ]
     },
     "execution_count": 8,
     "metadata": {},
     "output_type": "execute_result"
    }
   ],
   "source": [
    "#Informando numeros de linhas e colunas que formam o DataFrame\n",
    "df.shape"
   ]
  },
  {
   "cell_type": "markdown",
   "metadata": {},
   "source": [
    "O DataFrame gerado possui 365 linhas e 5 colunas."
   ]
  },
  {
   "cell_type": "code",
   "execution_count": 9,
   "metadata": {},
   "outputs": [
    {
     "data": {
      "text/plain": [
       "Data                   object\n",
       "Categoria              object\n",
       "Quantidade_Vendida      int64\n",
       "Preco_Unitario        float64\n",
       "Valor_Total           float64\n",
       "dtype: object"
      ]
     },
     "execution_count": 9,
     "metadata": {},
     "output_type": "execute_result"
    }
   ],
   "source": [
    "#Informando os tipos de dados das colunas que compõem o DataFrame.\n",
    "df.dtypes"
   ]
  },
  {
   "cell_type": "markdown",
   "metadata": {},
   "source": [
    "O DataFrame possui as colunas Data e Categoria com dados do tipo object. A coluna Quantidade_Vendida é composta por dados do tipo inteiro e as colunas Preco_Unitario e Valor_Total são formadas por dados do tipo ponto flutuante."
   ]
  },
  {
   "cell_type": "code",
   "execution_count": 11,
   "metadata": {},
   "outputs": [
    {
     "data": {
      "text/html": [
       "<div>\n",
       "<style scoped>\n",
       "    .dataframe tbody tr th:only-of-type {\n",
       "        vertical-align: middle;\n",
       "    }\n",
       "\n",
       "    .dataframe tbody tr th {\n",
       "        vertical-align: top;\n",
       "    }\n",
       "\n",
       "    .dataframe thead th {\n",
       "        text-align: right;\n",
       "    }\n",
       "</style>\n",
       "<table border=\"1\" class=\"dataframe\">\n",
       "  <thead>\n",
       "    <tr style=\"text-align: right;\">\n",
       "      <th></th>\n",
       "      <th>Data</th>\n",
       "      <th>Categoria</th>\n",
       "      <th>Quantidade_Vendida</th>\n",
       "      <th>Preco_Unitario</th>\n",
       "      <th>Valor_Total</th>\n",
       "    </tr>\n",
       "  </thead>\n",
       "  <tbody>\n",
       "    <tr>\n",
       "      <th>0</th>\n",
       "      <td>2023-04-13</td>\n",
       "      <td>Roupas</td>\n",
       "      <td>74</td>\n",
       "      <td>60.43</td>\n",
       "      <td>4471.82</td>\n",
       "    </tr>\n",
       "    <tr>\n",
       "      <th>1</th>\n",
       "      <td>2023-12-15</td>\n",
       "      <td>Alimentos</td>\n",
       "      <td>83</td>\n",
       "      <td>272.88</td>\n",
       "      <td>22649.04</td>\n",
       "    </tr>\n",
       "    <tr>\n",
       "      <th>2</th>\n",
       "      <td>2023-09-28</td>\n",
       "      <td>Roupas</td>\n",
       "      <td>17</td>\n",
       "      <td>195.62</td>\n",
       "      <td>3325.54</td>\n",
       "    </tr>\n",
       "    <tr>\n",
       "      <th>3</th>\n",
       "      <td>2023-04-17</td>\n",
       "      <td>Roupas</td>\n",
       "      <td>85</td>\n",
       "      <td>233.93</td>\n",
       "      <td>19884.05</td>\n",
       "    </tr>\n",
       "    <tr>\n",
       "      <th>4</th>\n",
       "      <td>2023-03-13</td>\n",
       "      <td>Roupas</td>\n",
       "      <td>78</td>\n",
       "      <td>305.94</td>\n",
       "      <td>23863.32</td>\n",
       "    </tr>\n",
       "  </tbody>\n",
       "</table>\n",
       "</div>"
      ],
      "text/plain": [
       "         Data  Categoria  Quantidade_Vendida  Preco_Unitario  Valor_Total\n",
       "0  2023-04-13     Roupas                  74           60.43      4471.82\n",
       "1  2023-12-15  Alimentos                  83          272.88     22649.04\n",
       "2  2023-09-28     Roupas                  17          195.62      3325.54\n",
       "3  2023-04-17     Roupas                  85          233.93     19884.05\n",
       "4  2023-03-13     Roupas                  78          305.94     23863.32"
      ]
     },
     "execution_count": 11,
     "metadata": {},
     "output_type": "execute_result"
    }
   ],
   "source": [
    "#Exibindo as 5 primeiras linhas do DataFrame\n",
    "df.head()"
   ]
  },
  {
   "cell_type": "code",
   "execution_count": null,
   "metadata": {},
   "outputs": [],
   "source": []
  },
  {
   "cell_type": "code",
   "execution_count": 12,
   "metadata": {},
   "outputs": [],
   "source": [
    "eletronicos = df[df['Categoria'] == 'Eletrônicos']"
   ]
  },
  {
   "cell_type": "code",
   "execution_count": 13,
   "metadata": {},
   "outputs": [
    {
     "data": {
      "text/html": [
       "<div>\n",
       "<style scoped>\n",
       "    .dataframe tbody tr th:only-of-type {\n",
       "        vertical-align: middle;\n",
       "    }\n",
       "\n",
       "    .dataframe tbody tr th {\n",
       "        vertical-align: top;\n",
       "    }\n",
       "\n",
       "    .dataframe thead th {\n",
       "        text-align: right;\n",
       "    }\n",
       "</style>\n",
       "<table border=\"1\" class=\"dataframe\">\n",
       "  <thead>\n",
       "    <tr style=\"text-align: right;\">\n",
       "      <th></th>\n",
       "      <th>Data</th>\n",
       "      <th>Categoria</th>\n",
       "      <th>Quantidade_Vendida</th>\n",
       "      <th>Preco_Unitario</th>\n",
       "      <th>Valor_Total</th>\n",
       "    </tr>\n",
       "  </thead>\n",
       "  <tbody>\n",
       "    <tr>\n",
       "      <th>5</th>\n",
       "      <td>2023-07-08</td>\n",
       "      <td>Eletrônicos</td>\n",
       "      <td>73</td>\n",
       "      <td>256.12</td>\n",
       "      <td>18696.76</td>\n",
       "    </tr>\n",
       "    <tr>\n",
       "      <th>6</th>\n",
       "      <td>2023-01-21</td>\n",
       "      <td>Eletrônicos</td>\n",
       "      <td>1</td>\n",
       "      <td>274.53</td>\n",
       "      <td>274.53</td>\n",
       "    </tr>\n",
       "    <tr>\n",
       "      <th>7</th>\n",
       "      <td>2023-04-13</td>\n",
       "      <td>Eletrônicos</td>\n",
       "      <td>51</td>\n",
       "      <td>248.32</td>\n",
       "      <td>12664.32</td>\n",
       "    </tr>\n",
       "    <tr>\n",
       "      <th>14</th>\n",
       "      <td>2023-06-01</td>\n",
       "      <td>Eletrônicos</td>\n",
       "      <td>34</td>\n",
       "      <td>303.52</td>\n",
       "      <td>10319.68</td>\n",
       "    </tr>\n",
       "    <tr>\n",
       "      <th>18</th>\n",
       "      <td>2023-09-15</td>\n",
       "      <td>Eletrônicos</td>\n",
       "      <td>39</td>\n",
       "      <td>121.40</td>\n",
       "      <td>4734.60</td>\n",
       "    </tr>\n",
       "    <tr>\n",
       "      <th>...</th>\n",
       "      <td>...</td>\n",
       "      <td>...</td>\n",
       "      <td>...</td>\n",
       "      <td>...</td>\n",
       "      <td>...</td>\n",
       "    </tr>\n",
       "    <tr>\n",
       "      <th>347</th>\n",
       "      <td>2023-09-10</td>\n",
       "      <td>Eletrônicos</td>\n",
       "      <td>33</td>\n",
       "      <td>431.46</td>\n",
       "      <td>14238.18</td>\n",
       "    </tr>\n",
       "    <tr>\n",
       "      <th>349</th>\n",
       "      <td>2023-09-13</td>\n",
       "      <td>Eletrônicos</td>\n",
       "      <td>27</td>\n",
       "      <td>201.67</td>\n",
       "      <td>5445.09</td>\n",
       "    </tr>\n",
       "    <tr>\n",
       "      <th>351</th>\n",
       "      <td>2023-05-08</td>\n",
       "      <td>Eletrônicos</td>\n",
       "      <td>29</td>\n",
       "      <td>243.57</td>\n",
       "      <td>7063.53</td>\n",
       "    </tr>\n",
       "    <tr>\n",
       "      <th>353</th>\n",
       "      <td>2023-10-08</td>\n",
       "      <td>Eletrônicos</td>\n",
       "      <td>57</td>\n",
       "      <td>427.57</td>\n",
       "      <td>24371.49</td>\n",
       "    </tr>\n",
       "    <tr>\n",
       "      <th>356</th>\n",
       "      <td>2023-02-27</td>\n",
       "      <td>Eletrônicos</td>\n",
       "      <td>55</td>\n",
       "      <td>466.48</td>\n",
       "      <td>25656.40</td>\n",
       "    </tr>\n",
       "  </tbody>\n",
       "</table>\n",
       "<p>73 rows × 5 columns</p>\n",
       "</div>"
      ],
      "text/plain": [
       "           Data    Categoria  Quantidade_Vendida  Preco_Unitario  Valor_Total\n",
       "5    2023-07-08  Eletrônicos                  73          256.12     18696.76\n",
       "6    2023-01-21  Eletrônicos                   1          274.53       274.53\n",
       "7    2023-04-13  Eletrônicos                  51          248.32     12664.32\n",
       "14   2023-06-01  Eletrônicos                  34          303.52     10319.68\n",
       "18   2023-09-15  Eletrônicos                  39          121.40      4734.60\n",
       "..          ...          ...                 ...             ...          ...\n",
       "347  2023-09-10  Eletrônicos                  33          431.46     14238.18\n",
       "349  2023-09-13  Eletrônicos                  27          201.67      5445.09\n",
       "351  2023-05-08  Eletrônicos                  29          243.57      7063.53\n",
       "353  2023-10-08  Eletrônicos                  57          427.57     24371.49\n",
       "356  2023-02-27  Eletrônicos                  55          466.48     25656.40\n",
       "\n",
       "[73 rows x 5 columns]"
      ]
     },
     "execution_count": 13,
     "metadata": {},
     "output_type": "execute_result"
    }
   ],
   "source": [
    "eletronicos"
   ]
  },
  {
   "cell_type": "code",
   "execution_count": 25,
   "metadata": {},
   "outputs": [],
   "source": [
    "media = eletronicos['Valor_Total'].mean()"
   ]
  },
  {
   "cell_type": "code",
   "execution_count": 26,
   "metadata": {},
   "outputs": [
    {
     "data": {
      "text/plain": [
       "np.float64(12291.256301369864)"
      ]
     },
     "execution_count": 26,
     "metadata": {},
     "output_type": "execute_result"
    }
   ],
   "source": [
    "media"
   ]
  },
  {
   "cell_type": "markdown",
   "metadata": {},
   "source": [
    "A média do valor total das vendas na categoria 'Eletrônicos' é de 12291.26"
   ]
  },
  {
   "cell_type": "code",
   "execution_count": 27,
   "metadata": {},
   "outputs": [],
   "source": [
    "vendas_acima_1000 = df[df['Valor_Total'] > 1000]"
   ]
  },
  {
   "cell_type": "code",
   "execution_count": 28,
   "metadata": {},
   "outputs": [
    {
     "data": {
      "text/html": [
       "<div>\n",
       "<style scoped>\n",
       "    .dataframe tbody tr th:only-of-type {\n",
       "        vertical-align: middle;\n",
       "    }\n",
       "\n",
       "    .dataframe tbody tr th {\n",
       "        vertical-align: top;\n",
       "    }\n",
       "\n",
       "    .dataframe thead th {\n",
       "        text-align: right;\n",
       "    }\n",
       "</style>\n",
       "<table border=\"1\" class=\"dataframe\">\n",
       "  <thead>\n",
       "    <tr style=\"text-align: right;\">\n",
       "      <th></th>\n",
       "      <th>Data</th>\n",
       "      <th>Categoria</th>\n",
       "      <th>Quantidade_Vendida</th>\n",
       "      <th>Preco_Unitario</th>\n",
       "      <th>Valor_Total</th>\n",
       "    </tr>\n",
       "  </thead>\n",
       "  <tbody>\n",
       "    <tr>\n",
       "      <th>0</th>\n",
       "      <td>2023-04-13</td>\n",
       "      <td>Roupas</td>\n",
       "      <td>74</td>\n",
       "      <td>60.43</td>\n",
       "      <td>4471.82</td>\n",
       "    </tr>\n",
       "    <tr>\n",
       "      <th>1</th>\n",
       "      <td>2023-12-15</td>\n",
       "      <td>Alimentos</td>\n",
       "      <td>83</td>\n",
       "      <td>272.88</td>\n",
       "      <td>22649.04</td>\n",
       "    </tr>\n",
       "    <tr>\n",
       "      <th>2</th>\n",
       "      <td>2023-09-28</td>\n",
       "      <td>Roupas</td>\n",
       "      <td>17</td>\n",
       "      <td>195.62</td>\n",
       "      <td>3325.54</td>\n",
       "    </tr>\n",
       "    <tr>\n",
       "      <th>3</th>\n",
       "      <td>2023-04-17</td>\n",
       "      <td>Roupas</td>\n",
       "      <td>85</td>\n",
       "      <td>233.93</td>\n",
       "      <td>19884.05</td>\n",
       "    </tr>\n",
       "    <tr>\n",
       "      <th>4</th>\n",
       "      <td>2023-03-13</td>\n",
       "      <td>Roupas</td>\n",
       "      <td>78</td>\n",
       "      <td>305.94</td>\n",
       "      <td>23863.32</td>\n",
       "    </tr>\n",
       "    <tr>\n",
       "      <th>...</th>\n",
       "      <td>...</td>\n",
       "      <td>...</td>\n",
       "      <td>...</td>\n",
       "      <td>...</td>\n",
       "      <td>...</td>\n",
       "    </tr>\n",
       "    <tr>\n",
       "      <th>358</th>\n",
       "      <td>2023-12-26</td>\n",
       "      <td>Brinquedos</td>\n",
       "      <td>68</td>\n",
       "      <td>147.88</td>\n",
       "      <td>10055.84</td>\n",
       "    </tr>\n",
       "    <tr>\n",
       "      <th>359</th>\n",
       "      <td>2023-06-23</td>\n",
       "      <td>Alimentos</td>\n",
       "      <td>86</td>\n",
       "      <td>133.80</td>\n",
       "      <td>11506.80</td>\n",
       "    </tr>\n",
       "    <tr>\n",
       "      <th>361</th>\n",
       "      <td>2023-04-24</td>\n",
       "      <td>Brinquedos</td>\n",
       "      <td>10</td>\n",
       "      <td>350.90</td>\n",
       "      <td>3509.00</td>\n",
       "    </tr>\n",
       "    <tr>\n",
       "      <th>363</th>\n",
       "      <td>2023-12-08</td>\n",
       "      <td>Brinquedos</td>\n",
       "      <td>74</td>\n",
       "      <td>270.98</td>\n",
       "      <td>20052.52</td>\n",
       "    </tr>\n",
       "    <tr>\n",
       "      <th>364</th>\n",
       "      <td>2023-05-31</td>\n",
       "      <td>Roupas</td>\n",
       "      <td>97</td>\n",
       "      <td>481.44</td>\n",
       "      <td>46699.68</td>\n",
       "    </tr>\n",
       "  </tbody>\n",
       "</table>\n",
       "<p>330 rows × 5 columns</p>\n",
       "</div>"
      ],
      "text/plain": [
       "           Data   Categoria  Quantidade_Vendida  Preco_Unitario  Valor_Total\n",
       "0    2023-04-13      Roupas                  74           60.43      4471.82\n",
       "1    2023-12-15   Alimentos                  83          272.88     22649.04\n",
       "2    2023-09-28      Roupas                  17          195.62      3325.54\n",
       "3    2023-04-17      Roupas                  85          233.93     19884.05\n",
       "4    2023-03-13      Roupas                  78          305.94     23863.32\n",
       "..          ...         ...                 ...             ...          ...\n",
       "358  2023-12-26  Brinquedos                  68          147.88     10055.84\n",
       "359  2023-06-23   Alimentos                  86          133.80     11506.80\n",
       "361  2023-04-24  Brinquedos                  10          350.90      3509.00\n",
       "363  2023-12-08  Brinquedos                  74          270.98     20052.52\n",
       "364  2023-05-31      Roupas                  97          481.44     46699.68\n",
       "\n",
       "[330 rows x 5 columns]"
      ]
     },
     "execution_count": 28,
     "metadata": {},
     "output_type": "execute_result"
    }
   ],
   "source": [
    "vendas_acima_1000"
   ]
  },
  {
   "cell_type": "code",
   "execution_count": 30,
   "metadata": {},
   "outputs": [
    {
     "data": {
      "text/plain": [
       "(330, 5)"
      ]
     },
     "execution_count": 30,
     "metadata": {},
     "output_type": "execute_result"
    }
   ],
   "source": [
    "vendas_acima_1000.shape"
   ]
  },
  {
   "cell_type": "markdown",
   "metadata": {},
   "source": [
    "Foram registradas 330 vendas com valor total maior que 1000."
   ]
  },
  {
   "cell_type": "code",
   "execution_count": 31,
   "metadata": {},
   "outputs": [],
   "source": [
    "total_por_categoria = df.groupby('Categoria')['Valor_Total'].sum().reset_index()"
   ]
  },
  {
   "cell_type": "code",
   "execution_count": 32,
   "metadata": {},
   "outputs": [
    {
     "data": {
      "text/html": [
       "<div>\n",
       "<style scoped>\n",
       "    .dataframe tbody tr th:only-of-type {\n",
       "        vertical-align: middle;\n",
       "    }\n",
       "\n",
       "    .dataframe tbody tr th {\n",
       "        vertical-align: top;\n",
       "    }\n",
       "\n",
       "    .dataframe thead th {\n",
       "        text-align: right;\n",
       "    }\n",
       "</style>\n",
       "<table border=\"1\" class=\"dataframe\">\n",
       "  <thead>\n",
       "    <tr style=\"text-align: right;\">\n",
       "      <th></th>\n",
       "      <th>Categoria</th>\n",
       "      <th>Valor_Total</th>\n",
       "    </tr>\n",
       "  </thead>\n",
       "  <tbody>\n",
       "    <tr>\n",
       "      <th>0</th>\n",
       "      <td>Alimentos</td>\n",
       "      <td>742457.74</td>\n",
       "    </tr>\n",
       "    <tr>\n",
       "      <th>1</th>\n",
       "      <td>Brinquedos</td>\n",
       "      <td>1187964.04</td>\n",
       "    </tr>\n",
       "    <tr>\n",
       "      <th>2</th>\n",
       "      <td>Eletrônicos</td>\n",
       "      <td>897261.71</td>\n",
       "    </tr>\n",
       "    <tr>\n",
       "      <th>3</th>\n",
       "      <td>Livros</td>\n",
       "      <td>963685.46</td>\n",
       "    </tr>\n",
       "    <tr>\n",
       "      <th>4</th>\n",
       "      <td>Roupas</td>\n",
       "      <td>991215.29</td>\n",
       "    </tr>\n",
       "  </tbody>\n",
       "</table>\n",
       "</div>"
      ],
      "text/plain": [
       "     Categoria  Valor_Total\n",
       "0    Alimentos    742457.74\n",
       "1   Brinquedos   1187964.04\n",
       "2  Eletrônicos    897261.71\n",
       "3       Livros    963685.46\n",
       "4       Roupas    991215.29"
      ]
     },
     "execution_count": 32,
     "metadata": {},
     "output_type": "execute_result"
    }
   ],
   "source": [
    "total_por_categoria"
   ]
  },
  {
   "cell_type": "markdown",
   "metadata": {},
   "source": [
    "A categoria Brinquedos apresentou o maior valor total de vendas."
   ]
  },
  {
   "cell_type": "code",
   "execution_count": 33,
   "metadata": {},
   "outputs": [],
   "source": [
    "media_quantidade_categoria = df.groupby('Categoria')['Quantidade_Vendida'].mean().reset_index()"
   ]
  },
  {
   "cell_type": "code",
   "execution_count": 34,
   "metadata": {},
   "outputs": [
    {
     "data": {
      "text/html": [
       "<div>\n",
       "<style scoped>\n",
       "    .dataframe tbody tr th:only-of-type {\n",
       "        vertical-align: middle;\n",
       "    }\n",
       "\n",
       "    .dataframe tbody tr th {\n",
       "        vertical-align: top;\n",
       "    }\n",
       "\n",
       "    .dataframe thead th {\n",
       "        text-align: right;\n",
       "    }\n",
       "</style>\n",
       "<table border=\"1\" class=\"dataframe\">\n",
       "  <thead>\n",
       "    <tr style=\"text-align: right;\">\n",
       "      <th></th>\n",
       "      <th>Categoria</th>\n",
       "      <th>Quantidade_Vendida</th>\n",
       "    </tr>\n",
       "  </thead>\n",
       "  <tbody>\n",
       "    <tr>\n",
       "      <th>0</th>\n",
       "      <td>Alimentos</td>\n",
       "      <td>55.618182</td>\n",
       "    </tr>\n",
       "    <tr>\n",
       "      <th>1</th>\n",
       "      <td>Brinquedos</td>\n",
       "      <td>47.247191</td>\n",
       "    </tr>\n",
       "    <tr>\n",
       "      <th>2</th>\n",
       "      <td>Eletrônicos</td>\n",
       "      <td>46.780822</td>\n",
       "    </tr>\n",
       "    <tr>\n",
       "      <th>3</th>\n",
       "      <td>Livros</td>\n",
       "      <td>50.917808</td>\n",
       "    </tr>\n",
       "    <tr>\n",
       "      <th>4</th>\n",
       "      <td>Roupas</td>\n",
       "      <td>47.200000</td>\n",
       "    </tr>\n",
       "  </tbody>\n",
       "</table>\n",
       "</div>"
      ],
      "text/plain": [
       "     Categoria  Quantidade_Vendida\n",
       "0    Alimentos           55.618182\n",
       "1   Brinquedos           47.247191\n",
       "2  Eletrônicos           46.780822\n",
       "3       Livros           50.917808\n",
       "4       Roupas           47.200000"
      ]
     },
     "execution_count": 34,
     "metadata": {},
     "output_type": "execute_result"
    }
   ],
   "source": [
    "media_quantidade_categoria"
   ]
  },
  {
   "cell_type": "markdown",
   "metadata": {},
   "source": [
    "A categoria Alimentos teve a maior quantidade média vendida."
   ]
  },
  {
   "cell_type": "code",
   "execution_count": 35,
   "metadata": {},
   "outputs": [],
   "source": [
    "import matplotlib.pyplot as plt \n"
   ]
  },
  {
   "cell_type": "code",
   "execution_count": 36,
   "metadata": {},
   "outputs": [
    {
     "data": {
      "image/png": "[encoded data removed]",
      "text/plain": [
       "<Figure size 1000x600 with 1 Axes>"
      ]
     },
     "metadata": {},
     "output_type": "display_data"
    }
   ],
   "source": [
    "plt.figure(figsize=(10, 6))\n",
    "plt.bar(total_por_categoria['Categoria'], total_por_categoria['Valor_Total'], color='skyblue')\n",
    "plt.xlabel('Categoria')\n",
    "plt.ylabel('Valor Total de Vendas (R$)')\n",
    "plt.title('Total de Vendas por Categoria')\n",
    "plt.show()"
   ]
  },
  {
   "cell_type": "markdown",
   "metadata": {},
   "source": [
    "Com base na visualização do gráfico, a Categoria Brinquedos apresentou o maior valor total de vendas."
   ]
  },
  {
   "cell_type": "code",
   "execution_count": 37,
   "metadata": {},
   "outputs": [],
   "source": [
    "vendas_diarias = eletronicos.groupby('Data')['Valor_Total'].sum().reset_index()\n"
   ]
  },
  {
   "cell_type": "code",
   "execution_count": 38,
   "metadata": {},
   "outputs": [
    {
     "data": {
      "text/html": [
       "<div>\n",
       "<style scoped>\n",
       "    .dataframe tbody tr th:only-of-type {\n",
       "        vertical-align: middle;\n",
       "    }\n",
       "\n",
       "    .dataframe tbody tr th {\n",
       "        vertical-align: top;\n",
       "    }\n",
       "\n",
       "    .dataframe thead th {\n",
       "        text-align: right;\n",
       "    }\n",
       "</style>\n",
       "<table border=\"1\" class=\"dataframe\">\n",
       "  <thead>\n",
       "    <tr style=\"text-align: right;\">\n",
       "      <th></th>\n",
       "      <th>Data</th>\n",
       "      <th>Valor_Total</th>\n",
       "    </tr>\n",
       "  </thead>\n",
       "  <tbody>\n",
       "    <tr>\n",
       "      <th>0</th>\n",
       "      <td>2023-01-09</td>\n",
       "      <td>15198.60</td>\n",
       "    </tr>\n",
       "    <tr>\n",
       "      <th>1</th>\n",
       "      <td>2023-01-21</td>\n",
       "      <td>274.53</td>\n",
       "    </tr>\n",
       "    <tr>\n",
       "      <th>2</th>\n",
       "      <td>2023-01-27</td>\n",
       "      <td>12175.60</td>\n",
       "    </tr>\n",
       "    <tr>\n",
       "      <th>3</th>\n",
       "      <td>2023-02-05</td>\n",
       "      <td>21956.48</td>\n",
       "    </tr>\n",
       "    <tr>\n",
       "      <th>4</th>\n",
       "      <td>2023-02-06</td>\n",
       "      <td>9625.70</td>\n",
       "    </tr>\n",
       "    <tr>\n",
       "      <th>...</th>\n",
       "      <td>...</td>\n",
       "      <td>...</td>\n",
       "    </tr>\n",
       "    <tr>\n",
       "      <th>59</th>\n",
       "      <td>2023-11-23</td>\n",
       "      <td>12677.00</td>\n",
       "    </tr>\n",
       "    <tr>\n",
       "      <th>60</th>\n",
       "      <td>2023-12-04</td>\n",
       "      <td>6724.81</td>\n",
       "    </tr>\n",
       "    <tr>\n",
       "      <th>61</th>\n",
       "      <td>2023-12-12</td>\n",
       "      <td>6993.20</td>\n",
       "    </tr>\n",
       "    <tr>\n",
       "      <th>62</th>\n",
       "      <td>2023-12-25</td>\n",
       "      <td>14750.80</td>\n",
       "    </tr>\n",
       "    <tr>\n",
       "      <th>63</th>\n",
       "      <td>2023-12-26</td>\n",
       "      <td>12856.48</td>\n",
       "    </tr>\n",
       "  </tbody>\n",
       "</table>\n",
       "<p>64 rows × 2 columns</p>\n",
       "</div>"
      ],
      "text/plain": [
       "          Data  Valor_Total\n",
       "0   2023-01-09     15198.60\n",
       "1   2023-01-21       274.53\n",
       "2   2023-01-27     12175.60\n",
       "3   2023-02-05     21956.48\n",
       "4   2023-02-06      9625.70\n",
       "..         ...          ...\n",
       "59  2023-11-23     12677.00\n",
       "60  2023-12-04      6724.81\n",
       "61  2023-12-12      6993.20\n",
       "62  2023-12-25     14750.80\n",
       "63  2023-12-26     12856.48\n",
       "\n",
       "[64 rows x 2 columns]"
      ]
     },
     "execution_count": 38,
     "metadata": {},
     "output_type": "execute_result"
    }
   ],
   "source": [
    "vendas_diarias"
   ]
  },
  {
   "cell_type": "code",
   "execution_count": 39,
   "metadata": {},
   "outputs": [
    {
     "data": {
      "image/png": "[encoded data removed]",
      "text/plain": [
       "<Figure size 1000x600 with 1 Axes>"
      ]
     },
     "metadata": {},
     "output_type": "display_data"
    }
   ],
   "source": [
    "plt.figure(figsize=(10, 6))\n",
    "plt.plot(vendas_diarias['Data'], vendas_diarias['Valor_Total'], color='purple')\n",
    "plt.xlabel('Data')\n",
    "plt.ylabel('Valor Total de Vendas (R$)')\n",
    "plt.title('Variação Diária das Vendas de Eletrônicos')\n",
    "plt.xticks(rotation=45)\n",
    "plt.show()"
   ]
  },
  {
   "cell_type": "markdown",
   "metadata": {},
   "source": [
    "Visualizando o gráfico é possível inferir que existe uma enorme variação na venda total diária de eletronicos: dias de pico extremamente elevado de vendas, enquanto em outros dias uma acentuada baixa no volume de vendas. É recomendável que seja feita uma diluição na visualização dos dados, ou seja, gráficos apresentados semanalmente, com o intuito de diagnosticar, com mais precisão e confiabilidade, os motivos que contribuem para esse historico de vendas tão irregular."
   ]
  }
 ],
 "metadata": {
  "kernelspec": {
   "display_name": "Python 3",
   "language": "python",
   "name": "python3"
  },
  "language_info": {
   "codemirror_mode": {
    "name": "ipython",
    "version": 3
   },
   "file_extension": ".py",
   "mimetype": "text/x-python",
   "name": "python",
   "nbconvert_exporter": "python",
   "pygments_lexer": "ipython3",
   "version": "3.12.4"
  }
 },
 "nbformat": 4,
 "nbformat_minor": 2
}
