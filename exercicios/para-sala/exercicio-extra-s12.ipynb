{
 "cells": [
  {
   "cell_type": "code",
   "execution_count": 1,
   "metadata": {},
   "outputs": [],
   "source": [
    "import pandas as pd\n",
    "import numpy as np\n",
    "import matplotlib.pyplot as plt"
   ]
  },
  {
   "cell_type": "code",
   "execution_count": 3,
   "metadata": {},
   "outputs": [],
   "source": [
    "# Dados fictícios para exemplo\n",
    "dados = {\n",
    "    'ID_Consulta': [1, 2, 3, 4, 5],\n",
    "    'Nome_Paciente': ['João Silva', 'Maria Oliveira', 'Carlos Souza', 'Ana Paula', 'Marcos Lima'],\n",
    "    'Data_Consulta': ['2024-08-01', '2024-08-02', '2024-08-03', '2024-08-04', '2024-08-05'],\n",
    "    'Sintomas': ['Febre, Tosse', 'Dor de Cabeça', 'Náusea, Vômito', 'Dor de Garganta', 'Cansaço, Falta de Ar'],\n",
    "    'Diagnostico': ['Gripe', 'Enxaqueca', 'Gastrite', 'Amigdalite', 'Bronquite'],\n",
    "    'Prescricao': ['Antitérmico, Repouso', 'Analgésico', 'Antiácido, Dieta', 'Antibiótico', 'Broncodilatador'],\n",
    "    'Duracao_Consulta_Minutos': [30, 45, 25, 40, 35],  # Duração em minutos\n",
    "    'Gravidade_Sintomas': [4, 6, 5, 7, 8]  # Gravidade dos sintomas em uma escala de 1 a 10\n",
    "}\n",
    "\n",
    "df = pd.DataFrame(dados)"
   ]
  },
  {
   "cell_type": "code",
   "execution_count": 4,
   "metadata": {},
   "outputs": [
    {
     "data": {
      "text/html": [
       "<div>\n",
       "<style scoped>\n",
       "    .dataframe tbody tr th:only-of-type {\n",
       "        vertical-align: middle;\n",
       "    }\n",
       "\n",
       "    .dataframe tbody tr th {\n",
       "        vertical-align: top;\n",
       "    }\n",
       "\n",
       "    .dataframe thead th {\n",
       "        text-align: right;\n",
       "    }\n",
       "</style>\n",
       "<table border=\"1\" class=\"dataframe\">\n",
       "  <thead>\n",
       "    <tr style=\"text-align: right;\">\n",
       "      <th></th>\n",
       "      <th>ID_Consulta</th>\n",
       "      <th>Nome_Paciente</th>\n",
       "      <th>Data_Consulta</th>\n",
       "      <th>Sintomas</th>\n",
       "      <th>Diagnostico</th>\n",
       "      <th>Prescricao</th>\n",
       "      <th>Duracao_Consulta_Minutos</th>\n",
       "      <th>Gravidade_Sintomas</th>\n",
       "    </tr>\n",
       "  </thead>\n",
       "  <tbody>\n",
       "    <tr>\n",
       "      <th>0</th>\n",
       "      <td>1</td>\n",
       "      <td>João Silva</td>\n",
       "      <td>2024-08-01</td>\n",
       "      <td>Febre, Tosse</td>\n",
       "      <td>Gripe</td>\n",
       "      <td>Antitérmico, Repouso</td>\n",
       "      <td>30</td>\n",
       "      <td>4</td>\n",
       "    </tr>\n",
       "    <tr>\n",
       "      <th>1</th>\n",
       "      <td>2</td>\n",
       "      <td>Maria Oliveira</td>\n",
       "      <td>2024-08-02</td>\n",
       "      <td>Dor de Cabeça</td>\n",
       "      <td>Enxaqueca</td>\n",
       "      <td>Analgésico</td>\n",
       "      <td>45</td>\n",
       "      <td>6</td>\n",
       "    </tr>\n",
       "    <tr>\n",
       "      <th>2</th>\n",
       "      <td>3</td>\n",
       "      <td>Carlos Souza</td>\n",
       "      <td>2024-08-03</td>\n",
       "      <td>Náusea, Vômito</td>\n",
       "      <td>Gastrite</td>\n",
       "      <td>Antiácido, Dieta</td>\n",
       "      <td>25</td>\n",
       "      <td>5</td>\n",
       "    </tr>\n",
       "    <tr>\n",
       "      <th>3</th>\n",
       "      <td>4</td>\n",
       "      <td>Ana Paula</td>\n",
       "      <td>2024-08-04</td>\n",
       "      <td>Dor de Garganta</td>\n",
       "      <td>Amigdalite</td>\n",
       "      <td>Antibiótico</td>\n",
       "      <td>40</td>\n",
       "      <td>7</td>\n",
       "    </tr>\n",
       "    <tr>\n",
       "      <th>4</th>\n",
       "      <td>5</td>\n",
       "      <td>Marcos Lima</td>\n",
       "      <td>2024-08-05</td>\n",
       "      <td>Cansaço, Falta de Ar</td>\n",
       "      <td>Bronquite</td>\n",
       "      <td>Broncodilatador</td>\n",
       "      <td>35</td>\n",
       "      <td>8</td>\n",
       "    </tr>\n",
       "  </tbody>\n",
       "</table>\n",
       "</div>"
      ],
      "text/plain": [
       "   ID_Consulta   Nome_Paciente Data_Consulta              Sintomas  \\\n",
       "0            1      João Silva    2024-08-01          Febre, Tosse   \n",
       "1            2  Maria Oliveira    2024-08-02         Dor de Cabeça   \n",
       "2            3    Carlos Souza    2024-08-03        Náusea, Vômito   \n",
       "3            4       Ana Paula    2024-08-04       Dor de Garganta   \n",
       "4            5     Marcos Lima    2024-08-05  Cansaço, Falta de Ar   \n",
       "\n",
       "  Diagnostico            Prescricao  Duracao_Consulta_Minutos  \\\n",
       "0       Gripe  Antitérmico, Repouso                        30   \n",
       "1   Enxaqueca            Analgésico                        45   \n",
       "2    Gastrite      Antiácido, Dieta                        25   \n",
       "3  Amigdalite           Antibiótico                        40   \n",
       "4   Bronquite       Broncodilatador                        35   \n",
       "\n",
       "   Gravidade_Sintomas  \n",
       "0                   4  \n",
       "1                   6  \n",
       "2                   5  \n",
       "3                   7  \n",
       "4                   8  "
      ]
     },
     "execution_count": 4,
     "metadata": {},
     "output_type": "execute_result"
    }
   ],
   "source": [
    "df.head()"
   ]
  },
  {
   "cell_type": "markdown",
   "metadata": {},
   "source": [
    "limpeza"
   ]
  },
  {
   "cell_type": "code",
   "execution_count": 5,
   "metadata": {},
   "outputs": [
    {
     "data": {
      "text/plain": [
       "ID_Consulta                 0\n",
       "Nome_Paciente               0\n",
       "Data_Consulta               0\n",
       "Sintomas                    0\n",
       "Diagnostico                 0\n",
       "Prescricao                  0\n",
       "Duracao_Consulta_Minutos    0\n",
       "Gravidade_Sintomas          0\n",
       "dtype: int64"
      ]
     },
     "execution_count": 5,
     "metadata": {},
     "output_type": "execute_result"
    }
   ],
   "source": [
    "df.isnull().sum()"
   ]
  },
  {
   "cell_type": "code",
   "execution_count": 6,
   "metadata": {},
   "outputs": [],
   "source": [
    "df = df.drop_duplicates()"
   ]
  },
  {
   "cell_type": "code",
   "execution_count": 7,
   "metadata": {},
   "outputs": [
    {
     "data": {
      "text/plain": [
       "ID_Consulta                  int64\n",
       "Nome_Paciente               object\n",
       "Data_Consulta               object\n",
       "Sintomas                    object\n",
       "Diagnostico                 object\n",
       "Prescricao                  object\n",
       "Duracao_Consulta_Minutos     int64\n",
       "Gravidade_Sintomas           int64\n",
       "dtype: object"
      ]
     },
     "execution_count": 7,
     "metadata": {},
     "output_type": "execute_result"
    }
   ],
   "source": [
    "df.dtypes"
   ]
  },
  {
   "cell_type": "code",
   "execution_count": 8,
   "metadata": {},
   "outputs": [],
   "source": [
    "df['Data_Consulta'] = pd.to_datetime(df['Data_Consulta'])"
   ]
  },
  {
   "cell_type": "code",
   "execution_count": 9,
   "metadata": {},
   "outputs": [
    {
     "data": {
      "text/html": [
       "<div>\n",
       "<style scoped>\n",
       "    .dataframe tbody tr th:only-of-type {\n",
       "        vertical-align: middle;\n",
       "    }\n",
       "\n",
       "    .dataframe tbody tr th {\n",
       "        vertical-align: top;\n",
       "    }\n",
       "\n",
       "    .dataframe thead th {\n",
       "        text-align: right;\n",
       "    }\n",
       "</style>\n",
       "<table border=\"1\" class=\"dataframe\">\n",
       "  <thead>\n",
       "    <tr style=\"text-align: right;\">\n",
       "      <th></th>\n",
       "      <th>ID_Consulta</th>\n",
       "      <th>Nome_Paciente</th>\n",
       "      <th>Data_Consulta</th>\n",
       "      <th>Sintomas</th>\n",
       "      <th>Diagnostico</th>\n",
       "      <th>Prescricao</th>\n",
       "      <th>Duracao_Consulta_Minutos</th>\n",
       "      <th>Gravidade_Sintomas</th>\n",
       "    </tr>\n",
       "  </thead>\n",
       "  <tbody>\n",
       "    <tr>\n",
       "      <th>0</th>\n",
       "      <td>1</td>\n",
       "      <td>João Silva</td>\n",
       "      <td>2024-08-01</td>\n",
       "      <td>Febre, Tosse</td>\n",
       "      <td>Gripe</td>\n",
       "      <td>Antitérmico, Repouso</td>\n",
       "      <td>30</td>\n",
       "      <td>4</td>\n",
       "    </tr>\n",
       "    <tr>\n",
       "      <th>1</th>\n",
       "      <td>2</td>\n",
       "      <td>Maria Oliveira</td>\n",
       "      <td>2024-08-02</td>\n",
       "      <td>Dor de Cabeça</td>\n",
       "      <td>Enxaqueca</td>\n",
       "      <td>Analgésico</td>\n",
       "      <td>45</td>\n",
       "      <td>6</td>\n",
       "    </tr>\n",
       "    <tr>\n",
       "      <th>2</th>\n",
       "      <td>3</td>\n",
       "      <td>Carlos Souza</td>\n",
       "      <td>2024-08-03</td>\n",
       "      <td>Náusea, Vômito</td>\n",
       "      <td>Gastrite</td>\n",
       "      <td>Antiácido, Dieta</td>\n",
       "      <td>25</td>\n",
       "      <td>5</td>\n",
       "    </tr>\n",
       "    <tr>\n",
       "      <th>3</th>\n",
       "      <td>4</td>\n",
       "      <td>Ana Paula</td>\n",
       "      <td>2024-08-04</td>\n",
       "      <td>Dor de Garganta</td>\n",
       "      <td>Amigdalite</td>\n",
       "      <td>Antibiótico</td>\n",
       "      <td>40</td>\n",
       "      <td>7</td>\n",
       "    </tr>\n",
       "    <tr>\n",
       "      <th>4</th>\n",
       "      <td>5</td>\n",
       "      <td>Marcos Lima</td>\n",
       "      <td>2024-08-05</td>\n",
       "      <td>Cansaço, Falta de Ar</td>\n",
       "      <td>Bronquite</td>\n",
       "      <td>Broncodilatador</td>\n",
       "      <td>35</td>\n",
       "      <td>8</td>\n",
       "    </tr>\n",
       "  </tbody>\n",
       "</table>\n",
       "</div>"
      ],
      "text/plain": [
       "   ID_Consulta   Nome_Paciente Data_Consulta              Sintomas  \\\n",
       "0            1      João Silva    2024-08-01          Febre, Tosse   \n",
       "1            2  Maria Oliveira    2024-08-02         Dor de Cabeça   \n",
       "2            3    Carlos Souza    2024-08-03        Náusea, Vômito   \n",
       "3            4       Ana Paula    2024-08-04       Dor de Garganta   \n",
       "4            5     Marcos Lima    2024-08-05  Cansaço, Falta de Ar   \n",
       "\n",
       "  Diagnostico            Prescricao  Duracao_Consulta_Minutos  \\\n",
       "0       Gripe  Antitérmico, Repouso                        30   \n",
       "1   Enxaqueca            Analgésico                        45   \n",
       "2    Gastrite      Antiácido, Dieta                        25   \n",
       "3  Amigdalite           Antibiótico                        40   \n",
       "4   Bronquite       Broncodilatador                        35   \n",
       "\n",
       "   Gravidade_Sintomas  \n",
       "0                   4  \n",
       "1                   6  \n",
       "2                   5  \n",
       "3                   7  \n",
       "4                   8  "
      ]
     },
     "execution_count": 9,
     "metadata": {},
     "output_type": "execute_result"
    }
   ],
   "source": [
    "df.head()\n"
   ]
  },
  {
   "cell_type": "code",
   "execution_count": 10,
   "metadata": {},
   "outputs": [],
   "source": [
    "df['Duracao_Consulta_Minutos'] = pd.to_numeric(df['Duracao_Consulta_Minutos'], errors='coerce')\n",
    "df['Gravidade_Sintomas'] = pd.to_numeric(df['Gravidade_Sintomas'], errors='coerce')"
   ]
  },
  {
   "cell_type": "code",
   "execution_count": 11,
   "metadata": {},
   "outputs": [
    {
     "data": {
      "text/plain": [
       "ID_Consulta                 0\n",
       "Nome_Paciente               0\n",
       "Data_Consulta               0\n",
       "Sintomas                    0\n",
       "Diagnostico                 0\n",
       "Prescricao                  0\n",
       "Duracao_Consulta_Minutos    0\n",
       "Gravidade_Sintomas          0\n",
       "dtype: int64"
      ]
     },
     "execution_count": 11,
     "metadata": {},
     "output_type": "execute_result"
    }
   ],
   "source": [
    "df.isnull().sum()"
   ]
  },
  {
   "cell_type": "code",
   "execution_count": 12,
   "metadata": {},
   "outputs": [
    {
     "data": {
      "text/html": [
       "<div>\n",
       "<style scoped>\n",
       "    .dataframe tbody tr th:only-of-type {\n",
       "        vertical-align: middle;\n",
       "    }\n",
       "\n",
       "    .dataframe tbody tr th {\n",
       "        vertical-align: top;\n",
       "    }\n",
       "\n",
       "    .dataframe thead th {\n",
       "        text-align: right;\n",
       "    }\n",
       "</style>\n",
       "<table border=\"1\" class=\"dataframe\">\n",
       "  <thead>\n",
       "    <tr style=\"text-align: right;\">\n",
       "      <th></th>\n",
       "      <th>ID_Consulta</th>\n",
       "      <th>Nome_Paciente</th>\n",
       "      <th>Data_Consulta</th>\n",
       "      <th>Sintomas</th>\n",
       "      <th>Diagnostico</th>\n",
       "      <th>Prescricao</th>\n",
       "      <th>Duracao_Consulta_Minutos</th>\n",
       "      <th>Gravidade_Sintomas</th>\n",
       "    </tr>\n",
       "  </thead>\n",
       "  <tbody>\n",
       "    <tr>\n",
       "      <th>0</th>\n",
       "      <td>1</td>\n",
       "      <td>João Silva</td>\n",
       "      <td>2024-08-01</td>\n",
       "      <td>Febre, Tosse</td>\n",
       "      <td>Gripe</td>\n",
       "      <td>Antitérmico, Repouso</td>\n",
       "      <td>30</td>\n",
       "      <td>4</td>\n",
       "    </tr>\n",
       "    <tr>\n",
       "      <th>1</th>\n",
       "      <td>2</td>\n",
       "      <td>Maria Oliveira</td>\n",
       "      <td>2024-08-02</td>\n",
       "      <td>Dor de Cabeça</td>\n",
       "      <td>Enxaqueca</td>\n",
       "      <td>Analgésico</td>\n",
       "      <td>45</td>\n",
       "      <td>6</td>\n",
       "    </tr>\n",
       "    <tr>\n",
       "      <th>2</th>\n",
       "      <td>3</td>\n",
       "      <td>Carlos Souza</td>\n",
       "      <td>2024-08-03</td>\n",
       "      <td>Náusea, Vômito</td>\n",
       "      <td>Gastrite</td>\n",
       "      <td>Antiácido, Dieta</td>\n",
       "      <td>25</td>\n",
       "      <td>5</td>\n",
       "    </tr>\n",
       "    <tr>\n",
       "      <th>3</th>\n",
       "      <td>4</td>\n",
       "      <td>Ana Paula</td>\n",
       "      <td>2024-08-04</td>\n",
       "      <td>Dor de Garganta</td>\n",
       "      <td>Amigdalite</td>\n",
       "      <td>Antibiótico</td>\n",
       "      <td>40</td>\n",
       "      <td>7</td>\n",
       "    </tr>\n",
       "    <tr>\n",
       "      <th>4</th>\n",
       "      <td>5</td>\n",
       "      <td>Marcos Lima</td>\n",
       "      <td>2024-08-05</td>\n",
       "      <td>Cansaço, Falta de Ar</td>\n",
       "      <td>Bronquite</td>\n",
       "      <td>Broncodilatador</td>\n",
       "      <td>35</td>\n",
       "      <td>8</td>\n",
       "    </tr>\n",
       "  </tbody>\n",
       "</table>\n",
       "</div>"
      ],
      "text/plain": [
       "   ID_Consulta   Nome_Paciente Data_Consulta              Sintomas  \\\n",
       "0            1      João Silva    2024-08-01          Febre, Tosse   \n",
       "1            2  Maria Oliveira    2024-08-02         Dor de Cabeça   \n",
       "2            3    Carlos Souza    2024-08-03        Náusea, Vômito   \n",
       "3            4       Ana Paula    2024-08-04       Dor de Garganta   \n",
       "4            5     Marcos Lima    2024-08-05  Cansaço, Falta de Ar   \n",
       "\n",
       "  Diagnostico            Prescricao  Duracao_Consulta_Minutos  \\\n",
       "0       Gripe  Antitérmico, Repouso                        30   \n",
       "1   Enxaqueca            Analgésico                        45   \n",
       "2    Gastrite      Antiácido, Dieta                        25   \n",
       "3  Amigdalite           Antibiótico                        40   \n",
       "4   Bronquite       Broncodilatador                        35   \n",
       "\n",
       "   Gravidade_Sintomas  \n",
       "0                   4  \n",
       "1                   6  \n",
       "2                   5  \n",
       "3                   7  \n",
       "4                   8  "
      ]
     },
     "execution_count": 12,
     "metadata": {},
     "output_type": "execute_result"
    }
   ],
   "source": [
    "df.head()"
   ]
  },
  {
   "cell_type": "markdown",
   "metadata": {},
   "source": [
    "Gráfico de dispersão"
   ]
  },
  {
   "cell_type": "code",
   "execution_count": 13,
   "metadata": {},
   "outputs": [
    {
     "data": {
      "image/png": "[encoded data removed]",
      "text/plain": [
       "<Figure size 1000x600 with 1 Axes>"
      ]
     },
     "metadata": {},
     "output_type": "display_data"
    }
   ],
   "source": [
    "plt.figure(figsize=(10, 6))\n",
    "plt.scatter(df['Duracao_Consulta_Minutos'], df['Gravidade_Sintomas'], color='blue')\n",
    "plt.title('Duração da Consulta x Gravidade dos Sintomas')\n",
    "plt.xlabel('Duração da Consulta (minutos)')\n",
    "plt.ylabel('Gravidade dos Sintomas (1 a 10)')\n",
    "plt.grid(True)\n",
    "plt.show()"
   ]
  },
  {
   "cell_type": "markdown",
   "metadata": {},
   "source": [
    "Análise Storytelling"
   ]
  },
  {
   "cell_type": "markdown",
   "metadata": {},
   "source": [
    "De acorodo com a análise de dados do gráfico "
   ]
  },
  {
   "cell_type": "code",
   "execution_count": 14,
   "metadata": {},
   "outputs": [
    {
     "data": {
      "image/png": "[encoded data removed]",
      "text/plain": [
       "<Figure size 1000x600 with 2 Axes>"
      ]
     },
     "metadata": {},
     "output_type": "display_data"
    }
   ],
   "source": [
    "colors = df['Gravidade_Sintomas']\n",
    "plt.figure(figsize=(10, 6))\n",
    "scatter = plt.scatter(df['Duracao_Consulta_Minutos'], df['Gravidade_Sintomas'], c=colors, cmap='viridis')\n",
    "plt.title('Duração da Consulta x Gravidade dos Sintomas')\n",
    "plt.xlabel('Duração da Consulta (minutos)')\n",
    "plt.ylabel('Gravidade dos Sintomas (1 a 10)')\n",
    "plt.colorbar(scatter, label='Gravidade dos Sintomas')\n",
    "plt.grid(True)\n",
    "plt.show()"
   ]
  }
 ],
 "metadata": {
  "kernelspec": {
   "display_name": "Python 3",
   "language": "python",
   "name": "python3"
  },
  "language_info": {
   "codemirror_mode": {
    "name": "ipython",
    "version": 3
   },
   "file_extension": ".py",
   "mimetype": "text/x-python",
   "name": "python",
   "nbconvert_exporter": "python",
   "pygments_lexer": "ipython3",
   "version": "3.11.4"
  }
 },
 "nbformat": 4,
 "nbformat_minor": 2
}
