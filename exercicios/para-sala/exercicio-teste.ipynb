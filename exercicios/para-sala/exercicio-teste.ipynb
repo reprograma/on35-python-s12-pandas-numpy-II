{
 "cells": [
  {
   "cell_type": "code",
   "execution_count": 7,
   "metadata": {},
   "outputs": [],
   "source": [
    "import pandas as pd\n",
    "\n",
    "df = pd.read_csv('dados_ficticios.csv')"
   ]
  },
  {
   "cell_type": "code",
   "execution_count": 8,
   "metadata": {},
   "outputs": [
    {
     "name": "stdout",
     "output_type": "stream",
     "text": [
      "  Categoria    Valor_1     Valor_2  Valor_3        Data\n",
      "0         C  53.417560  126.034826        1  2023-01-01\n",
      "1         D  68.761708  131.230224        2  2023-01-02\n",
      "2         A  59.504238  100.640083        6  2023-01-03\n",
      "3         C  44.230963   84.931643        5  2023-01-04\n",
      "4         C  41.015853  109.199443        9  2023-01-05\n",
      "5         D  54.919192   86.445693        5  2023-01-06\n",
      "6         A  36.797668  140.267745        2  2023-01-07\n",
      "7         A  68.314588  102.730707        4  2023-01-08\n",
      "8         C  61.794401   92.693569        9  2023-01-09\n",
      "9         B  45.308243  103.693606        1  2023-01-10\n"
     ]
    }
   ],
   "source": [
    "print(df.head(10))\n"
   ]
  },
  {
   "cell_type": "code",
   "execution_count": 9,
   "metadata": {},
   "outputs": [
    {
     "name": "stdout",
     "output_type": "stream",
     "text": [
      "<class 'pandas.core.frame.DataFrame'>\n",
      "RangeIndex: 1000 entries, 0 to 999\n",
      "Data columns (total 5 columns):\n",
      " #   Column     Non-Null Count  Dtype  \n",
      "---  ------     --------------  -----  \n",
      " 0   Categoria  1000 non-null   object \n",
      " 1   Valor_1    1000 non-null   float64\n",
      " 2   Valor_2    1000 non-null   float64\n",
      " 3   Valor_3    1000 non-null   int64  \n",
      " 4   Data       1000 non-null   object \n",
      "dtypes: float64(2), int64(1), object(2)\n",
      "memory usage: 39.2+ KB\n",
      "None\n"
     ]
    }
   ],
   "source": [
    "print(df.info())\n"
   ]
  },
  {
   "cell_type": "code",
   "execution_count": 10,
   "metadata": {},
   "outputs": [
    {
     "name": "stdout",
     "output_type": "stream",
     "text": [
      "           Valor_1      Valor_2      Valor_3\n",
      "count  1000.000000  1000.000000  1000.000000\n",
      "mean     50.401664   100.759179     5.014000\n",
      "std      10.012925    19.673028     2.588533\n",
      "min      21.037446    39.609757     1.000000\n",
      "25%      43.749954    87.668313     3.000000\n",
      "50%      50.366335   100.416802     5.000000\n",
      "75%      56.815984   113.760305     7.000000\n",
      "max      80.788808   163.862151     9.000000\n"
     ]
    }
   ],
   "source": [
    "print(df.describe())\n"
   ]
  },
  {
   "cell_type": "code",
   "execution_count": 11,
   "metadata": {},
   "outputs": [
    {
     "name": "stdout",
     "output_type": "stream",
     "text": [
      "   Categoria    Valor_1     Valor_2  Valor_3        Data\n",
      "7          A  68.314588  102.730707        4  2023-01-08\n",
      "30         A  65.511520  101.140262        2  2023-01-31\n",
      "35         A  67.553408  121.450147        6  2023-02-05\n",
      "74         A  69.647251   97.230880        5  2023-03-16\n",
      "87         A  63.668743  100.293764        1  2023-03-29\n"
     ]
    }
   ],
   "source": [
    "filtro = df[(df['Categoria'] == 'A') & (df['Valor_1'] > 60)]\n",
    "print(filtro.head())"
   ]
  },
  {
   "cell_type": "code",
   "execution_count": 12,
   "metadata": {},
   "outputs": [],
   "source": [
    "df['Data'] = pd.to_datetime(df['Data'])\n"
   ]
  },
  {
   "cell_type": "code",
   "execution_count": 13,
   "metadata": {},
   "outputs": [
    {
     "name": "stdout",
     "output_type": "stream",
     "text": [
      "    Categoria    Valor_1     Valor_2  Valor_3       Data\n",
      "120         D  44.076061  113.927749        6 2023-05-01\n",
      "121         A  41.360092  119.106104        5 2023-05-02\n",
      "122         B  50.485216  101.768138        9 2023-05-03\n",
      "123         C  41.690499  129.550602        2 2023-05-04\n",
      "124         A  52.704568   77.166218        8 2023-05-05\n"
     ]
    }
   ],
   "source": [
    "filtro_data = df[(df['Data'] >= '2023-05-01') & (df['Data'] <= '2023-05-31')]\n",
    "print(filtro_data.head())"
   ]
  },
  {
   "cell_type": "code",
   "execution_count": 14,
   "metadata": {},
   "outputs": [],
   "source": [
    "df = df.rename(columns={'Valor_1': 'estoque da loja1', 'Valor_2': 'Estoque da loja2', 'Valor_3': 'vendas'})"
   ]
  },
  {
   "cell_type": "code",
   "execution_count": 15,
   "metadata": {},
   "outputs": [
    {
     "data": {
      "text/html": [
       "<div>\n",
       "<style scoped>\n",
       "    .dataframe tbody tr th:only-of-type {\n",
       "        vertical-align: middle;\n",
       "    }\n",
       "\n",
       "    .dataframe tbody tr th {\n",
       "        vertical-align: top;\n",
       "    }\n",
       "\n",
       "    .dataframe thead th {\n",
       "        text-align: right;\n",
       "    }\n",
       "</style>\n",
       "<table border=\"1\" class=\"dataframe\">\n",
       "  <thead>\n",
       "    <tr style=\"text-align: right;\">\n",
       "      <th></th>\n",
       "      <th>Categoria</th>\n",
       "      <th>estoque da loja1</th>\n",
       "      <th>Estoque da loja2</th>\n",
       "      <th>vendas</th>\n",
       "      <th>Data</th>\n",
       "    </tr>\n",
       "  </thead>\n",
       "  <tbody>\n",
       "    <tr>\n",
       "      <th>0</th>\n",
       "      <td>C</td>\n",
       "      <td>53.417560</td>\n",
       "      <td>126.034826</td>\n",
       "      <td>1</td>\n",
       "      <td>2023-01-01</td>\n",
       "    </tr>\n",
       "    <tr>\n",
       "      <th>1</th>\n",
       "      <td>D</td>\n",
       "      <td>68.761708</td>\n",
       "      <td>131.230224</td>\n",
       "      <td>2</td>\n",
       "      <td>2023-01-02</td>\n",
       "    </tr>\n",
       "    <tr>\n",
       "      <th>2</th>\n",
       "      <td>A</td>\n",
       "      <td>59.504238</td>\n",
       "      <td>100.640083</td>\n",
       "      <td>6</td>\n",
       "      <td>2023-01-03</td>\n",
       "    </tr>\n",
       "    <tr>\n",
       "      <th>3</th>\n",
       "      <td>C</td>\n",
       "      <td>44.230963</td>\n",
       "      <td>84.931643</td>\n",
       "      <td>5</td>\n",
       "      <td>2023-01-04</td>\n",
       "    </tr>\n",
       "    <tr>\n",
       "      <th>4</th>\n",
       "      <td>C</td>\n",
       "      <td>41.015853</td>\n",
       "      <td>109.199443</td>\n",
       "      <td>9</td>\n",
       "      <td>2023-01-05</td>\n",
       "    </tr>\n",
       "    <tr>\n",
       "      <th>5</th>\n",
       "      <td>D</td>\n",
       "      <td>54.919192</td>\n",
       "      <td>86.445693</td>\n",
       "      <td>5</td>\n",
       "      <td>2023-01-06</td>\n",
       "    </tr>\n",
       "    <tr>\n",
       "      <th>6</th>\n",
       "      <td>A</td>\n",
       "      <td>36.797668</td>\n",
       "      <td>140.267745</td>\n",
       "      <td>2</td>\n",
       "      <td>2023-01-07</td>\n",
       "    </tr>\n",
       "    <tr>\n",
       "      <th>7</th>\n",
       "      <td>A</td>\n",
       "      <td>68.314588</td>\n",
       "      <td>102.730707</td>\n",
       "      <td>4</td>\n",
       "      <td>2023-01-08</td>\n",
       "    </tr>\n",
       "    <tr>\n",
       "      <th>8</th>\n",
       "      <td>C</td>\n",
       "      <td>61.794401</td>\n",
       "      <td>92.693569</td>\n",
       "      <td>9</td>\n",
       "      <td>2023-01-09</td>\n",
       "    </tr>\n",
       "    <tr>\n",
       "      <th>9</th>\n",
       "      <td>B</td>\n",
       "      <td>45.308243</td>\n",
       "      <td>103.693606</td>\n",
       "      <td>1</td>\n",
       "      <td>2023-01-10</td>\n",
       "    </tr>\n",
       "  </tbody>\n",
       "</table>\n",
       "</div>"
      ],
      "text/plain": [
       "  Categoria  estoque da loja1  Estoque da loja2  vendas       Data\n",
       "0         C         53.417560        126.034826       1 2023-01-01\n",
       "1         D         68.761708        131.230224       2 2023-01-02\n",
       "2         A         59.504238        100.640083       6 2023-01-03\n",
       "3         C         44.230963         84.931643       5 2023-01-04\n",
       "4         C         41.015853        109.199443       9 2023-01-05\n",
       "5         D         54.919192         86.445693       5 2023-01-06\n",
       "6         A         36.797668        140.267745       2 2023-01-07\n",
       "7         A         68.314588        102.730707       4 2023-01-08\n",
       "8         C         61.794401         92.693569       9 2023-01-09\n",
       "9         B         45.308243        103.693606       1 2023-01-10"
      ]
     },
     "execution_count": 15,
     "metadata": {},
     "output_type": "execute_result"
    }
   ],
   "source": [
    "df.head(10)"
   ]
  },
  {
   "cell_type": "code",
   "execution_count": 16,
   "metadata": {},
   "outputs": [
    {
     "name": "stdout",
     "output_type": "stream",
     "text": [
      "           estoque da loja1  Estoque da loja2\n",
      "Categoria                                    \n",
      "A                 50.290689        100.277620\n",
      "B                 50.749158         99.837544\n",
      "C                 50.652042        102.046140\n",
      "D                 50.011022        100.893619\n"
     ]
    }
   ],
   "source": [
    "agrupado_media = df.groupby('Categoria')[['estoque da loja1', 'Estoque da loja2']].mean() \n",
    "print(agrupado_media)"
   ]
  },
  {
   "cell_type": "code",
   "execution_count": 17,
   "metadata": {},
   "outputs": [],
   "source": [
    "df_agrupamento = df.groupby('Categoria').agg({'vendas': 'sum', 'Categoria': 'count'}).rename(columns={'Categoria': 'Contagem de agrupamento'})\n"
   ]
  },
  {
   "cell_type": "code",
   "execution_count": 18,
   "metadata": {},
   "outputs": [
    {
     "data": {
      "text/html": [
       "<div>\n",
       "<style scoped>\n",
       "    .dataframe tbody tr th:only-of-type {\n",
       "        vertical-align: middle;\n",
       "    }\n",
       "\n",
       "    .dataframe tbody tr th {\n",
       "        vertical-align: top;\n",
       "    }\n",
       "\n",
       "    .dataframe thead th {\n",
       "        text-align: right;\n",
       "    }\n",
       "</style>\n",
       "<table border=\"1\" class=\"dataframe\">\n",
       "  <thead>\n",
       "    <tr style=\"text-align: right;\">\n",
       "      <th></th>\n",
       "      <th>vendas</th>\n",
       "      <th>Contagem de agrupamento</th>\n",
       "    </tr>\n",
       "    <tr>\n",
       "      <th>Categoria</th>\n",
       "      <th></th>\n",
       "      <th></th>\n",
       "    </tr>\n",
       "  </thead>\n",
       "  <tbody>\n",
       "    <tr>\n",
       "      <th>A</th>\n",
       "      <td>1279</td>\n",
       "      <td>258</td>\n",
       "    </tr>\n",
       "    <tr>\n",
       "      <th>B</th>\n",
       "      <td>1188</td>\n",
       "      <td>230</td>\n",
       "    </tr>\n",
       "    <tr>\n",
       "      <th>C</th>\n",
       "      <td>1182</td>\n",
       "      <td>232</td>\n",
       "    </tr>\n",
       "    <tr>\n",
       "      <th>D</th>\n",
       "      <td>1365</td>\n",
       "      <td>280</td>\n",
       "    </tr>\n",
       "  </tbody>\n",
       "</table>\n",
       "</div>"
      ],
      "text/plain": [
       "           vendas  Contagem de agrupamento\n",
       "Categoria                                 \n",
       "A            1279                      258\n",
       "B            1188                      230\n",
       "C            1182                      232\n",
       "D            1365                      280"
      ]
     },
     "execution_count": 18,
     "metadata": {},
     "output_type": "execute_result"
    }
   ],
   "source": [
    "df_agrupamento"
   ]
  },
  {
   "cell_type": "code",
   "execution_count": 19,
   "metadata": {},
   "outputs": [],
   "source": [
    "import matplotlib.pyplot as plt"
   ]
  },
  {
   "cell_type": "code",
   "execution_count": 20,
   "metadata": {},
   "outputs": [
    {
     "data": {
      "image/png": "[encoded data removed]",
      "text/plain": [
       "<Figure size 640x480 with 1 Axes>"
      ]
     },
     "metadata": {},
     "output_type": "display_data"
    }
   ],
   "source": [
    "media_valor_1 = df.groupby('Categoria')['estoque da loja1'].mean()\n",
    "\n",
    "media_valor_1.plot(kind='bar', color='#4c7', title='Média de estoque da loja1 por Categoria')\n",
    "\n",
    "plt.xlabel('Categoria')\n",
    "\n",
    "plt.ylabel('estoque da loja1')\n",
    "\n",
    "plt.show()"
   ]
  }
 ],
 "metadata": {
  "kernelspec": {
   "display_name": "Python 3",
   "language": "python",
   "name": "python3"
  },
  "language_info": {
   "codemirror_mode": {
    "name": "ipython",
    "version": 3
   },
   "file_extension": ".py",
   "mimetype": "text/x-python",
   "name": "python",
   "nbconvert_exporter": "python",
   "pygments_lexer": "ipython3",
   "version": "3.12.3"
  }
 },
 "nbformat": 4,
 "nbformat_minor": 2
}
